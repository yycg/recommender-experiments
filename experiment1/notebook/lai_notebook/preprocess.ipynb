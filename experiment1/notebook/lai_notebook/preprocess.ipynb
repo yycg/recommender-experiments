{
 "cells": [
  {
   "cell_type": "code",
   "execution_count": 36,
   "metadata": {},
   "outputs": [],
   "source": [
    "import os\n",
    "\n",
    "import numpy as np\n",
    "import pandas as pd\n",
    "import sklearn.preprocessing"
   ]
  },
  {
   "cell_type": "markdown",
   "metadata": {},
   "source": [
    "## Preparation"
   ]
  },
  {
   "cell_type": "markdown",
   "metadata": {},
   "source": [
    "Constant definitions"
   ]
  },
  {
   "cell_type": "code",
   "execution_count": 34,
   "metadata": {},
   "outputs": [],
   "source": [
    "ORIGINAL_DIR = \"../original_data\"\n",
    "ORIGINAL_FRAPPE_DIR = os.path.join(ORIGINAL_DIR, \"frappe\")\n",
    "ORIGINAL_LASTFM_DIR = os.path.join(ORIGINAL_DIR, \"lastfm\")\n",
    "ORIGINAL_MEETUP_DIR = os.path.join(ORIGINAL_DIR, \"meetup\")\n",
    "\n",
    "OUT_DIR = \"../data\"\n",
    "OUT_FRAPPE_DIR = os.path.join(OUT_DIR, \"frappe\")\n",
    "OUT_LASTFM_DIR = os.path.join(OUT_DIR, \"lastfm\")\n",
    "OUT_MEETUP_DIR = os.path.join(OUT_DIR, \"meetup\")"
   ]
  },
  {
   "cell_type": "code",
   "execution_count": 41,
   "metadata": {},
   "outputs": [],
   "source": [
    "def cumulative_begin(labelencoders, *labels):\n",
    "    begin = 0\n",
    "    for label in labels:\n",
    "        begin += labelencoders[label].classes_.shape[0]\n",
    "    return begin\n"
   ]
  },
  {
   "cell_type": "code",
   "execution_count": 114,
   "metadata": {},
   "outputs": [],
   "source": [
    "def cumulative_count(counts, *labels):\n",
    "    begin = 0\n",
    "    for label in labels:\n",
    "        begin += counts[label]\n",
    "    return begin\n"
   ]
  },
  {
   "cell_type": "markdown",
   "metadata": {},
   "source": [
    "## Frappe dataset"
   ]
  },
  {
   "cell_type": "markdown",
   "metadata": {},
   "source": [
    "### Load originial dataset and detect column names"
   ]
  },
  {
   "cell_type": "code",
   "execution_count": 125,
   "metadata": {},
   "outputs": [
    {
     "name": "stdout",
     "output_type": "stream",
     "text": [
      "['user', 'daytime', 'weekday', 'isweekend', 'homework', 'weather', 'country', 'city']\n",
      "['item', 'cost']\n",
      "['user', 'daytime', 'weekday', 'isweekend', 'homework', 'weather', 'country', 'city', 'item', 'cost']\n"
     ]
    }
   ],
   "source": [
    "frappe_user_feature_columns = [\"user\", \"daytime\", \"weekday\", \"isweekend\", \"homework\", \"weather\", \"country\", \"city\"]\n",
    "frappe_item_feature_columns = [\"item\", \"cost\"]\n",
    "frappe_names = frappe_user_feature_columns + frappe_item_feature_columns\n",
    "\n",
    "print(frappe_user_feature_columns)\n",
    "print(frappe_item_feature_columns)\n",
    "print(frappe_names)"
   ]
  },
  {
   "cell_type": "code",
   "execution_count": 19,
   "metadata": {},
   "outputs": [
    {
     "name": "stdout",
     "output_type": "stream",
     "text": [
      "(92808, 10)\n"
     ]
    },
    {
     "data": {
      "text/html": [
       "<div>\n",
       "<style scoped>\n",
       "    .dataframe tbody tr th:only-of-type {\n",
       "        vertical-align: middle;\n",
       "    }\n",
       "\n",
       "    .dataframe tbody tr th {\n",
       "        vertical-align: top;\n",
       "    }\n",
       "\n",
       "    .dataframe thead th {\n",
       "        text-align: right;\n",
       "    }\n",
       "</style>\n",
       "<table border=\"1\" class=\"dataframe\">\n",
       "  <thead>\n",
       "    <tr style=\"text-align: right;\">\n",
       "      <th></th>\n",
       "      <th>user</th>\n",
       "      <th>daytime</th>\n",
       "      <th>weekday</th>\n",
       "      <th>isweekend</th>\n",
       "      <th>homework</th>\n",
       "      <th>weather</th>\n",
       "      <th>country</th>\n",
       "      <th>city</th>\n",
       "      <th>item</th>\n",
       "      <th>cost</th>\n",
       "    </tr>\n",
       "  </thead>\n",
       "  <tbody>\n",
       "    <tr>\n",
       "      <td>0</td>\n",
       "      <td>187</td>\n",
       "      <td>958</td>\n",
       "      <td>967</td>\n",
       "      <td>972</td>\n",
       "      <td>973</td>\n",
       "      <td>977</td>\n",
       "      <td>993</td>\n",
       "      <td>1071</td>\n",
       "      <td>72</td>\n",
       "      <td>4083</td>\n",
       "    </tr>\n",
       "    <tr>\n",
       "      <td>1</td>\n",
       "      <td>195</td>\n",
       "      <td>957</td>\n",
       "      <td>970</td>\n",
       "      <td>972</td>\n",
       "      <td>973</td>\n",
       "      <td>980</td>\n",
       "      <td>1023</td>\n",
       "      <td>1129</td>\n",
       "      <td>49</td>\n",
       "      <td>4082</td>\n",
       "    </tr>\n",
       "    <tr>\n",
       "      <td>2</td>\n",
       "      <td>223</td>\n",
       "      <td>959</td>\n",
       "      <td>966</td>\n",
       "      <td>972</td>\n",
       "      <td>973</td>\n",
       "      <td>977</td>\n",
       "      <td>1001</td>\n",
       "      <td>1146</td>\n",
       "      <td>1285</td>\n",
       "      <td>4082</td>\n",
       "    </tr>\n",
       "    <tr>\n",
       "      <td>3</td>\n",
       "      <td>468</td>\n",
       "      <td>962</td>\n",
       "      <td>966</td>\n",
       "      <td>972</td>\n",
       "      <td>973</td>\n",
       "      <td>981</td>\n",
       "      <td>1033</td>\n",
       "      <td>1204</td>\n",
       "      <td>16</td>\n",
       "      <td>4082</td>\n",
       "    </tr>\n",
       "    <tr>\n",
       "      <td>4</td>\n",
       "      <td>12</td>\n",
       "      <td>961</td>\n",
       "      <td>967</td>\n",
       "      <td>972</td>\n",
       "      <td>973</td>\n",
       "      <td>978</td>\n",
       "      <td>990</td>\n",
       "      <td>1065</td>\n",
       "      <td>24</td>\n",
       "      <td>4082</td>\n",
       "    </tr>\n",
       "  </tbody>\n",
       "</table>\n",
       "</div>"
      ],
      "text/plain": [
       "   user  daytime  weekday  isweekend  homework  weather  country  city  item  \\\n",
       "0   187      958      967        972       973      977      993  1071    72   \n",
       "1   195      957      970        972       973      980     1023  1129    49   \n",
       "2   223      959      966        972       973      977     1001  1146  1285   \n",
       "3   468      962      966        972       973      981     1033  1204    16   \n",
       "4    12      961      967        972       973      978      990  1065    24   \n",
       "\n",
       "   cost  \n",
       "0  4083  \n",
       "1  4082  \n",
       "2  4082  \n",
       "3  4082  \n",
       "4  4082  "
      ]
     },
     "execution_count": 19,
     "metadata": {},
     "output_type": "execute_result"
    }
   ],
   "source": [
    "df_frappe_train = pd.read_csv(os.path.join(ORIGINAL_FRAPPE_DIR, \"train.csv\"),\n",
    "                                 sep=\"[,-]\", engine=\"python\",\n",
    "                                 header=None, names=frappe_names)\n",
    "print(df_frappe_train.shape)\n",
    "df_frappe_train.head()"
   ]
  },
  {
   "cell_type": "code",
   "execution_count": 20,
   "metadata": {
    "scrolled": true
   },
   "outputs": [
    {
     "name": "stdout",
     "output_type": "stream",
     "text": [
      "(3387, 10)\n"
     ]
    },
    {
     "data": {
      "text/html": [
       "<div>\n",
       "<style scoped>\n",
       "    .dataframe tbody tr th:only-of-type {\n",
       "        vertical-align: middle;\n",
       "    }\n",
       "\n",
       "    .dataframe tbody tr th {\n",
       "        vertical-align: top;\n",
       "    }\n",
       "\n",
       "    .dataframe thead th {\n",
       "        text-align: right;\n",
       "    }\n",
       "</style>\n",
       "<table border=\"1\" class=\"dataframe\">\n",
       "  <thead>\n",
       "    <tr style=\"text-align: right;\">\n",
       "      <th></th>\n",
       "      <th>user</th>\n",
       "      <th>daytime</th>\n",
       "      <th>weekday</th>\n",
       "      <th>isweekend</th>\n",
       "      <th>homework</th>\n",
       "      <th>weather</th>\n",
       "      <th>country</th>\n",
       "      <th>city</th>\n",
       "      <th>item</th>\n",
       "      <th>cost</th>\n",
       "    </tr>\n",
       "  </thead>\n",
       "  <tbody>\n",
       "    <tr>\n",
       "      <td>0</td>\n",
       "      <td>43</td>\n",
       "      <td>958</td>\n",
       "      <td>966</td>\n",
       "      <td>972</td>\n",
       "      <td>973</td>\n",
       "      <td>976</td>\n",
       "      <td>985</td>\n",
       "      <td>1168</td>\n",
       "      <td>25</td>\n",
       "      <td>4082</td>\n",
       "    </tr>\n",
       "    <tr>\n",
       "      <td>1</td>\n",
       "      <td>213</td>\n",
       "      <td>959</td>\n",
       "      <td>965</td>\n",
       "      <td>971</td>\n",
       "      <td>973</td>\n",
       "      <td>977</td>\n",
       "      <td>1003</td>\n",
       "      <td>1065</td>\n",
       "      <td>1196</td>\n",
       "      <td>4082</td>\n",
       "    </tr>\n",
       "    <tr>\n",
       "      <td>2</td>\n",
       "      <td>169</td>\n",
       "      <td>961</td>\n",
       "      <td>964</td>\n",
       "      <td>971</td>\n",
       "      <td>973</td>\n",
       "      <td>977</td>\n",
       "      <td>985</td>\n",
       "      <td>1122</td>\n",
       "      <td>136</td>\n",
       "      <td>4082</td>\n",
       "    </tr>\n",
       "    <tr>\n",
       "      <td>3</td>\n",
       "      <td>242</td>\n",
       "      <td>957</td>\n",
       "      <td>967</td>\n",
       "      <td>972</td>\n",
       "      <td>973</td>\n",
       "      <td>977</td>\n",
       "      <td>1003</td>\n",
       "      <td>1153</td>\n",
       "      <td>0</td>\n",
       "      <td>4082</td>\n",
       "    </tr>\n",
       "    <tr>\n",
       "      <td>4</td>\n",
       "      <td>366</td>\n",
       "      <td>957</td>\n",
       "      <td>966</td>\n",
       "      <td>972</td>\n",
       "      <td>973</td>\n",
       "      <td>977</td>\n",
       "      <td>1036</td>\n",
       "      <td>1196</td>\n",
       "      <td>3759</td>\n",
       "      <td>4082</td>\n",
       "    </tr>\n",
       "  </tbody>\n",
       "</table>\n",
       "</div>"
      ],
      "text/plain": [
       "   user  daytime  weekday  isweekend  homework  weather  country  city  item  \\\n",
       "0    43      958      966        972       973      976      985  1168    25   \n",
       "1   213      959      965        971       973      977     1003  1065  1196   \n",
       "2   169      961      964        971       973      977      985  1122   136   \n",
       "3   242      957      967        972       973      977     1003  1153     0   \n",
       "4   366      957      966        972       973      977     1036  1196  3759   \n",
       "\n",
       "   cost  \n",
       "0  4082  \n",
       "1  4082  \n",
       "2  4082  \n",
       "3  4082  \n",
       "4  4082  "
      ]
     },
     "execution_count": 20,
     "metadata": {},
     "output_type": "execute_result"
    }
   ],
   "source": [
    "df_frappe_test = pd.read_csv(os.path.join(ORIGINAL_FRAPPE_DIR, \"test.csv\"),\n",
    "                                 sep=\"[,-]\", engine=\"python\",\n",
    "                                 header=None, names=frappe_names)\n",
    "print(df_frappe_test.shape)\n",
    "df_frappe_test.head()"
   ]
  },
  {
   "cell_type": "code",
   "execution_count": 21,
   "metadata": {},
   "outputs": [
    {
     "name": "stdout",
     "output_type": "stream",
     "text": [
      "(96195, 10)\n"
     ]
    },
    {
     "data": {
      "text/html": [
       "<div>\n",
       "<style scoped>\n",
       "    .dataframe tbody tr th:only-of-type {\n",
       "        vertical-align: middle;\n",
       "    }\n",
       "\n",
       "    .dataframe tbody tr th {\n",
       "        vertical-align: top;\n",
       "    }\n",
       "\n",
       "    .dataframe thead th {\n",
       "        text-align: right;\n",
       "    }\n",
       "</style>\n",
       "<table border=\"1\" class=\"dataframe\">\n",
       "  <thead>\n",
       "    <tr style=\"text-align: right;\">\n",
       "      <th></th>\n",
       "      <th>user</th>\n",
       "      <th>daytime</th>\n",
       "      <th>weekday</th>\n",
       "      <th>isweekend</th>\n",
       "      <th>homework</th>\n",
       "      <th>weather</th>\n",
       "      <th>country</th>\n",
       "      <th>city</th>\n",
       "      <th>item</th>\n",
       "      <th>cost</th>\n",
       "    </tr>\n",
       "  </thead>\n",
       "  <tbody>\n",
       "    <tr>\n",
       "      <td>0</td>\n",
       "      <td>187</td>\n",
       "      <td>958</td>\n",
       "      <td>967</td>\n",
       "      <td>972</td>\n",
       "      <td>973</td>\n",
       "      <td>977</td>\n",
       "      <td>993</td>\n",
       "      <td>1071</td>\n",
       "      <td>72</td>\n",
       "      <td>4083</td>\n",
       "    </tr>\n",
       "    <tr>\n",
       "      <td>1</td>\n",
       "      <td>195</td>\n",
       "      <td>957</td>\n",
       "      <td>970</td>\n",
       "      <td>972</td>\n",
       "      <td>973</td>\n",
       "      <td>980</td>\n",
       "      <td>1023</td>\n",
       "      <td>1129</td>\n",
       "      <td>49</td>\n",
       "      <td>4082</td>\n",
       "    </tr>\n",
       "    <tr>\n",
       "      <td>2</td>\n",
       "      <td>223</td>\n",
       "      <td>959</td>\n",
       "      <td>966</td>\n",
       "      <td>972</td>\n",
       "      <td>973</td>\n",
       "      <td>977</td>\n",
       "      <td>1001</td>\n",
       "      <td>1146</td>\n",
       "      <td>1285</td>\n",
       "      <td>4082</td>\n",
       "    </tr>\n",
       "    <tr>\n",
       "      <td>3</td>\n",
       "      <td>468</td>\n",
       "      <td>962</td>\n",
       "      <td>966</td>\n",
       "      <td>972</td>\n",
       "      <td>973</td>\n",
       "      <td>981</td>\n",
       "      <td>1033</td>\n",
       "      <td>1204</td>\n",
       "      <td>16</td>\n",
       "      <td>4082</td>\n",
       "    </tr>\n",
       "    <tr>\n",
       "      <td>4</td>\n",
       "      <td>12</td>\n",
       "      <td>961</td>\n",
       "      <td>967</td>\n",
       "      <td>972</td>\n",
       "      <td>973</td>\n",
       "      <td>978</td>\n",
       "      <td>990</td>\n",
       "      <td>1065</td>\n",
       "      <td>24</td>\n",
       "      <td>4082</td>\n",
       "    </tr>\n",
       "  </tbody>\n",
       "</table>\n",
       "</div>"
      ],
      "text/plain": [
       "   user  daytime  weekday  isweekend  homework  weather  country  city  item  \\\n",
       "0   187      958      967        972       973      977      993  1071    72   \n",
       "1   195      957      970        972       973      980     1023  1129    49   \n",
       "2   223      959      966        972       973      977     1001  1146  1285   \n",
       "3   468      962      966        972       973      981     1033  1204    16   \n",
       "4    12      961      967        972       973      978      990  1065    24   \n",
       "\n",
       "   cost  \n",
       "0  4083  \n",
       "1  4082  \n",
       "2  4082  \n",
       "3  4082  \n",
       "4  4082  "
      ]
     },
     "execution_count": 21,
     "metadata": {},
     "output_type": "execute_result"
    }
   ],
   "source": [
    "df_frappe = pd.concat([df_frappe_train, df_frappe_test])\n",
    "print(df_frappe.shape)\n",
    "df_frappe.head()"
   ]
  },
  {
   "cell_type": "markdown",
   "metadata": {},
   "source": [
    "#### Check column name detection"
   ]
  },
  {
   "cell_type": "code",
   "execution_count": 23,
   "metadata": {},
   "outputs": [
    {
     "name": "stdout",
     "output_type": "stream",
     "text": [
      "user: 957 items, numbered from 0 to 956\n",
      "daytime: 7 items, numbered from 957 to 963\n",
      "weekday: 7 items, numbered from 964 to 970\n",
      "isweekend: 2 items, numbered from 971 to 972\n",
      "homework: 3 items, numbered from 973 to 975\n",
      "weather: 9 items, numbered from 976 to 984\n",
      "country: 80 items, numbered from 985 to 1064\n",
      "city: 233 items, numbered from 1065 to 1297\n",
      "item: 4082 items, numbered from 0 to 4081\n",
      "cost: 2 items, numbered from 4082 to 4083\n"
     ]
    }
   ],
   "source": [
    "for column in detecting_names:\n",
    "    print(\"{0}: {1} items, numbered from {2} to {3}\".format(column,\n",
    "                                                            df_frappe[column].drop_duplicates().count(),\n",
    "                                                            df_frappe[column].min(),\n",
    "                                                            df_frappe[column].max()))"
   ]
  },
  {
   "cell_type": "markdown",
   "metadata": {},
   "source": [
    "#### Check user/item feature combination"
   ]
  },
  {
   "cell_type": "code",
   "execution_count": 126,
   "metadata": {},
   "outputs": [
    {
     "data": {
      "text/plain": [
       "user         29770\n",
       "daytime      29770\n",
       "weekday      29770\n",
       "isweekend    29770\n",
       "homework     29770\n",
       "weather      29770\n",
       "country      29770\n",
       "city         29770\n",
       "dtype: int64"
      ]
     },
     "execution_count": 126,
     "metadata": {},
     "output_type": "execute_result"
    }
   ],
   "source": [
    "df_frappe[frappe_user_feature_columns].drop_duplicates().count()"
   ]
  },
  {
   "cell_type": "code",
   "execution_count": 127,
   "metadata": {},
   "outputs": [
    {
     "data": {
      "text/plain": [
       "item    4082\n",
       "cost    4082\n",
       "dtype: int64"
      ]
     },
     "execution_count": 127,
     "metadata": {},
     "output_type": "execute_result"
    }
   ],
   "source": [
    "df_frappe[frappe_item_feature_columns].drop_duplicates().count()"
   ]
  },
  {
   "cell_type": "markdown",
   "metadata": {},
   "source": [
    "### Re-label features"
   ]
  },
  {
   "cell_type": "code",
   "execution_count": 129,
   "metadata": {},
   "outputs": [
    {
     "name": "stdout",
     "output_type": "stream",
     "text": [
      "user: (957,) items\n",
      "daytime: (7,) items\n",
      "weekday: (7,) items\n",
      "isweekend: (2,) items\n",
      "homework: (3,) items\n",
      "weather: (9,) items\n",
      "country: (80,) items\n",
      "city: (233,) items\n",
      "item: (4082,) items\n",
      "cost: (2,) items\n"
     ]
    }
   ],
   "source": [
    "frappe_labelencoders = dict()\n",
    "for column in frappe_names:\n",
    "    frappe_labelencoders[column] = sklearn.preprocessing.LabelEncoder().fit(df_frappe[column])\n",
    "    print(\"{0}: {1} items\".format(column, frappe_labelencoders[column].classes_.shape))\n"
   ]
  },
  {
   "cell_type": "code",
   "execution_count": 130,
   "metadata": {},
   "outputs": [
    {
     "name": "stdout",
     "output_type": "stream",
     "text": [
      "(92808, 10)\n"
     ]
    },
    {
     "data": {
      "text/html": [
       "<div>\n",
       "<style scoped>\n",
       "    .dataframe tbody tr th:only-of-type {\n",
       "        vertical-align: middle;\n",
       "    }\n",
       "\n",
       "    .dataframe tbody tr th {\n",
       "        vertical-align: top;\n",
       "    }\n",
       "\n",
       "    .dataframe thead th {\n",
       "        text-align: right;\n",
       "    }\n",
       "</style>\n",
       "<table border=\"1\" class=\"dataframe\">\n",
       "  <thead>\n",
       "    <tr style=\"text-align: right;\">\n",
       "      <th></th>\n",
       "      <th>user</th>\n",
       "      <th>daytime</th>\n",
       "      <th>weekday</th>\n",
       "      <th>isweekend</th>\n",
       "      <th>homework</th>\n",
       "      <th>weather</th>\n",
       "      <th>country</th>\n",
       "      <th>city</th>\n",
       "      <th>item</th>\n",
       "      <th>cost</th>\n",
       "    </tr>\n",
       "  </thead>\n",
       "  <tbody>\n",
       "    <tr>\n",
       "      <td>0</td>\n",
       "      <td>187</td>\n",
       "      <td>1</td>\n",
       "      <td>3</td>\n",
       "      <td>1</td>\n",
       "      <td>0</td>\n",
       "      <td>1</td>\n",
       "      <td>8</td>\n",
       "      <td>6</td>\n",
       "      <td>72</td>\n",
       "      <td>1</td>\n",
       "    </tr>\n",
       "    <tr>\n",
       "      <td>1</td>\n",
       "      <td>195</td>\n",
       "      <td>0</td>\n",
       "      <td>6</td>\n",
       "      <td>1</td>\n",
       "      <td>0</td>\n",
       "      <td>4</td>\n",
       "      <td>38</td>\n",
       "      <td>64</td>\n",
       "      <td>49</td>\n",
       "      <td>0</td>\n",
       "    </tr>\n",
       "    <tr>\n",
       "      <td>2</td>\n",
       "      <td>223</td>\n",
       "      <td>2</td>\n",
       "      <td>2</td>\n",
       "      <td>1</td>\n",
       "      <td>0</td>\n",
       "      <td>1</td>\n",
       "      <td>16</td>\n",
       "      <td>81</td>\n",
       "      <td>1285</td>\n",
       "      <td>0</td>\n",
       "    </tr>\n",
       "    <tr>\n",
       "      <td>3</td>\n",
       "      <td>468</td>\n",
       "      <td>5</td>\n",
       "      <td>2</td>\n",
       "      <td>1</td>\n",
       "      <td>0</td>\n",
       "      <td>5</td>\n",
       "      <td>48</td>\n",
       "      <td>139</td>\n",
       "      <td>16</td>\n",
       "      <td>0</td>\n",
       "    </tr>\n",
       "    <tr>\n",
       "      <td>4</td>\n",
       "      <td>12</td>\n",
       "      <td>4</td>\n",
       "      <td>3</td>\n",
       "      <td>1</td>\n",
       "      <td>0</td>\n",
       "      <td>2</td>\n",
       "      <td>5</td>\n",
       "      <td>0</td>\n",
       "      <td>24</td>\n",
       "      <td>0</td>\n",
       "    </tr>\n",
       "  </tbody>\n",
       "</table>\n",
       "</div>"
      ],
      "text/plain": [
       "   user  daytime  weekday  isweekend  homework  weather  country  city  item  \\\n",
       "0   187        1        3          1         0        1        8     6    72   \n",
       "1   195        0        6          1         0        4       38    64    49   \n",
       "2   223        2        2          1         0        1       16    81  1285   \n",
       "3   468        5        2          1         0        5       48   139    16   \n",
       "4    12        4        3          1         0        2        5     0    24   \n",
       "\n",
       "   cost  \n",
       "0     1  \n",
       "1     0  \n",
       "2     0  \n",
       "3     0  \n",
       "4     0  "
      ]
     },
     "execution_count": 130,
     "metadata": {},
     "output_type": "execute_result"
    }
   ],
   "source": [
    "relabeled_frappe_train = pd.DataFrame({column: frappe_labelencoders[column].transform(df_frappe_train[column])\n",
    "                                      for column in frappe_names}, columns=frappe_names)\n",
    "print(relabeled_frappe_train.shape)\n",
    "relabeled_frappe_train.head()"
   ]
  },
  {
   "cell_type": "code",
   "execution_count": 131,
   "metadata": {},
   "outputs": [
    {
     "name": "stdout",
     "output_type": "stream",
     "text": [
      "(3387, 10)\n"
     ]
    },
    {
     "data": {
      "text/html": [
       "<div>\n",
       "<style scoped>\n",
       "    .dataframe tbody tr th:only-of-type {\n",
       "        vertical-align: middle;\n",
       "    }\n",
       "\n",
       "    .dataframe tbody tr th {\n",
       "        vertical-align: top;\n",
       "    }\n",
       "\n",
       "    .dataframe thead th {\n",
       "        text-align: right;\n",
       "    }\n",
       "</style>\n",
       "<table border=\"1\" class=\"dataframe\">\n",
       "  <thead>\n",
       "    <tr style=\"text-align: right;\">\n",
       "      <th></th>\n",
       "      <th>user</th>\n",
       "      <th>daytime</th>\n",
       "      <th>weekday</th>\n",
       "      <th>isweekend</th>\n",
       "      <th>homework</th>\n",
       "      <th>weather</th>\n",
       "      <th>country</th>\n",
       "      <th>city</th>\n",
       "      <th>item</th>\n",
       "      <th>cost</th>\n",
       "    </tr>\n",
       "  </thead>\n",
       "  <tbody>\n",
       "    <tr>\n",
       "      <td>0</td>\n",
       "      <td>43</td>\n",
       "      <td>1</td>\n",
       "      <td>2</td>\n",
       "      <td>1</td>\n",
       "      <td>0</td>\n",
       "      <td>0</td>\n",
       "      <td>0</td>\n",
       "      <td>103</td>\n",
       "      <td>25</td>\n",
       "      <td>0</td>\n",
       "    </tr>\n",
       "    <tr>\n",
       "      <td>1</td>\n",
       "      <td>213</td>\n",
       "      <td>2</td>\n",
       "      <td>1</td>\n",
       "      <td>0</td>\n",
       "      <td>0</td>\n",
       "      <td>1</td>\n",
       "      <td>18</td>\n",
       "      <td>0</td>\n",
       "      <td>1196</td>\n",
       "      <td>0</td>\n",
       "    </tr>\n",
       "    <tr>\n",
       "      <td>2</td>\n",
       "      <td>169</td>\n",
       "      <td>4</td>\n",
       "      <td>0</td>\n",
       "      <td>0</td>\n",
       "      <td>0</td>\n",
       "      <td>1</td>\n",
       "      <td>0</td>\n",
       "      <td>57</td>\n",
       "      <td>136</td>\n",
       "      <td>0</td>\n",
       "    </tr>\n",
       "    <tr>\n",
       "      <td>3</td>\n",
       "      <td>242</td>\n",
       "      <td>0</td>\n",
       "      <td>3</td>\n",
       "      <td>1</td>\n",
       "      <td>0</td>\n",
       "      <td>1</td>\n",
       "      <td>18</td>\n",
       "      <td>88</td>\n",
       "      <td>0</td>\n",
       "      <td>0</td>\n",
       "    </tr>\n",
       "    <tr>\n",
       "      <td>4</td>\n",
       "      <td>366</td>\n",
       "      <td>0</td>\n",
       "      <td>2</td>\n",
       "      <td>1</td>\n",
       "      <td>0</td>\n",
       "      <td>1</td>\n",
       "      <td>51</td>\n",
       "      <td>131</td>\n",
       "      <td>3759</td>\n",
       "      <td>0</td>\n",
       "    </tr>\n",
       "  </tbody>\n",
       "</table>\n",
       "</div>"
      ],
      "text/plain": [
       "   user  daytime  weekday  isweekend  homework  weather  country  city  item  \\\n",
       "0    43        1        2          1         0        0        0   103    25   \n",
       "1   213        2        1          0         0        1       18     0  1196   \n",
       "2   169        4        0          0         0        1        0    57   136   \n",
       "3   242        0        3          1         0        1       18    88     0   \n",
       "4   366        0        2          1         0        1       51   131  3759   \n",
       "\n",
       "   cost  \n",
       "0     0  \n",
       "1     0  \n",
       "2     0  \n",
       "3     0  \n",
       "4     0  "
      ]
     },
     "execution_count": 131,
     "metadata": {},
     "output_type": "execute_result"
    }
   ],
   "source": [
    "relabeled_frappe_test = pd.DataFrame({column: frappe_labelencoders[column].transform(df_frappe_test[column])\n",
    "                                      for column in frappe_names}, columns=frappe_names)\n",
    "print(relabeled_frappe_test.shape)\n",
    "relabeled_frappe_test.head()"
   ]
  },
  {
   "cell_type": "markdown",
   "metadata": {},
   "source": [
    "### Save as DeepCTR-compatible format"
   ]
  },
  {
   "cell_type": "code",
   "execution_count": 59,
   "metadata": {},
   "outputs": [],
   "source": [
    "relabled_frappe_train.to_csv(os.path.join(OUT_FRAPPE_DIR, \"deepctr.train.tsv\"), sep='\\t',\n",
    "                             index=False)"
   ]
  },
  {
   "cell_type": "code",
   "execution_count": 60,
   "metadata": {},
   "outputs": [],
   "source": [
    "relabled_frappe_test.to_csv(os.path.join(OUT_FRAPPE_DIR, \"deepctr.test.tsv\"), sep='\\t',\n",
    "                             index=False)"
   ]
  },
  {
   "cell_type": "markdown",
   "metadata": {},
   "source": [
    "### Save as IFM format"
   ]
  },
  {
   "cell_type": "code",
   "execution_count": null,
   "metadata": {},
   "outputs": [],
   "source": []
  },
  {
   "cell_type": "markdown",
   "metadata": {},
   "source": [
    "### Save as CFM format"
   ]
  },
  {
   "cell_type": "code",
   "execution_count": 44,
   "metadata": {},
   "outputs": [
    {
     "name": "stdout",
     "output_type": "stream",
     "text": [
      "(92808, 10)\n"
     ]
    },
    {
     "data": {
      "text/html": [
       "<div>\n",
       "<style scoped>\n",
       "    .dataframe tbody tr th:only-of-type {\n",
       "        vertical-align: middle;\n",
       "    }\n",
       "\n",
       "    .dataframe tbody tr th {\n",
       "        vertical-align: top;\n",
       "    }\n",
       "\n",
       "    .dataframe thead th {\n",
       "        text-align: right;\n",
       "    }\n",
       "</style>\n",
       "<table border=\"1\" class=\"dataframe\">\n",
       "  <thead>\n",
       "    <tr style=\"text-align: right;\">\n",
       "      <th></th>\n",
       "      <th>user</th>\n",
       "      <th>daytime</th>\n",
       "      <th>weekday</th>\n",
       "      <th>isweekend</th>\n",
       "      <th>homework</th>\n",
       "      <th>weather</th>\n",
       "      <th>country</th>\n",
       "      <th>city</th>\n",
       "      <th>item</th>\n",
       "      <th>cost</th>\n",
       "    </tr>\n",
       "  </thead>\n",
       "  <tbody>\n",
       "    <tr>\n",
       "      <td>0</td>\n",
       "      <td>187</td>\n",
       "      <td>958</td>\n",
       "      <td>967</td>\n",
       "      <td>972</td>\n",
       "      <td>973</td>\n",
       "      <td>977</td>\n",
       "      <td>993</td>\n",
       "      <td>1071</td>\n",
       "      <td>72</td>\n",
       "      <td>4083</td>\n",
       "    </tr>\n",
       "    <tr>\n",
       "      <td>1</td>\n",
       "      <td>195</td>\n",
       "      <td>957</td>\n",
       "      <td>970</td>\n",
       "      <td>972</td>\n",
       "      <td>973</td>\n",
       "      <td>980</td>\n",
       "      <td>1023</td>\n",
       "      <td>1129</td>\n",
       "      <td>49</td>\n",
       "      <td>4082</td>\n",
       "    </tr>\n",
       "    <tr>\n",
       "      <td>2</td>\n",
       "      <td>223</td>\n",
       "      <td>959</td>\n",
       "      <td>966</td>\n",
       "      <td>972</td>\n",
       "      <td>973</td>\n",
       "      <td>977</td>\n",
       "      <td>1001</td>\n",
       "      <td>1146</td>\n",
       "      <td>1285</td>\n",
       "      <td>4082</td>\n",
       "    </tr>\n",
       "    <tr>\n",
       "      <td>3</td>\n",
       "      <td>468</td>\n",
       "      <td>962</td>\n",
       "      <td>966</td>\n",
       "      <td>972</td>\n",
       "      <td>973</td>\n",
       "      <td>981</td>\n",
       "      <td>1033</td>\n",
       "      <td>1204</td>\n",
       "      <td>16</td>\n",
       "      <td>4082</td>\n",
       "    </tr>\n",
       "    <tr>\n",
       "      <td>4</td>\n",
       "      <td>12</td>\n",
       "      <td>961</td>\n",
       "      <td>967</td>\n",
       "      <td>972</td>\n",
       "      <td>973</td>\n",
       "      <td>978</td>\n",
       "      <td>990</td>\n",
       "      <td>1065</td>\n",
       "      <td>24</td>\n",
       "      <td>4082</td>\n",
       "    </tr>\n",
       "  </tbody>\n",
       "</table>\n",
       "</div>"
      ],
      "text/plain": [
       "   user  daytime  weekday  isweekend  homework  weather  country  city  item  \\\n",
       "0   187      958      967        972       973      977      993  1071    72   \n",
       "1   195      957      970        972       973      980     1023  1129    49   \n",
       "2   223      959      966        972       973      977     1001  1146  1285   \n",
       "3   468      962      966        972       973      981     1033  1204    16   \n",
       "4    12      961      967        972       973      978      990  1065    24   \n",
       "\n",
       "   cost  \n",
       "0  4083  \n",
       "1  4082  \n",
       "2  4082  \n",
       "3  4082  \n",
       "4  4082  "
      ]
     },
     "execution_count": 44,
     "metadata": {},
     "output_type": "execute_result"
    }
   ],
   "source": [
    "cfm_frappe_train = pd.DataFrame({\n",
    "    \"user\": relabled_frappe_train[\"user\"],\n",
    "    \"daytime\": relabled_frappe_train[\"daytime\"] + cumulative_begin(labelencoders, \"user\"),\n",
    "    \"weekday\": relabled_frappe_train[\"weekday\"] + cumulative_begin(labelencoders, \"user\", \"daytime\"),\n",
    "    \"isweekend\": relabled_frappe_train[\"isweekend\"] + cumulative_begin(labelencoders, \"user\", \"daytime\", \"weekday\"),\n",
    "    \"homework\": relabled_frappe_train[\"homework\"] + cumulative_begin(labelencoders,\n",
    "                                                                     \"user\", \"daytime\", \"weekday\", \"isweekend\"),\n",
    "    \"weather\": relabled_frappe_train[\"weather\"] + cumulative_begin(labelencoders,\n",
    "                                                                   \"user\", \"daytime\", \"weekday\", \"isweekend\",\n",
    "                                                                   \"homework\"),\n",
    "    \"country\": relabled_frappe_train[\"country\"] + cumulative_begin(labelencoders,\n",
    "                                                                   \"user\", \"daytime\", \"weekday\", \"isweekend\",\n",
    "                                                                   \"homework\", \"weather\"),\n",
    "    \"city\": relabled_frappe_train[\"city\"] + cumulative_begin(labelencoders,\n",
    "                                                             \"user\", \"daytime\", \"weekday\", \"isweekend\",\n",
    "                                                             \"homework\", \"weather\", \"country\"),\n",
    "\n",
    "    \"item\": relabled_frappe_train[\"item\"],\n",
    "    \"cost\": relabled_frappe_train[\"cost\"] + cumulative_begin(labelencoders, \"item\")\n",
    "}, columns=frappe_names)\n",
    "print(cfm_frappe_train.shape)\n",
    "cfm_frappe_train.head()"
   ]
  },
  {
   "cell_type": "code",
   "execution_count": 47,
   "metadata": {},
   "outputs": [],
   "source": [
    "cfm_frappe_train.to_csv(os.path.join(OUT_FRAPPE_DIR, \"cfm.train.tsv\"), sep='\\t',\n",
    "                          index=False)"
   ]
  },
  {
   "cell_type": "code",
   "execution_count": 45,
   "metadata": {},
   "outputs": [
    {
     "name": "stdout",
     "output_type": "stream",
     "text": [
      "(3387, 10)\n"
     ]
    },
    {
     "data": {
      "text/html": [
       "<div>\n",
       "<style scoped>\n",
       "    .dataframe tbody tr th:only-of-type {\n",
       "        vertical-align: middle;\n",
       "    }\n",
       "\n",
       "    .dataframe tbody tr th {\n",
       "        vertical-align: top;\n",
       "    }\n",
       "\n",
       "    .dataframe thead th {\n",
       "        text-align: right;\n",
       "    }\n",
       "</style>\n",
       "<table border=\"1\" class=\"dataframe\">\n",
       "  <thead>\n",
       "    <tr style=\"text-align: right;\">\n",
       "      <th></th>\n",
       "      <th>user</th>\n",
       "      <th>daytime</th>\n",
       "      <th>weekday</th>\n",
       "      <th>isweekend</th>\n",
       "      <th>homework</th>\n",
       "      <th>weather</th>\n",
       "      <th>country</th>\n",
       "      <th>city</th>\n",
       "      <th>item</th>\n",
       "      <th>cost</th>\n",
       "    </tr>\n",
       "  </thead>\n",
       "  <tbody>\n",
       "    <tr>\n",
       "      <td>0</td>\n",
       "      <td>43</td>\n",
       "      <td>958</td>\n",
       "      <td>966</td>\n",
       "      <td>972</td>\n",
       "      <td>973</td>\n",
       "      <td>976</td>\n",
       "      <td>985</td>\n",
       "      <td>1168</td>\n",
       "      <td>25</td>\n",
       "      <td>4082</td>\n",
       "    </tr>\n",
       "    <tr>\n",
       "      <td>1</td>\n",
       "      <td>213</td>\n",
       "      <td>959</td>\n",
       "      <td>965</td>\n",
       "      <td>971</td>\n",
       "      <td>973</td>\n",
       "      <td>977</td>\n",
       "      <td>1003</td>\n",
       "      <td>1065</td>\n",
       "      <td>1196</td>\n",
       "      <td>4082</td>\n",
       "    </tr>\n",
       "    <tr>\n",
       "      <td>2</td>\n",
       "      <td>169</td>\n",
       "      <td>961</td>\n",
       "      <td>964</td>\n",
       "      <td>971</td>\n",
       "      <td>973</td>\n",
       "      <td>977</td>\n",
       "      <td>985</td>\n",
       "      <td>1122</td>\n",
       "      <td>136</td>\n",
       "      <td>4082</td>\n",
       "    </tr>\n",
       "    <tr>\n",
       "      <td>3</td>\n",
       "      <td>242</td>\n",
       "      <td>957</td>\n",
       "      <td>967</td>\n",
       "      <td>972</td>\n",
       "      <td>973</td>\n",
       "      <td>977</td>\n",
       "      <td>1003</td>\n",
       "      <td>1153</td>\n",
       "      <td>0</td>\n",
       "      <td>4082</td>\n",
       "    </tr>\n",
       "    <tr>\n",
       "      <td>4</td>\n",
       "      <td>366</td>\n",
       "      <td>957</td>\n",
       "      <td>966</td>\n",
       "      <td>972</td>\n",
       "      <td>973</td>\n",
       "      <td>977</td>\n",
       "      <td>1036</td>\n",
       "      <td>1196</td>\n",
       "      <td>3759</td>\n",
       "      <td>4082</td>\n",
       "    </tr>\n",
       "  </tbody>\n",
       "</table>\n",
       "</div>"
      ],
      "text/plain": [
       "   user  daytime  weekday  isweekend  homework  weather  country  city  item  \\\n",
       "0    43      958      966        972       973      976      985  1168    25   \n",
       "1   213      959      965        971       973      977     1003  1065  1196   \n",
       "2   169      961      964        971       973      977      985  1122   136   \n",
       "3   242      957      967        972       973      977     1003  1153     0   \n",
       "4   366      957      966        972       973      977     1036  1196  3759   \n",
       "\n",
       "   cost  \n",
       "0  4082  \n",
       "1  4082  \n",
       "2  4082  \n",
       "3  4082  \n",
       "4  4082  "
      ]
     },
     "execution_count": 45,
     "metadata": {},
     "output_type": "execute_result"
    }
   ],
   "source": [
    "cfm_frappe_test = pd.DataFrame({\n",
    "    \"user\": relabled_frappe_test[\"user\"],\n",
    "    \"daytime\": relabled_frappe_test[\"daytime\"] + cumulative_begin(labelencoders, \"user\"),\n",
    "    \"weekday\": relabled_frappe_test[\"weekday\"] + cumulative_begin(labelencoders, \"user\", \"daytime\"),\n",
    "    \"isweekend\": relabled_frappe_test[\"isweekend\"] + cumulative_begin(labelencoders, \"user\", \"daytime\", \"weekday\"),\n",
    "    \"homework\": relabled_frappe_test[\"homework\"] + cumulative_begin(labelencoders,\n",
    "                                                                     \"user\", \"daytime\", \"weekday\", \"isweekend\"),\n",
    "    \"weather\": relabled_frappe_test[\"weather\"] + cumulative_begin(labelencoders,\n",
    "                                                                   \"user\", \"daytime\", \"weekday\", \"isweekend\",\n",
    "                                                                   \"homework\"),\n",
    "    \"country\": relabled_frappe_test[\"country\"] + cumulative_begin(labelencoders,\n",
    "                                                                   \"user\", \"daytime\", \"weekday\", \"isweekend\",\n",
    "                                                                   \"homework\", \"weather\"),\n",
    "    \"city\": relabled_frappe_test[\"city\"] + cumulative_begin(labelencoders,\n",
    "                                                             \"user\", \"daytime\", \"weekday\", \"isweekend\",\n",
    "                                                             \"homework\", \"weather\", \"country\"),\n",
    "\n",
    "    \"item\": relabled_frappe_test[\"item\"],\n",
    "    \"cost\": relabled_frappe_test[\"cost\"] + cumulative_begin(labelencoders, \"item\")\n",
    "}, columns=frappe_names)\n",
    "print(cfm_frappe_test.shape)\n",
    "cfm_frappe_test.head()"
   ]
  },
  {
   "cell_type": "code",
   "execution_count": 48,
   "metadata": {},
   "outputs": [],
   "source": [
    "cfm_frappe_test.to_csv(os.path.join(OUT_FRAPPE_DIR, \"cfm.test.tsv\"), sep='\\t',\n",
    "                          index=False)"
   ]
  },
  {
   "cell_type": "markdown",
   "metadata": {},
   "source": [
    "### _Test MultiIndex for negative sampling_"
   ]
  },
  {
   "cell_type": "code",
   "execution_count": 141,
   "metadata": {
    "scrolled": false
   },
   "outputs": [
    {
     "name": "stdout",
     "output_type": "stream",
     "text": [
      "(92808, 2)\n"
     ]
    },
    {
     "data": {
      "text/html": [
       "<div>\n",
       "<style scoped>\n",
       "    .dataframe tbody tr th:only-of-type {\n",
       "        vertical-align: middle;\n",
       "    }\n",
       "\n",
       "    .dataframe tbody tr th {\n",
       "        vertical-align: top;\n",
       "    }\n",
       "\n",
       "    .dataframe thead th {\n",
       "        text-align: right;\n",
       "    }\n",
       "</style>\n",
       "<table border=\"1\" class=\"dataframe\">\n",
       "  <thead>\n",
       "    <tr style=\"text-align: right;\">\n",
       "      <th></th>\n",
       "      <th></th>\n",
       "      <th></th>\n",
       "      <th></th>\n",
       "      <th></th>\n",
       "      <th></th>\n",
       "      <th></th>\n",
       "      <th></th>\n",
       "      <th>item</th>\n",
       "      <th>cost</th>\n",
       "    </tr>\n",
       "    <tr>\n",
       "      <th>user</th>\n",
       "      <th>daytime</th>\n",
       "      <th>weekday</th>\n",
       "      <th>isweekend</th>\n",
       "      <th>homework</th>\n",
       "      <th>weather</th>\n",
       "      <th>country</th>\n",
       "      <th>city</th>\n",
       "      <th></th>\n",
       "      <th></th>\n",
       "    </tr>\n",
       "  </thead>\n",
       "  <tbody>\n",
       "    <tr>\n",
       "      <td rowspan=\"5\" valign=\"top\">0</td>\n",
       "      <td rowspan=\"4\" valign=\"top\">0</td>\n",
       "      <td rowspan=\"3\" valign=\"top\">0</td>\n",
       "      <td rowspan=\"3\" valign=\"top\">0</td>\n",
       "      <td rowspan=\"3\" valign=\"top\">0</td>\n",
       "      <td rowspan=\"3\" valign=\"top\">0</td>\n",
       "      <td rowspan=\"3\" valign=\"top\">0</td>\n",
       "      <td>0</td>\n",
       "      <td>26</td>\n",
       "      <td>0</td>\n",
       "    </tr>\n",
       "    <tr>\n",
       "      <td>0</td>\n",
       "      <td>0</td>\n",
       "      <td>0</td>\n",
       "    </tr>\n",
       "    <tr>\n",
       "      <td>0</td>\n",
       "      <td>21</td>\n",
       "      <td>0</td>\n",
       "    </tr>\n",
       "    <tr>\n",
       "      <td>2</td>\n",
       "      <td>1</td>\n",
       "      <td>0</td>\n",
       "      <td>0</td>\n",
       "      <td>0</td>\n",
       "      <td>0</td>\n",
       "      <td>1107</td>\n",
       "      <td>0</td>\n",
       "    </tr>\n",
       "    <tr>\n",
       "      <td>1</td>\n",
       "      <td>5</td>\n",
       "      <td>1</td>\n",
       "      <td>0</td>\n",
       "      <td>1</td>\n",
       "      <td>0</td>\n",
       "      <td>0</td>\n",
       "      <td>25</td>\n",
       "      <td>0</td>\n",
       "    </tr>\n",
       "  </tbody>\n",
       "</table>\n",
       "</div>"
      ],
      "text/plain": [
       "                                                              item  cost\n",
       "user daytime weekday isweekend homework weather country city            \n",
       "0    0       0       0         0        0       0       0       26     0\n",
       "                                                        0        0     0\n",
       "                                                        0       21     0\n",
       "             2       1         0        0       0       0     1107     0\n",
       "     1       5       1         0        1       0       0       25     0"
      ]
     },
     "execution_count": 141,
     "metadata": {},
     "output_type": "execute_result"
    }
   ],
   "source": [
    "multiindexed_frappe_train = relabeled_frappe_train.set_index(frappe_user_feature_columns).sort_index()\n",
    "print(multiindexed_frappe_train.shape)\n",
    "multiindexed_frappe_train.head()"
   ]
  },
  {
   "cell_type": "code",
   "execution_count": 142,
   "metadata": {},
   "outputs": [
    {
     "data": {
      "text/html": [
       "<div>\n",
       "<style scoped>\n",
       "    .dataframe tbody tr th:only-of-type {\n",
       "        vertical-align: middle;\n",
       "    }\n",
       "\n",
       "    .dataframe tbody tr th {\n",
       "        vertical-align: top;\n",
       "    }\n",
       "\n",
       "    .dataframe thead th {\n",
       "        text-align: right;\n",
       "    }\n",
       "</style>\n",
       "<table border=\"1\" class=\"dataframe\">\n",
       "  <thead>\n",
       "    <tr style=\"text-align: right;\">\n",
       "      <th></th>\n",
       "      <th></th>\n",
       "      <th></th>\n",
       "      <th></th>\n",
       "      <th></th>\n",
       "      <th></th>\n",
       "      <th></th>\n",
       "      <th></th>\n",
       "      <th>item</th>\n",
       "      <th>cost</th>\n",
       "    </tr>\n",
       "    <tr>\n",
       "      <th>user</th>\n",
       "      <th>daytime</th>\n",
       "      <th>weekday</th>\n",
       "      <th>isweekend</th>\n",
       "      <th>homework</th>\n",
       "      <th>weather</th>\n",
       "      <th>country</th>\n",
       "      <th>city</th>\n",
       "      <th></th>\n",
       "      <th></th>\n",
       "    </tr>\n",
       "  </thead>\n",
       "  <tbody>\n",
       "    <tr>\n",
       "      <td rowspan=\"11\" valign=\"top\">187</td>\n",
       "      <td rowspan=\"11\" valign=\"top\">1</td>\n",
       "      <td rowspan=\"11\" valign=\"top\">3</td>\n",
       "      <td rowspan=\"11\" valign=\"top\">1</td>\n",
       "      <td rowspan=\"11\" valign=\"top\">0</td>\n",
       "      <td rowspan=\"11\" valign=\"top\">1</td>\n",
       "      <td rowspan=\"11\" valign=\"top\">8</td>\n",
       "      <td>6</td>\n",
       "      <td>72</td>\n",
       "      <td>1</td>\n",
       "    </tr>\n",
       "    <tr>\n",
       "      <td>6</td>\n",
       "      <td>572</td>\n",
       "      <td>0</td>\n",
       "    </tr>\n",
       "    <tr>\n",
       "      <td>6</td>\n",
       "      <td>1604</td>\n",
       "      <td>0</td>\n",
       "    </tr>\n",
       "    <tr>\n",
       "      <td>6</td>\n",
       "      <td>3</td>\n",
       "      <td>0</td>\n",
       "    </tr>\n",
       "    <tr>\n",
       "      <td>6</td>\n",
       "      <td>31</td>\n",
       "      <td>0</td>\n",
       "    </tr>\n",
       "    <tr>\n",
       "      <td>...</td>\n",
       "      <td>...</td>\n",
       "      <td>...</td>\n",
       "    </tr>\n",
       "    <tr>\n",
       "      <td>6</td>\n",
       "      <td>323</td>\n",
       "      <td>0</td>\n",
       "    </tr>\n",
       "    <tr>\n",
       "      <td>6</td>\n",
       "      <td>1259</td>\n",
       "      <td>0</td>\n",
       "    </tr>\n",
       "    <tr>\n",
       "      <td>6</td>\n",
       "      <td>16</td>\n",
       "      <td>0</td>\n",
       "    </tr>\n",
       "    <tr>\n",
       "      <td>6</td>\n",
       "      <td>1030</td>\n",
       "      <td>0</td>\n",
       "    </tr>\n",
       "    <tr>\n",
       "      <td>6</td>\n",
       "      <td>1357</td>\n",
       "      <td>0</td>\n",
       "    </tr>\n",
       "  </tbody>\n",
       "</table>\n",
       "<p>88 rows × 2 columns</p>\n",
       "</div>"
      ],
      "text/plain": [
       "                                                              item  cost\n",
       "user daytime weekday isweekend homework weather country city            \n",
       "187  1       3       1         0        1       8       6       72     1\n",
       "                                                        6      572     0\n",
       "                                                        6     1604     0\n",
       "                                                        6        3     0\n",
       "                                                        6       31     0\n",
       "...                                                            ...   ...\n",
       "                                                        6      323     0\n",
       "                                                        6     1259     0\n",
       "                                                        6       16     0\n",
       "                                                        6     1030     0\n",
       "                                                        6     1357     0\n",
       "\n",
       "[88 rows x 2 columns]"
      ]
     },
     "execution_count": 142,
     "metadata": {},
     "output_type": "execute_result"
    }
   ],
   "source": [
    "frappe_positive_sample_query = multiindexed_frappe_train.loc[(187, 1, 3, 1, 0, 1, 8, 6), :]\n",
    "frappe_positive_sample_query"
   ]
  },
  {
   "cell_type": "code",
   "execution_count": 143,
   "metadata": {},
   "outputs": [
    {
     "data": {
      "text/html": [
       "<div>\n",
       "<style scoped>\n",
       "    .dataframe tbody tr th:only-of-type {\n",
       "        vertical-align: middle;\n",
       "    }\n",
       "\n",
       "    .dataframe tbody tr th {\n",
       "        vertical-align: top;\n",
       "    }\n",
       "\n",
       "    .dataframe thead th {\n",
       "        text-align: right;\n",
       "    }\n",
       "</style>\n",
       "<table border=\"1\" class=\"dataframe\">\n",
       "  <thead>\n",
       "    <tr style=\"text-align: right;\">\n",
       "      <th></th>\n",
       "      <th></th>\n",
       "      <th></th>\n",
       "      <th></th>\n",
       "      <th></th>\n",
       "      <th></th>\n",
       "      <th></th>\n",
       "      <th></th>\n",
       "      <th>item</th>\n",
       "      <th>cost</th>\n",
       "    </tr>\n",
       "    <tr>\n",
       "      <th>user</th>\n",
       "      <th>daytime</th>\n",
       "      <th>weekday</th>\n",
       "      <th>isweekend</th>\n",
       "      <th>homework</th>\n",
       "      <th>weather</th>\n",
       "      <th>country</th>\n",
       "      <th>city</th>\n",
       "      <th></th>\n",
       "      <th></th>\n",
       "    </tr>\n",
       "  </thead>\n",
       "  <tbody>\n",
       "    <tr>\n",
       "      <td>187</td>\n",
       "      <td>1</td>\n",
       "      <td>3</td>\n",
       "      <td>1</td>\n",
       "      <td>0</td>\n",
       "      <td>1</td>\n",
       "      <td>8</td>\n",
       "      <td>6</td>\n",
       "      <td>32</td>\n",
       "      <td>0</td>\n",
       "    </tr>\n",
       "  </tbody>\n",
       "</table>\n",
       "</div>"
      ],
      "text/plain": [
       "                                                              item  cost\n",
       "user daytime weekday isweekend homework weather country city            \n",
       "187  1       3       1         0        1       8       6       32     0"
      ]
     },
     "execution_count": 143,
     "metadata": {},
     "output_type": "execute_result"
    }
   ],
   "source": [
    "frappe_negative_sample_query = pd.DataFrame(\n",
    "    [(32, 0)], columns=frappe_item_feature_columns,\n",
    "    index=pd.MultiIndex.from_tuples([(187, 1, 3, 1, 0, 1, 8, 6)],\n",
    "                                    names=frappe_user_feature_columns)\n",
    ")\n",
    "frappe_negative_sample_query"
   ]
  },
  {
   "cell_type": "code",
   "execution_count": 148,
   "metadata": {},
   "outputs": [
    {
     "data": {
      "text/plain": [
       "False"
      ]
     },
     "execution_count": 148,
     "metadata": {},
     "output_type": "execute_result"
    }
   ],
   "source": [
    "pd.merge(frappe_negative_sample_query, frappe_positive_sample_query,\n",
    "         how=\"inner\", on=frappe_item_feature_columns).shape[0] > 0"
   ]
  },
  {
   "cell_type": "markdown",
   "metadata": {},
   "source": [
    "## Last.fm dataset"
   ]
  },
  {
   "cell_type": "markdown",
   "metadata": {},
   "source": [
    "### Load originial dataset and detect column names"
   ]
  },
  {
   "cell_type": "code",
   "execution_count": 122,
   "metadata": {},
   "outputs": [
    {
     "name": "stdout",
     "output_type": "stream",
     "text": [
      "['user', 'last_listened']\n",
      "['music', 'artist']\n",
      "['user', 'last_listened', 'music', 'artist', 'response', 'timestamp']\n"
     ]
    }
   ],
   "source": [
    "lastfm_user_feature_columns = [\"user\", \"last_listened\"]\n",
    "lastfm_item_feature_columns = [\"music\", \"artist\"]\n",
    "lastfm_names = lastfm_user_feature_columns + lastfm_item_feature_columns + [\"response\", \"timestamp\"]\n",
    "\n",
    "print(lastfm_user_feature_columns)\n",
    "print(lastfm_item_feature_columns)\n",
    "print(lastfm_names)"
   ]
  },
  {
   "cell_type": "code",
   "execution_count": 27,
   "metadata": {},
   "outputs": [
    {
     "name": "stdout",
     "output_type": "stream",
     "text": [
      "(202309, 6)\n"
     ]
    },
    {
     "data": {
      "text/html": [
       "<div>\n",
       "<style scoped>\n",
       "    .dataframe tbody tr th:only-of-type {\n",
       "        vertical-align: middle;\n",
       "    }\n",
       "\n",
       "    .dataframe tbody tr th {\n",
       "        vertical-align: top;\n",
       "    }\n",
       "\n",
       "    .dataframe thead th {\n",
       "        text-align: right;\n",
       "    }\n",
       "</style>\n",
       "<table border=\"1\" class=\"dataframe\">\n",
       "  <thead>\n",
       "    <tr style=\"text-align: right;\">\n",
       "      <th></th>\n",
       "      <th>user</th>\n",
       "      <th>last_listened</th>\n",
       "      <th>music</th>\n",
       "      <th>artist</th>\n",
       "      <th>response</th>\n",
       "      <th>timestamp</th>\n",
       "    </tr>\n",
       "  </thead>\n",
       "  <tbody>\n",
       "    <tr>\n",
       "      <td>0</td>\n",
       "      <td>1</td>\n",
       "      <td>1000</td>\n",
       "      <td>2</td>\n",
       "      <td>16057</td>\n",
       "      <td>1</td>\n",
       "      <td>1241361476000</td>\n",
       "    </tr>\n",
       "    <tr>\n",
       "      <td>1</td>\n",
       "      <td>1</td>\n",
       "      <td>1000</td>\n",
       "      <td>3</td>\n",
       "      <td>16058</td>\n",
       "      <td>1</td>\n",
       "      <td>1241360093000</td>\n",
       "    </tr>\n",
       "    <tr>\n",
       "      <td>2</td>\n",
       "      <td>1</td>\n",
       "      <td>1000</td>\n",
       "      <td>4</td>\n",
       "      <td>16059</td>\n",
       "      <td>1</td>\n",
       "      <td>1241359818000</td>\n",
       "    </tr>\n",
       "    <tr>\n",
       "      <td>3</td>\n",
       "      <td>1</td>\n",
       "      <td>1000</td>\n",
       "      <td>5</td>\n",
       "      <td>16060</td>\n",
       "      <td>1</td>\n",
       "      <td>1241359471000</td>\n",
       "    </tr>\n",
       "    <tr>\n",
       "      <td>4</td>\n",
       "      <td>1</td>\n",
       "      <td>1000</td>\n",
       "      <td>6</td>\n",
       "      <td>16061</td>\n",
       "      <td>1</td>\n",
       "      <td>1241358985000</td>\n",
       "    </tr>\n",
       "  </tbody>\n",
       "</table>\n",
       "</div>"
      ],
      "text/plain": [
       "   user  last_listened  music  artist  response      timestamp\n",
       "0     1           1000      2   16057         1  1241361476000\n",
       "1     1           1000      3   16058         1  1241360093000\n",
       "2     1           1000      4   16059         1  1241359818000\n",
       "3     1           1000      5   16060         1  1241359471000\n",
       "4     1           1000      6   16061         1  1241358985000"
      ]
     },
     "execution_count": 27,
     "metadata": {},
     "output_type": "execute_result"
    }
   ],
   "source": [
    "df_lastfm_train = pd.read_csv(os.path.join(ORIGINAL_LASTFM_DIR, \"train.csv\"),\n",
    "                              sep=\"[-,]\", engine=\"python\",\n",
    "                              header=None, names=lastfm_names)\n",
    "print(df_lastfm_train.shape)\n",
    "df_lastfm_train.head()"
   ]
  },
  {
   "cell_type": "code",
   "execution_count": 28,
   "metadata": {},
   "outputs": [
    {
     "name": "stdout",
     "output_type": "stream",
     "text": [
      "(12265, 6)\n"
     ]
    },
    {
     "data": {
      "text/html": [
       "<div>\n",
       "<style scoped>\n",
       "    .dataframe tbody tr th:only-of-type {\n",
       "        vertical-align: middle;\n",
       "    }\n",
       "\n",
       "    .dataframe tbody tr th {\n",
       "        vertical-align: top;\n",
       "    }\n",
       "\n",
       "    .dataframe thead th {\n",
       "        text-align: right;\n",
       "    }\n",
       "</style>\n",
       "<table border=\"1\" class=\"dataframe\">\n",
       "  <thead>\n",
       "    <tr style=\"text-align: right;\">\n",
       "      <th></th>\n",
       "      <th>user</th>\n",
       "      <th>last_listened</th>\n",
       "      <th>music</th>\n",
       "      <th>artist</th>\n",
       "      <th>response</th>\n",
       "      <th>timestamp</th>\n",
       "    </tr>\n",
       "  </thead>\n",
       "  <tbody>\n",
       "    <tr>\n",
       "      <td>0</td>\n",
       "      <td>1</td>\n",
       "      <td>1000</td>\n",
       "      <td>1</td>\n",
       "      <td>16057</td>\n",
       "      <td>1</td>\n",
       "      <td>1241362105000</td>\n",
       "    </tr>\n",
       "    <tr>\n",
       "      <td>1</td>\n",
       "      <td>2</td>\n",
       "      <td>1009</td>\n",
       "      <td>10</td>\n",
       "      <td>16063</td>\n",
       "      <td>1</td>\n",
       "      <td>1240940495000</td>\n",
       "    </tr>\n",
       "    <tr>\n",
       "      <td>2</td>\n",
       "      <td>2</td>\n",
       "      <td>1011</td>\n",
       "      <td>10</td>\n",
       "      <td>16063</td>\n",
       "      <td>1</td>\n",
       "      <td>1240940495000</td>\n",
       "    </tr>\n",
       "    <tr>\n",
       "      <td>3</td>\n",
       "      <td>9</td>\n",
       "      <td>1018</td>\n",
       "      <td>19</td>\n",
       "      <td>16066</td>\n",
       "      <td>1</td>\n",
       "      <td>1241225019000</td>\n",
       "    </tr>\n",
       "    <tr>\n",
       "      <td>4</td>\n",
       "      <td>9</td>\n",
       "      <td>1020</td>\n",
       "      <td>19</td>\n",
       "      <td>16066</td>\n",
       "      <td>1</td>\n",
       "      <td>1241225019000</td>\n",
       "    </tr>\n",
       "  </tbody>\n",
       "</table>\n",
       "</div>"
      ],
      "text/plain": [
       "   user  last_listened  music  artist  response      timestamp\n",
       "0     1           1000      1   16057         1  1241362105000\n",
       "1     2           1009     10   16063         1  1240940495000\n",
       "2     2           1011     10   16063         1  1240940495000\n",
       "3     9           1018     19   16066         1  1241225019000\n",
       "4     9           1020     19   16066         1  1241225019000"
      ]
     },
     "execution_count": 28,
     "metadata": {},
     "output_type": "execute_result"
    }
   ],
   "source": [
    "df_lastfm_test = pd.read_csv(os.path.join(ORIGINAL_LASTFM_DIR, \"test.csv\"),\n",
    "                              sep=\"[-,]\", engine=\"python\",\n",
    "                              header=None, names=lastfm_names)\n",
    "print(df_lastfm_test.shape)\n",
    "df_lastfm_test.head()"
   ]
  },
  {
   "cell_type": "code",
   "execution_count": 32,
   "metadata": {},
   "outputs": [
    {
     "name": "stdout",
     "output_type": "stream",
     "text": [
      "(214574, 5)\n"
     ]
    },
    {
     "data": {
      "text/html": [
       "<div>\n",
       "<style scoped>\n",
       "    .dataframe tbody tr th:only-of-type {\n",
       "        vertical-align: middle;\n",
       "    }\n",
       "\n",
       "    .dataframe tbody tr th {\n",
       "        vertical-align: top;\n",
       "    }\n",
       "\n",
       "    .dataframe thead th {\n",
       "        text-align: right;\n",
       "    }\n",
       "</style>\n",
       "<table border=\"1\" class=\"dataframe\">\n",
       "  <thead>\n",
       "    <tr style=\"text-align: right;\">\n",
       "      <th></th>\n",
       "      <th>user</th>\n",
       "      <th>last_listened</th>\n",
       "      <th>music</th>\n",
       "      <th>artist</th>\n",
       "      <th>response</th>\n",
       "    </tr>\n",
       "  </thead>\n",
       "  <tbody>\n",
       "    <tr>\n",
       "      <td>0</td>\n",
       "      <td>1</td>\n",
       "      <td>1000</td>\n",
       "      <td>2</td>\n",
       "      <td>16057</td>\n",
       "      <td>1</td>\n",
       "    </tr>\n",
       "    <tr>\n",
       "      <td>1</td>\n",
       "      <td>1</td>\n",
       "      <td>1000</td>\n",
       "      <td>3</td>\n",
       "      <td>16058</td>\n",
       "      <td>1</td>\n",
       "    </tr>\n",
       "    <tr>\n",
       "      <td>2</td>\n",
       "      <td>1</td>\n",
       "      <td>1000</td>\n",
       "      <td>4</td>\n",
       "      <td>16059</td>\n",
       "      <td>1</td>\n",
       "    </tr>\n",
       "    <tr>\n",
       "      <td>3</td>\n",
       "      <td>1</td>\n",
       "      <td>1000</td>\n",
       "      <td>5</td>\n",
       "      <td>16060</td>\n",
       "      <td>1</td>\n",
       "    </tr>\n",
       "    <tr>\n",
       "      <td>4</td>\n",
       "      <td>1</td>\n",
       "      <td>1000</td>\n",
       "      <td>6</td>\n",
       "      <td>16061</td>\n",
       "      <td>1</td>\n",
       "    </tr>\n",
       "  </tbody>\n",
       "</table>\n",
       "</div>"
      ],
      "text/plain": [
       "   user  last_listened  music  artist  response\n",
       "0     1           1000      2   16057         1\n",
       "1     1           1000      3   16058         1\n",
       "2     1           1000      4   16059         1\n",
       "3     1           1000      5   16060         1\n",
       "4     1           1000      6   16061         1"
      ]
     },
     "execution_count": 32,
     "metadata": {},
     "output_type": "execute_result"
    }
   ],
   "source": [
    "df_lastfm = pd.concat([df_lastfm_train[lastfm_names[:-1]], df_lastfm_test[lastfm_names[:-1]]])\n",
    "print(df_lastfm.shape)\n",
    "df_lastfm.head()"
   ]
  },
  {
   "cell_type": "markdown",
   "metadata": {},
   "source": [
    "####  Check column name detection"
   ]
  },
  {
   "cell_type": "code",
   "execution_count": 33,
   "metadata": {},
   "outputs": [
    {
     "name": "stdout",
     "output_type": "stream",
     "text": [
      "user: 414 items, numbered from 1 to 999\n",
      "last_listened: 11533 items, numbered from 1000 to 17056\n",
      "music: 14387 items, numbered from 1 to 16055\n",
      "artist: 4244 items, numbered from 16057 to 20300\n",
      "response: 1 items, numbered from 1 to 1\n"
     ]
    }
   ],
   "source": [
    "for column in lastfm_names[:-1]:\n",
    "    print(\"{0}: {1} items, numbered from {2} to {3}\".format(column,\n",
    "                                                            df_lastfm[column].drop_duplicates().count(),\n",
    "                                                            df_lastfm[column].min(),\n",
    "                                                            df_lastfm[column].max()))"
   ]
  },
  {
   "cell_type": "markdown",
   "metadata": {},
   "source": [
    "#### Check user/item feature combinations"
   ]
  },
  {
   "cell_type": "code",
   "execution_count": 123,
   "metadata": {},
   "outputs": [
    {
     "data": {
      "text/plain": [
       "user             12265\n",
       "last_listened    12265\n",
       "dtype: int64"
      ]
     },
     "execution_count": 123,
     "metadata": {},
     "output_type": "execute_result"
    }
   ],
   "source": [
    "df_lastfm[lastfm_user_feature_columns].drop_duplicates().count()"
   ]
  },
  {
   "cell_type": "code",
   "execution_count": 124,
   "metadata": {},
   "outputs": [
    {
     "data": {
      "text/plain": [
       "music     14387\n",
       "artist    14387\n",
       "dtype: int64"
      ]
     },
     "execution_count": 124,
     "metadata": {},
     "output_type": "execute_result"
    }
   ],
   "source": [
    "df_lastfm[lastfm_item_feature_columns].drop_duplicates().count()"
   ]
  },
  {
   "cell_type": "markdown",
   "metadata": {},
   "source": [
    "### Re-label features"
   ]
  },
  {
   "cell_type": "code",
   "execution_count": 52,
   "metadata": {},
   "outputs": [
    {
     "name": "stdout",
     "output_type": "stream",
     "text": [
      "user: (414,) items\n",
      "last_listened: (11533,) items\n",
      "music: (14387,) items\n",
      "artist: (4244,) items\n"
     ]
    }
   ],
   "source": [
    "lastfm_valid_columns = lastfm_names[:-2]\n",
    "lastfm_labelencoders = dict()\n",
    "for column in lastfm_valid_columns:\n",
    "    lastfm_labelencoders[column] = sklearn.preprocessing.LabelEncoder().fit(df_lastfm[column])\n",
    "    print(\"{0}: {1} items\".format(column, lastfm_labelencoders[column].classes_.shape))\n"
   ]
  },
  {
   "cell_type": "code",
   "execution_count": 53,
   "metadata": {},
   "outputs": [
    {
     "name": "stdout",
     "output_type": "stream",
     "text": [
      "(202309, 4)\n"
     ]
    },
    {
     "data": {
      "text/html": [
       "<div>\n",
       "<style scoped>\n",
       "    .dataframe tbody tr th:only-of-type {\n",
       "        vertical-align: middle;\n",
       "    }\n",
       "\n",
       "    .dataframe tbody tr th {\n",
       "        vertical-align: top;\n",
       "    }\n",
       "\n",
       "    .dataframe thead th {\n",
       "        text-align: right;\n",
       "    }\n",
       "</style>\n",
       "<table border=\"1\" class=\"dataframe\">\n",
       "  <thead>\n",
       "    <tr style=\"text-align: right;\">\n",
       "      <th></th>\n",
       "      <th>user</th>\n",
       "      <th>last_listened</th>\n",
       "      <th>music</th>\n",
       "      <th>artist</th>\n",
       "    </tr>\n",
       "  </thead>\n",
       "  <tbody>\n",
       "    <tr>\n",
       "      <td>0</td>\n",
       "      <td>0</td>\n",
       "      <td>0</td>\n",
       "      <td>1</td>\n",
       "      <td>0</td>\n",
       "    </tr>\n",
       "    <tr>\n",
       "      <td>1</td>\n",
       "      <td>0</td>\n",
       "      <td>0</td>\n",
       "      <td>2</td>\n",
       "      <td>1</td>\n",
       "    </tr>\n",
       "    <tr>\n",
       "      <td>2</td>\n",
       "      <td>0</td>\n",
       "      <td>0</td>\n",
       "      <td>3</td>\n",
       "      <td>2</td>\n",
       "    </tr>\n",
       "    <tr>\n",
       "      <td>3</td>\n",
       "      <td>0</td>\n",
       "      <td>0</td>\n",
       "      <td>4</td>\n",
       "      <td>3</td>\n",
       "    </tr>\n",
       "    <tr>\n",
       "      <td>4</td>\n",
       "      <td>0</td>\n",
       "      <td>0</td>\n",
       "      <td>5</td>\n",
       "      <td>4</td>\n",
       "    </tr>\n",
       "  </tbody>\n",
       "</table>\n",
       "</div>"
      ],
      "text/plain": [
       "   user  last_listened  music  artist\n",
       "0     0              0      1       0\n",
       "1     0              0      2       1\n",
       "2     0              0      3       2\n",
       "3     0              0      4       3\n",
       "4     0              0      5       4"
      ]
     },
     "execution_count": 53,
     "metadata": {},
     "output_type": "execute_result"
    }
   ],
   "source": [
    "relabled_lastfm_train = pd.DataFrame({column: lastfm_labelencoders[column].transform(df_lastfm_train[column])\n",
    "                                      for column in lastfm_valid_columns}, columns=lastfm_valid_columns)\n",
    "print(relabled_lastfm_train.shape)\n",
    "relabled_lastfm_train.head()"
   ]
  },
  {
   "cell_type": "code",
   "execution_count": 54,
   "metadata": {
    "scrolled": true
   },
   "outputs": [
    {
     "name": "stdout",
     "output_type": "stream",
     "text": [
      "(12265, 4)\n"
     ]
    },
    {
     "data": {
      "text/html": [
       "<div>\n",
       "<style scoped>\n",
       "    .dataframe tbody tr th:only-of-type {\n",
       "        vertical-align: middle;\n",
       "    }\n",
       "\n",
       "    .dataframe tbody tr th {\n",
       "        vertical-align: top;\n",
       "    }\n",
       "\n",
       "    .dataframe thead th {\n",
       "        text-align: right;\n",
       "    }\n",
       "</style>\n",
       "<table border=\"1\" class=\"dataframe\">\n",
       "  <thead>\n",
       "    <tr style=\"text-align: right;\">\n",
       "      <th></th>\n",
       "      <th>user</th>\n",
       "      <th>last_listened</th>\n",
       "      <th>music</th>\n",
       "      <th>artist</th>\n",
       "    </tr>\n",
       "  </thead>\n",
       "  <tbody>\n",
       "    <tr>\n",
       "      <td>0</td>\n",
       "      <td>0</td>\n",
       "      <td>0</td>\n",
       "      <td>0</td>\n",
       "      <td>0</td>\n",
       "    </tr>\n",
       "    <tr>\n",
       "      <td>1</td>\n",
       "      <td>1</td>\n",
       "      <td>1</td>\n",
       "      <td>8</td>\n",
       "      <td>6</td>\n",
       "    </tr>\n",
       "    <tr>\n",
       "      <td>2</td>\n",
       "      <td>1</td>\n",
       "      <td>3</td>\n",
       "      <td>8</td>\n",
       "      <td>6</td>\n",
       "    </tr>\n",
       "    <tr>\n",
       "      <td>3</td>\n",
       "      <td>2</td>\n",
       "      <td>5</td>\n",
       "      <td>16</td>\n",
       "      <td>9</td>\n",
       "    </tr>\n",
       "    <tr>\n",
       "      <td>4</td>\n",
       "      <td>2</td>\n",
       "      <td>6</td>\n",
       "      <td>16</td>\n",
       "      <td>9</td>\n",
       "    </tr>\n",
       "  </tbody>\n",
       "</table>\n",
       "</div>"
      ],
      "text/plain": [
       "   user  last_listened  music  artist\n",
       "0     0              0      0       0\n",
       "1     1              1      8       6\n",
       "2     1              3      8       6\n",
       "3     2              5     16       9\n",
       "4     2              6     16       9"
      ]
     },
     "execution_count": 54,
     "metadata": {},
     "output_type": "execute_result"
    }
   ],
   "source": [
    "relabled_lastfm_test = pd.DataFrame({column: lastfm_labelencoders[column].transform(df_lastfm_test[column])\n",
    "                                      for column in lastfm_valid_columns}, columns=lastfm_valid_columns)\n",
    "print(relabled_lastfm_test.shape)\n",
    "relabled_lastfm_test.head()"
   ]
  },
  {
   "cell_type": "markdown",
   "metadata": {},
   "source": [
    "### Save as DeepCTR-compatible format"
   ]
  },
  {
   "cell_type": "code",
   "execution_count": 61,
   "metadata": {},
   "outputs": [],
   "source": [
    "relabled_lastfm_train.to_csv(os.path.join(OUT_LASTFM_DIR, \"deepctr.train.tsv\"), sep='\\t',\n",
    "                             index=False)"
   ]
  },
  {
   "cell_type": "code",
   "execution_count": 62,
   "metadata": {},
   "outputs": [],
   "source": [
    "relabled_lastfm_test.to_csv(os.path.join(OUT_LASTFM_DIR, \"deepctr.test.tsv\"), sep='\\t',\n",
    "                             index=False)"
   ]
  },
  {
   "cell_type": "markdown",
   "metadata": {},
   "source": [
    "### Save as IFM format"
   ]
  },
  {
   "cell_type": "code",
   "execution_count": null,
   "metadata": {},
   "outputs": [],
   "source": []
  },
  {
   "cell_type": "markdown",
   "metadata": {},
   "source": [
    "### Save as CFM format"
   ]
  },
  {
   "cell_type": "code",
   "execution_count": 55,
   "metadata": {},
   "outputs": [
    {
     "name": "stdout",
     "output_type": "stream",
     "text": [
      "(202309, 4)\n"
     ]
    },
    {
     "data": {
      "text/html": [
       "<div>\n",
       "<style scoped>\n",
       "    .dataframe tbody tr th:only-of-type {\n",
       "        vertical-align: middle;\n",
       "    }\n",
       "\n",
       "    .dataframe tbody tr th {\n",
       "        vertical-align: top;\n",
       "    }\n",
       "\n",
       "    .dataframe thead th {\n",
       "        text-align: right;\n",
       "    }\n",
       "</style>\n",
       "<table border=\"1\" class=\"dataframe\">\n",
       "  <thead>\n",
       "    <tr style=\"text-align: right;\">\n",
       "      <th></th>\n",
       "      <th>user</th>\n",
       "      <th>last_listened</th>\n",
       "      <th>music</th>\n",
       "      <th>artist</th>\n",
       "    </tr>\n",
       "  </thead>\n",
       "  <tbody>\n",
       "    <tr>\n",
       "      <td>0</td>\n",
       "      <td>0</td>\n",
       "      <td>414</td>\n",
       "      <td>1</td>\n",
       "      <td>14387</td>\n",
       "    </tr>\n",
       "    <tr>\n",
       "      <td>1</td>\n",
       "      <td>0</td>\n",
       "      <td>414</td>\n",
       "      <td>2</td>\n",
       "      <td>14388</td>\n",
       "    </tr>\n",
       "    <tr>\n",
       "      <td>2</td>\n",
       "      <td>0</td>\n",
       "      <td>414</td>\n",
       "      <td>3</td>\n",
       "      <td>14389</td>\n",
       "    </tr>\n",
       "    <tr>\n",
       "      <td>3</td>\n",
       "      <td>0</td>\n",
       "      <td>414</td>\n",
       "      <td>4</td>\n",
       "      <td>14390</td>\n",
       "    </tr>\n",
       "    <tr>\n",
       "      <td>4</td>\n",
       "      <td>0</td>\n",
       "      <td>414</td>\n",
       "      <td>5</td>\n",
       "      <td>14391</td>\n",
       "    </tr>\n",
       "  </tbody>\n",
       "</table>\n",
       "</div>"
      ],
      "text/plain": [
       "   user  last_listened  music  artist\n",
       "0     0            414      1   14387\n",
       "1     0            414      2   14388\n",
       "2     0            414      3   14389\n",
       "3     0            414      4   14390\n",
       "4     0            414      5   14391"
      ]
     },
     "execution_count": 55,
     "metadata": {},
     "output_type": "execute_result"
    }
   ],
   "source": [
    "cfm_lastfm_train = pd.DataFrame({\n",
    "    \"user\": relabled_lastfm_train[\"user\"],\n",
    "    \"last_listened\": relabled_lastfm_train[\"last_listened\"] + cumulative_begin(lastfm_labelencoders, \"user\"),\n",
    "\n",
    "    \"music\": relabled_lastfm_train[\"music\"],\n",
    "    \"artist\": relabled_lastfm_train[\"artist\"] + cumulative_begin(lastfm_labelencoders, \"music\")\n",
    "}, columns=lastfm_valid_columns)\n",
    "print(cfm_lastfm_train.shape)\n",
    "cfm_lastfm_train.head()"
   ]
  },
  {
   "cell_type": "code",
   "execution_count": 56,
   "metadata": {},
   "outputs": [],
   "source": [
    "cfm_lastfm_train.to_csv(os.path.join(OUT_LASTFM_DIR, \"cfm.train.tsv\"), sep='\\t',\n",
    "                          index=False)"
   ]
  },
  {
   "cell_type": "code",
   "execution_count": 57,
   "metadata": {},
   "outputs": [
    {
     "name": "stdout",
     "output_type": "stream",
     "text": [
      "(12265, 4)\n"
     ]
    },
    {
     "data": {
      "text/html": [
       "<div>\n",
       "<style scoped>\n",
       "    .dataframe tbody tr th:only-of-type {\n",
       "        vertical-align: middle;\n",
       "    }\n",
       "\n",
       "    .dataframe tbody tr th {\n",
       "        vertical-align: top;\n",
       "    }\n",
       "\n",
       "    .dataframe thead th {\n",
       "        text-align: right;\n",
       "    }\n",
       "</style>\n",
       "<table border=\"1\" class=\"dataframe\">\n",
       "  <thead>\n",
       "    <tr style=\"text-align: right;\">\n",
       "      <th></th>\n",
       "      <th>user</th>\n",
       "      <th>last_listened</th>\n",
       "      <th>music</th>\n",
       "      <th>artist</th>\n",
       "    </tr>\n",
       "  </thead>\n",
       "  <tbody>\n",
       "    <tr>\n",
       "      <td>0</td>\n",
       "      <td>0</td>\n",
       "      <td>414</td>\n",
       "      <td>0</td>\n",
       "      <td>14387</td>\n",
       "    </tr>\n",
       "    <tr>\n",
       "      <td>1</td>\n",
       "      <td>1</td>\n",
       "      <td>415</td>\n",
       "      <td>8</td>\n",
       "      <td>14393</td>\n",
       "    </tr>\n",
       "    <tr>\n",
       "      <td>2</td>\n",
       "      <td>1</td>\n",
       "      <td>417</td>\n",
       "      <td>8</td>\n",
       "      <td>14393</td>\n",
       "    </tr>\n",
       "    <tr>\n",
       "      <td>3</td>\n",
       "      <td>2</td>\n",
       "      <td>419</td>\n",
       "      <td>16</td>\n",
       "      <td>14396</td>\n",
       "    </tr>\n",
       "    <tr>\n",
       "      <td>4</td>\n",
       "      <td>2</td>\n",
       "      <td>420</td>\n",
       "      <td>16</td>\n",
       "      <td>14396</td>\n",
       "    </tr>\n",
       "  </tbody>\n",
       "</table>\n",
       "</div>"
      ],
      "text/plain": [
       "   user  last_listened  music  artist\n",
       "0     0            414      0   14387\n",
       "1     1            415      8   14393\n",
       "2     1            417      8   14393\n",
       "3     2            419     16   14396\n",
       "4     2            420     16   14396"
      ]
     },
     "execution_count": 57,
     "metadata": {},
     "output_type": "execute_result"
    }
   ],
   "source": [
    "cfm_lastfm_test = pd.DataFrame({\n",
    "    \"user\": relabled_lastfm_test[\"user\"],\n",
    "    \"last_listened\": relabled_lastfm_test[\"last_listened\"] + cumulative_begin(lastfm_labelencoders, \"user\"),\n",
    "\n",
    "    \"music\": relabled_lastfm_test[\"music\"],\n",
    "    \"artist\": relabled_lastfm_test[\"artist\"] + cumulative_begin(lastfm_labelencoders, \"music\")\n",
    "}, columns=lastfm_valid_columns)\n",
    "print(cfm_lastfm_test.shape)\n",
    "cfm_lastfm_test.head()"
   ]
  },
  {
   "cell_type": "code",
   "execution_count": 58,
   "metadata": {},
   "outputs": [],
   "source": [
    "cfm_lastfm_test.to_csv(os.path.join(OUT_LASTFM_DIR, \"cfm.test.tsv\"), sep='\\t',\n",
    "                          index=False)"
   ]
  },
  {
   "cell_type": "markdown",
   "metadata": {},
   "source": [
    "## Meetup (chicago) dataset"
   ]
  },
  {
   "cell_type": "markdown",
   "metadata": {},
   "source": [
    "### Load original dataset and detect values"
   ]
  },
  {
   "cell_type": "code",
   "execution_count": 86,
   "metadata": {},
   "outputs": [
    {
     "name": "stdout",
     "output_type": "stream",
     "text": [
      "(113921, 2)\n"
     ]
    },
    {
     "data": {
      "text/html": [
       "<div>\n",
       "<style scoped>\n",
       "    .dataframe tbody tr th:only-of-type {\n",
       "        vertical-align: middle;\n",
       "    }\n",
       "\n",
       "    .dataframe tbody tr th {\n",
       "        vertical-align: top;\n",
       "    }\n",
       "\n",
       "    .dataframe thead th {\n",
       "        text-align: right;\n",
       "    }\n",
       "</style>\n",
       "<table border=\"1\" class=\"dataframe\">\n",
       "  <thead>\n",
       "    <tr style=\"text-align: right;\">\n",
       "      <th></th>\n",
       "      <th>user</th>\n",
       "      <th>event</th>\n",
       "    </tr>\n",
       "  </thead>\n",
       "  <tbody>\n",
       "    <tr>\n",
       "      <td>0</td>\n",
       "      <td>1470</td>\n",
       "      <td>14</td>\n",
       "    </tr>\n",
       "    <tr>\n",
       "      <td>1</td>\n",
       "      <td>1845</td>\n",
       "      <td>14</td>\n",
       "    </tr>\n",
       "    <tr>\n",
       "      <td>2</td>\n",
       "      <td>2371</td>\n",
       "      <td>14</td>\n",
       "    </tr>\n",
       "    <tr>\n",
       "      <td>3</td>\n",
       "      <td>2425</td>\n",
       "      <td>14</td>\n",
       "    </tr>\n",
       "    <tr>\n",
       "      <td>4</td>\n",
       "      <td>2948</td>\n",
       "      <td>14</td>\n",
       "    </tr>\n",
       "  </tbody>\n",
       "</table>\n",
       "</div>"
      ],
      "text/plain": [
       "   user  event\n",
       "0  1470     14\n",
       "1  1845     14\n",
       "2  2371     14\n",
       "3  2425     14\n",
       "4  2948     14"
      ]
     },
     "execution_count": 86,
     "metadata": {},
     "output_type": "execute_result"
    }
   ],
   "source": [
    "df_meetup_rsvp_train = pd.read_csv(os.path.join(ORIGINAL_MEETUP_DIR, \"user-event-rsvp_train.tsv\"), sep='\\t',\n",
    "                              header=None, names=[\"_relation_id\", \"user\", \"event\", \"value\"],\n",
    "                              usecols=[\"user\", \"event\"])\n",
    "print(df_meetup_rsvp_train.shape)\n",
    "df_meetup_rsvp_train.head()"
   ]
  },
  {
   "cell_type": "code",
   "execution_count": 87,
   "metadata": {},
   "outputs": [
    {
     "name": "stdout",
     "output_type": "stream",
     "text": [
      "(28438, 2)\n"
     ]
    },
    {
     "data": {
      "text/html": [
       "<div>\n",
       "<style scoped>\n",
       "    .dataframe tbody tr th:only-of-type {\n",
       "        vertical-align: middle;\n",
       "    }\n",
       "\n",
       "    .dataframe tbody tr th {\n",
       "        vertical-align: top;\n",
       "    }\n",
       "\n",
       "    .dataframe thead th {\n",
       "        text-align: right;\n",
       "    }\n",
       "</style>\n",
       "<table border=\"1\" class=\"dataframe\">\n",
       "  <thead>\n",
       "    <tr style=\"text-align: right;\">\n",
       "      <th></th>\n",
       "      <th>user</th>\n",
       "      <th>event</th>\n",
       "    </tr>\n",
       "  </thead>\n",
       "  <tbody>\n",
       "    <tr>\n",
       "      <td>0</td>\n",
       "      <td>693</td>\n",
       "      <td>287</td>\n",
       "    </tr>\n",
       "    <tr>\n",
       "      <td>1</td>\n",
       "      <td>10722</td>\n",
       "      <td>78</td>\n",
       "    </tr>\n",
       "    <tr>\n",
       "      <td>2</td>\n",
       "      <td>539</td>\n",
       "      <td>166</td>\n",
       "    </tr>\n",
       "    <tr>\n",
       "      <td>3</td>\n",
       "      <td>2166</td>\n",
       "      <td>166</td>\n",
       "    </tr>\n",
       "    <tr>\n",
       "      <td>4</td>\n",
       "      <td>4031</td>\n",
       "      <td>166</td>\n",
       "    </tr>\n",
       "  </tbody>\n",
       "</table>\n",
       "</div>"
      ],
      "text/plain": [
       "    user  event\n",
       "0    693    287\n",
       "1  10722     78\n",
       "2    539    166\n",
       "3   2166    166\n",
       "4   4031    166"
      ]
     },
     "execution_count": 87,
     "metadata": {},
     "output_type": "execute_result"
    }
   ],
   "source": [
    "df_meetup_rsvp_test = pd.read_csv(os.path.join(ORIGINAL_MEETUP_DIR, \"user-event-rsvp_test.tsv\"), sep='\\t',\n",
    "                              header=None, names=[\"user\", \"event\"])\n",
    "print(df_meetup_rsvp_test.shape)\n",
    "df_meetup_rsvp_test.head()"
   ]
  },
  {
   "cell_type": "code",
   "execution_count": 78,
   "metadata": {},
   "outputs": [
    {
     "name": "stdout",
     "output_type": "stream",
     "text": [
      "(41445, 2)\n"
     ]
    },
    {
     "data": {
      "text/html": [
       "<div>\n",
       "<style scoped>\n",
       "    .dataframe tbody tr th:only-of-type {\n",
       "        vertical-align: middle;\n",
       "    }\n",
       "\n",
       "    .dataframe tbody tr th {\n",
       "        vertical-align: top;\n",
       "    }\n",
       "\n",
       "    .dataframe thead th {\n",
       "        text-align: right;\n",
       "    }\n",
       "</style>\n",
       "<table border=\"1\" class=\"dataframe\">\n",
       "  <thead>\n",
       "    <tr style=\"text-align: right;\">\n",
       "      <th></th>\n",
       "      <th>organizer</th>\n",
       "      <th>event</th>\n",
       "    </tr>\n",
       "  </thead>\n",
       "  <tbody>\n",
       "    <tr>\n",
       "      <td>0</td>\n",
       "      <td>448</td>\n",
       "      <td>1</td>\n",
       "    </tr>\n",
       "    <tr>\n",
       "      <td>1</td>\n",
       "      <td>692</td>\n",
       "      <td>2</td>\n",
       "    </tr>\n",
       "    <tr>\n",
       "      <td>2</td>\n",
       "      <td>692</td>\n",
       "      <td>3</td>\n",
       "    </tr>\n",
       "    <tr>\n",
       "      <td>3</td>\n",
       "      <td>692</td>\n",
       "      <td>4</td>\n",
       "    </tr>\n",
       "    <tr>\n",
       "      <td>4</td>\n",
       "      <td>692</td>\n",
       "      <td>5</td>\n",
       "    </tr>\n",
       "  </tbody>\n",
       "</table>\n",
       "</div>"
      ],
      "text/plain": [
       "   organizer  event\n",
       "0        448      1\n",
       "1        692      2\n",
       "2        692      3\n",
       "3        692      4\n",
       "4        692      5"
      ]
     },
     "execution_count": 78,
     "metadata": {},
     "output_type": "execute_result"
    }
   ],
   "source": [
    "df_meetup_organizing = pd.read_csv(os.path.join(ORIGINAL_MEETUP_DIR, \"group-event-created_train.tsv\"), sep='\\t',\n",
    "                                   header=None, names=[\"_relation_id\", \"organizer\", \"event\", \"value\"],\n",
    "                                   usecols=[\"organizer\", \"event\"])\n",
    "print(df_meetup_organizing.shape)\n",
    "df_meetup_organizing.head()"
   ]
  },
  {
   "cell_type": "code",
   "execution_count": 80,
   "metadata": {},
   "outputs": [
    {
     "name": "stdout",
     "output_type": "stream",
     "text": [
      "(41445, 2)\n"
     ]
    },
    {
     "data": {
      "text/html": [
       "<div>\n",
       "<style scoped>\n",
       "    .dataframe tbody tr th:only-of-type {\n",
       "        vertical-align: middle;\n",
       "    }\n",
       "\n",
       "    .dataframe tbody tr th {\n",
       "        vertical-align: top;\n",
       "    }\n",
       "\n",
       "    .dataframe thead th {\n",
       "        text-align: right;\n",
       "    }\n",
       "</style>\n",
       "<table border=\"1\" class=\"dataframe\">\n",
       "  <thead>\n",
       "    <tr style=\"text-align: right;\">\n",
       "      <th></th>\n",
       "      <th>event</th>\n",
       "      <th>location</th>\n",
       "    </tr>\n",
       "  </thead>\n",
       "  <tbody>\n",
       "    <tr>\n",
       "      <td>0</td>\n",
       "      <td>1</td>\n",
       "      <td>1667</td>\n",
       "    </tr>\n",
       "    <tr>\n",
       "      <td>1</td>\n",
       "      <td>2</td>\n",
       "      <td>2466</td>\n",
       "    </tr>\n",
       "    <tr>\n",
       "      <td>2</td>\n",
       "      <td>3</td>\n",
       "      <td>2466</td>\n",
       "    </tr>\n",
       "    <tr>\n",
       "      <td>3</td>\n",
       "      <td>4</td>\n",
       "      <td>2466</td>\n",
       "    </tr>\n",
       "    <tr>\n",
       "      <td>4</td>\n",
       "      <td>5</td>\n",
       "      <td>2466</td>\n",
       "    </tr>\n",
       "  </tbody>\n",
       "</table>\n",
       "</div>"
      ],
      "text/plain": [
       "   event  location\n",
       "0      1      1667\n",
       "1      2      2466\n",
       "2      3      2466\n",
       "3      4      2466\n",
       "4      5      2466"
      ]
     },
     "execution_count": 80,
     "metadata": {},
     "output_type": "execute_result"
    }
   ],
   "source": [
    "df_meetup_location = pd.read_csv(os.path.join(ORIGINAL_MEETUP_DIR, \"event-location-held_train.tsv\"), sep='\\t',\n",
    "                                 header=None, names=[\"_relation_id\", \"event\", \"location\", \"value\"],\n",
    "                                 usecols=[\"event\", \"location\"])\n",
    "print(df_meetup_location.shape)\n",
    "df_meetup_location.head()"
   ]
  },
  {
   "cell_type": "code",
   "execution_count": 97,
   "metadata": {},
   "outputs": [
    {
     "name": "stdout",
     "output_type": "stream",
     "text": [
      "(41445, 2)\n"
     ]
    },
    {
     "data": {
      "text/html": [
       "<div>\n",
       "<style scoped>\n",
       "    .dataframe tbody tr th:only-of-type {\n",
       "        vertical-align: middle;\n",
       "    }\n",
       "\n",
       "    .dataframe tbody tr th {\n",
       "        vertical-align: top;\n",
       "    }\n",
       "\n",
       "    .dataframe thead th {\n",
       "        text-align: right;\n",
       "    }\n",
       "</style>\n",
       "<table border=\"1\" class=\"dataframe\">\n",
       "  <thead>\n",
       "    <tr style=\"text-align: right;\">\n",
       "      <th></th>\n",
       "      <th>event</th>\n",
       "      <th>timeslot</th>\n",
       "    </tr>\n",
       "  </thead>\n",
       "  <tbody>\n",
       "    <tr>\n",
       "      <td>0</td>\n",
       "      <td>1</td>\n",
       "      <td>9</td>\n",
       "    </tr>\n",
       "    <tr>\n",
       "      <td>1</td>\n",
       "      <td>2</td>\n",
       "      <td>129</td>\n",
       "    </tr>\n",
       "    <tr>\n",
       "      <td>2</td>\n",
       "      <td>3</td>\n",
       "      <td>81</td>\n",
       "    </tr>\n",
       "    <tr>\n",
       "      <td>3</td>\n",
       "      <td>4</td>\n",
       "      <td>129</td>\n",
       "    </tr>\n",
       "    <tr>\n",
       "      <td>4</td>\n",
       "      <td>5</td>\n",
       "      <td>81</td>\n",
       "    </tr>\n",
       "  </tbody>\n",
       "</table>\n",
       "</div>"
      ],
      "text/plain": [
       "   event  timeslot\n",
       "0      1         9\n",
       "1      2       129\n",
       "2      3        81\n",
       "3      4       129\n",
       "4      5        81"
      ]
     },
     "execution_count": 97,
     "metadata": {},
     "output_type": "execute_result"
    }
   ],
   "source": [
    "df_meetup_timeslot = pd.read_csv(os.path.join(ORIGINAL_MEETUP_DIR, \"event-time-started_train.tsv\"), sep='\\t',\n",
    "                              header=None, names=[\"_relation_id\", \"event\", \"timeslot\", \"value\"],\n",
    "                                  usecols=[\"event\", \"timeslot\"])\n",
    "df_meetup_timeslot[\"timeslot\"] = df_meetup_timeslot[\"timeslot\"].astype(np.int32)\n",
    "print(df_meetup_timeslot.shape)\n",
    "df_meetup_timeslot.head()"
   ]
  },
  {
   "cell_type": "markdown",
   "metadata": {},
   "source": [
    "#### Merge auxiliary information into train/test dataset"
   ]
  },
  {
   "cell_type": "code",
   "execution_count": 98,
   "metadata": {},
   "outputs": [
    {
     "name": "stdout",
     "output_type": "stream",
     "text": [
      "(113921, 5)\n"
     ]
    },
    {
     "data": {
      "text/html": [
       "<div>\n",
       "<style scoped>\n",
       "    .dataframe tbody tr th:only-of-type {\n",
       "        vertical-align: middle;\n",
       "    }\n",
       "\n",
       "    .dataframe tbody tr th {\n",
       "        vertical-align: top;\n",
       "    }\n",
       "\n",
       "    .dataframe thead th {\n",
       "        text-align: right;\n",
       "    }\n",
       "</style>\n",
       "<table border=\"1\" class=\"dataframe\">\n",
       "  <thead>\n",
       "    <tr style=\"text-align: right;\">\n",
       "      <th></th>\n",
       "      <th>user</th>\n",
       "      <th>event</th>\n",
       "      <th>organizer</th>\n",
       "      <th>location</th>\n",
       "      <th>timeslot</th>\n",
       "    </tr>\n",
       "  </thead>\n",
       "  <tbody>\n",
       "    <tr>\n",
       "      <td>0</td>\n",
       "      <td>1470</td>\n",
       "      <td>14</td>\n",
       "      <td>332</td>\n",
       "      <td>2650</td>\n",
       "      <td>8</td>\n",
       "    </tr>\n",
       "    <tr>\n",
       "      <td>1</td>\n",
       "      <td>1845</td>\n",
       "      <td>14</td>\n",
       "      <td>332</td>\n",
       "      <td>2650</td>\n",
       "      <td>8</td>\n",
       "    </tr>\n",
       "    <tr>\n",
       "      <td>2</td>\n",
       "      <td>2371</td>\n",
       "      <td>14</td>\n",
       "      <td>332</td>\n",
       "      <td>2650</td>\n",
       "      <td>8</td>\n",
       "    </tr>\n",
       "    <tr>\n",
       "      <td>3</td>\n",
       "      <td>2425</td>\n",
       "      <td>14</td>\n",
       "      <td>332</td>\n",
       "      <td>2650</td>\n",
       "      <td>8</td>\n",
       "    </tr>\n",
       "    <tr>\n",
       "      <td>4</td>\n",
       "      <td>2948</td>\n",
       "      <td>14</td>\n",
       "      <td>332</td>\n",
       "      <td>2650</td>\n",
       "      <td>8</td>\n",
       "    </tr>\n",
       "  </tbody>\n",
       "</table>\n",
       "</div>"
      ],
      "text/plain": [
       "   user  event  organizer  location  timeslot\n",
       "0  1470     14        332      2650         8\n",
       "1  1845     14        332      2650         8\n",
       "2  2371     14        332      2650         8\n",
       "3  2425     14        332      2650         8\n",
       "4  2948     14        332      2650         8"
      ]
     },
     "execution_count": 98,
     "metadata": {},
     "output_type": "execute_result"
    }
   ],
   "source": [
    "df_meetup_train = pd.merge(df_meetup_rsvp_train, df_meetup_organizing, how=\"inner\", on=\"event\")\n",
    "df_meetup_train = pd.merge(df_meetup_train, df_meetup_location, how=\"inner\", on=\"event\")\n",
    "df_meetup_train = pd.merge(df_meetup_train, df_meetup_timeslot, how=\"inner\", on=\"event\")\n",
    "print(df_meetup_train.shape)\n",
    "df_meetup_train.head()"
   ]
  },
  {
   "cell_type": "code",
   "execution_count": 99,
   "metadata": {},
   "outputs": [
    {
     "name": "stdout",
     "output_type": "stream",
     "text": [
      "(28438, 5)\n"
     ]
    },
    {
     "data": {
      "text/html": [
       "<div>\n",
       "<style scoped>\n",
       "    .dataframe tbody tr th:only-of-type {\n",
       "        vertical-align: middle;\n",
       "    }\n",
       "\n",
       "    .dataframe tbody tr th {\n",
       "        vertical-align: top;\n",
       "    }\n",
       "\n",
       "    .dataframe thead th {\n",
       "        text-align: right;\n",
       "    }\n",
       "</style>\n",
       "<table border=\"1\" class=\"dataframe\">\n",
       "  <thead>\n",
       "    <tr style=\"text-align: right;\">\n",
       "      <th></th>\n",
       "      <th>user</th>\n",
       "      <th>event</th>\n",
       "      <th>organizer</th>\n",
       "      <th>location</th>\n",
       "      <th>timeslot</th>\n",
       "    </tr>\n",
       "  </thead>\n",
       "  <tbody>\n",
       "    <tr>\n",
       "      <td>0</td>\n",
       "      <td>693</td>\n",
       "      <td>287</td>\n",
       "      <td>270</td>\n",
       "      <td>1411</td>\n",
       "      <td>28</td>\n",
       "    </tr>\n",
       "    <tr>\n",
       "      <td>1</td>\n",
       "      <td>1511</td>\n",
       "      <td>287</td>\n",
       "      <td>270</td>\n",
       "      <td>1411</td>\n",
       "      <td>28</td>\n",
       "    </tr>\n",
       "    <tr>\n",
       "      <td>2</td>\n",
       "      <td>1640</td>\n",
       "      <td>287</td>\n",
       "      <td>270</td>\n",
       "      <td>1411</td>\n",
       "      <td>28</td>\n",
       "    </tr>\n",
       "    <tr>\n",
       "      <td>3</td>\n",
       "      <td>3582</td>\n",
       "      <td>287</td>\n",
       "      <td>270</td>\n",
       "      <td>1411</td>\n",
       "      <td>28</td>\n",
       "    </tr>\n",
       "    <tr>\n",
       "      <td>4</td>\n",
       "      <td>10722</td>\n",
       "      <td>78</td>\n",
       "      <td>495</td>\n",
       "      <td>6817</td>\n",
       "      <td>5</td>\n",
       "    </tr>\n",
       "  </tbody>\n",
       "</table>\n",
       "</div>"
      ],
      "text/plain": [
       "    user  event  organizer  location  timeslot\n",
       "0    693    287        270      1411        28\n",
       "1   1511    287        270      1411        28\n",
       "2   1640    287        270      1411        28\n",
       "3   3582    287        270      1411        28\n",
       "4  10722     78        495      6817         5"
      ]
     },
     "execution_count": 99,
     "metadata": {},
     "output_type": "execute_result"
    }
   ],
   "source": [
    "df_meetup_test = pd.merge(df_meetup_rsvp_test, df_meetup_organizing, how=\"inner\", on=\"event\")\n",
    "df_meetup_test = pd.merge(df_meetup_test, df_meetup_location, how=\"inner\", on=\"event\")\n",
    "df_meetup_test = pd.merge(df_meetup_test, df_meetup_timeslot, how=\"inner\", on=\"event\")\n",
    "print(df_meetup_test.shape)\n",
    "df_meetup_test.head()"
   ]
  },
  {
   "cell_type": "markdown",
   "metadata": {},
   "source": [
    "#### Merge whole dataset"
   ]
  },
  {
   "cell_type": "code",
   "execution_count": 100,
   "metadata": {},
   "outputs": [
    {
     "name": "stdout",
     "output_type": "stream",
     "text": [
      "(142359, 5)\n"
     ]
    },
    {
     "data": {
      "text/html": [
       "<div>\n",
       "<style scoped>\n",
       "    .dataframe tbody tr th:only-of-type {\n",
       "        vertical-align: middle;\n",
       "    }\n",
       "\n",
       "    .dataframe tbody tr th {\n",
       "        vertical-align: top;\n",
       "    }\n",
       "\n",
       "    .dataframe thead th {\n",
       "        text-align: right;\n",
       "    }\n",
       "</style>\n",
       "<table border=\"1\" class=\"dataframe\">\n",
       "  <thead>\n",
       "    <tr style=\"text-align: right;\">\n",
       "      <th></th>\n",
       "      <th>user</th>\n",
       "      <th>event</th>\n",
       "      <th>organizer</th>\n",
       "      <th>location</th>\n",
       "      <th>timeslot</th>\n",
       "    </tr>\n",
       "  </thead>\n",
       "  <tbody>\n",
       "    <tr>\n",
       "      <td>0</td>\n",
       "      <td>1470</td>\n",
       "      <td>14</td>\n",
       "      <td>332</td>\n",
       "      <td>2650</td>\n",
       "      <td>8</td>\n",
       "    </tr>\n",
       "    <tr>\n",
       "      <td>1</td>\n",
       "      <td>1845</td>\n",
       "      <td>14</td>\n",
       "      <td>332</td>\n",
       "      <td>2650</td>\n",
       "      <td>8</td>\n",
       "    </tr>\n",
       "    <tr>\n",
       "      <td>2</td>\n",
       "      <td>2371</td>\n",
       "      <td>14</td>\n",
       "      <td>332</td>\n",
       "      <td>2650</td>\n",
       "      <td>8</td>\n",
       "    </tr>\n",
       "    <tr>\n",
       "      <td>3</td>\n",
       "      <td>2425</td>\n",
       "      <td>14</td>\n",
       "      <td>332</td>\n",
       "      <td>2650</td>\n",
       "      <td>8</td>\n",
       "    </tr>\n",
       "    <tr>\n",
       "      <td>4</td>\n",
       "      <td>2948</td>\n",
       "      <td>14</td>\n",
       "      <td>332</td>\n",
       "      <td>2650</td>\n",
       "      <td>8</td>\n",
       "    </tr>\n",
       "  </tbody>\n",
       "</table>\n",
       "</div>"
      ],
      "text/plain": [
       "   user  event  organizer  location  timeslot\n",
       "0  1470     14        332      2650         8\n",
       "1  1845     14        332      2650         8\n",
       "2  2371     14        332      2650         8\n",
       "3  2425     14        332      2650         8\n",
       "4  2948     14        332      2650         8"
      ]
     },
     "execution_count": 100,
     "metadata": {},
     "output_type": "execute_result"
    }
   ],
   "source": [
    "df_meetup = pd.concat([df_meetup_train, df_meetup_test])\n",
    "print(df_meetup.shape)\n",
    "df_meetup.head()"
   ]
  },
  {
   "cell_type": "markdown",
   "metadata": {},
   "source": [
    "#### Check feature count of each field"
   ]
  },
  {
   "cell_type": "code",
   "execution_count": 101,
   "metadata": {},
   "outputs": [
    {
     "name": "stdout",
     "output_type": "stream",
     "text": [
      "user: 11233 items, numbered from 1 to 11233\n",
      "event: 41445 items, numbered from 1 to 41445\n",
      "organizer: 1683 items, numbered from 1 to 1683\n",
      "location: 7015 items, numbered from 1 to 7015\n",
      "timeslot: 147 items, numbered from 1 to 168\n"
     ]
    }
   ],
   "source": [
    "for column in df_meetup.columns:\n",
    "    print(\"{0}: {1} items, numbered from {2} to {3}\".format(column,\n",
    "                                                            df_meetup[column].drop_duplicates().count(),\n",
    "                                                            df_meetup[column].min(),\n",
    "                                                            df_meetup[column].max()))"
   ]
  },
  {
   "cell_type": "markdown",
   "metadata": {},
   "source": [
    "### Re-label features"
   ]
  },
  {
   "cell_type": "code",
   "execution_count": 110,
   "metadata": {},
   "outputs": [
    {
     "data": {
      "text/plain": [
       "{'user': 11233,\n",
       " 'event': 41445,\n",
       " 'organizer': 1683,\n",
       " 'location': 7015,\n",
       " 'timeslot': 168}"
      ]
     },
     "execution_count": 110,
     "metadata": {},
     "output_type": "execute_result"
    }
   ],
   "source": [
    "meetup_feature_counts = {column: df_meetup[column].max() for column in df_meetup.columns}\n",
    "meetup_feature_counts"
   ]
  },
  {
   "cell_type": "code",
   "execution_count": 105,
   "metadata": {},
   "outputs": [
    {
     "name": "stdout",
     "output_type": "stream",
     "text": [
      "(113921, 5)\n"
     ]
    },
    {
     "data": {
      "text/html": [
       "<div>\n",
       "<style scoped>\n",
       "    .dataframe tbody tr th:only-of-type {\n",
       "        vertical-align: middle;\n",
       "    }\n",
       "\n",
       "    .dataframe tbody tr th {\n",
       "        vertical-align: top;\n",
       "    }\n",
       "\n",
       "    .dataframe thead th {\n",
       "        text-align: right;\n",
       "    }\n",
       "</style>\n",
       "<table border=\"1\" class=\"dataframe\">\n",
       "  <thead>\n",
       "    <tr style=\"text-align: right;\">\n",
       "      <th></th>\n",
       "      <th>user</th>\n",
       "      <th>event</th>\n",
       "      <th>organizer</th>\n",
       "      <th>location</th>\n",
       "      <th>timeslot</th>\n",
       "    </tr>\n",
       "  </thead>\n",
       "  <tbody>\n",
       "    <tr>\n",
       "      <td>0</td>\n",
       "      <td>1469</td>\n",
       "      <td>13</td>\n",
       "      <td>331</td>\n",
       "      <td>2649</td>\n",
       "      <td>7</td>\n",
       "    </tr>\n",
       "    <tr>\n",
       "      <td>1</td>\n",
       "      <td>1844</td>\n",
       "      <td>13</td>\n",
       "      <td>331</td>\n",
       "      <td>2649</td>\n",
       "      <td>7</td>\n",
       "    </tr>\n",
       "    <tr>\n",
       "      <td>2</td>\n",
       "      <td>2370</td>\n",
       "      <td>13</td>\n",
       "      <td>331</td>\n",
       "      <td>2649</td>\n",
       "      <td>7</td>\n",
       "    </tr>\n",
       "    <tr>\n",
       "      <td>3</td>\n",
       "      <td>2424</td>\n",
       "      <td>13</td>\n",
       "      <td>331</td>\n",
       "      <td>2649</td>\n",
       "      <td>7</td>\n",
       "    </tr>\n",
       "    <tr>\n",
       "      <td>4</td>\n",
       "      <td>2947</td>\n",
       "      <td>13</td>\n",
       "      <td>331</td>\n",
       "      <td>2649</td>\n",
       "      <td>7</td>\n",
       "    </tr>\n",
       "  </tbody>\n",
       "</table>\n",
       "</div>"
      ],
      "text/plain": [
       "   user  event  organizer  location  timeslot\n",
       "0  1469     13        331      2649         7\n",
       "1  1844     13        331      2649         7\n",
       "2  2370     13        331      2649         7\n",
       "3  2424     13        331      2649         7\n",
       "4  2947     13        331      2649         7"
      ]
     },
     "execution_count": 105,
     "metadata": {},
     "output_type": "execute_result"
    }
   ],
   "source": [
    "relabeled_meetup_train = pd.DataFrame({\n",
    "    column: df_meetup_train[column] - 1\n",
    "    for column in df_meetup_train.columns\n",
    "}, columns=df_meetup_train.columns.tolist())\n",
    "print(relabeled_meetup_train.shape)\n",
    "relabeled_meetup_train.head()"
   ]
  },
  {
   "cell_type": "code",
   "execution_count": 107,
   "metadata": {},
   "outputs": [
    {
     "name": "stdout",
     "output_type": "stream",
     "text": [
      "(28438, 5)\n"
     ]
    },
    {
     "data": {
      "text/html": [
       "<div>\n",
       "<style scoped>\n",
       "    .dataframe tbody tr th:only-of-type {\n",
       "        vertical-align: middle;\n",
       "    }\n",
       "\n",
       "    .dataframe tbody tr th {\n",
       "        vertical-align: top;\n",
       "    }\n",
       "\n",
       "    .dataframe thead th {\n",
       "        text-align: right;\n",
       "    }\n",
       "</style>\n",
       "<table border=\"1\" class=\"dataframe\">\n",
       "  <thead>\n",
       "    <tr style=\"text-align: right;\">\n",
       "      <th></th>\n",
       "      <th>user</th>\n",
       "      <th>event</th>\n",
       "      <th>organizer</th>\n",
       "      <th>location</th>\n",
       "      <th>timeslot</th>\n",
       "    </tr>\n",
       "  </thead>\n",
       "  <tbody>\n",
       "    <tr>\n",
       "      <td>0</td>\n",
       "      <td>692</td>\n",
       "      <td>286</td>\n",
       "      <td>269</td>\n",
       "      <td>1410</td>\n",
       "      <td>27</td>\n",
       "    </tr>\n",
       "    <tr>\n",
       "      <td>1</td>\n",
       "      <td>1510</td>\n",
       "      <td>286</td>\n",
       "      <td>269</td>\n",
       "      <td>1410</td>\n",
       "      <td>27</td>\n",
       "    </tr>\n",
       "    <tr>\n",
       "      <td>2</td>\n",
       "      <td>1639</td>\n",
       "      <td>286</td>\n",
       "      <td>269</td>\n",
       "      <td>1410</td>\n",
       "      <td>27</td>\n",
       "    </tr>\n",
       "    <tr>\n",
       "      <td>3</td>\n",
       "      <td>3581</td>\n",
       "      <td>286</td>\n",
       "      <td>269</td>\n",
       "      <td>1410</td>\n",
       "      <td>27</td>\n",
       "    </tr>\n",
       "    <tr>\n",
       "      <td>4</td>\n",
       "      <td>10721</td>\n",
       "      <td>77</td>\n",
       "      <td>494</td>\n",
       "      <td>6816</td>\n",
       "      <td>4</td>\n",
       "    </tr>\n",
       "  </tbody>\n",
       "</table>\n",
       "</div>"
      ],
      "text/plain": [
       "    user  event  organizer  location  timeslot\n",
       "0    692    286        269      1410        27\n",
       "1   1510    286        269      1410        27\n",
       "2   1639    286        269      1410        27\n",
       "3   3581    286        269      1410        27\n",
       "4  10721     77        494      6816         4"
      ]
     },
     "execution_count": 107,
     "metadata": {},
     "output_type": "execute_result"
    }
   ],
   "source": [
    "relabeled_meetup_test = pd.DataFrame({\n",
    "    column: df_meetup_test[column] - 1\n",
    "    for column in df_meetup_test.columns\n",
    "}, columns=df_meetup_test.columns.tolist())\n",
    "print(relabeled_meetup_test.shape)\n",
    "relabeled_meetup_test.head()"
   ]
  },
  {
   "cell_type": "markdown",
   "metadata": {},
   "source": [
    "### Save as DeepCTR-compatible format"
   ]
  },
  {
   "cell_type": "code",
   "execution_count": 106,
   "metadata": {},
   "outputs": [],
   "source": [
    "relabeled_meetup_train.to_csv(os.path.join(OUT_MEETUP_DIR, \"deepctr.train.tsv\"), sep='\\t',\n",
    "                              index=False)"
   ]
  },
  {
   "cell_type": "code",
   "execution_count": 108,
   "metadata": {},
   "outputs": [],
   "source": [
    "relabeled_meetup_test.to_csv(os.path.join(OUT_MEETUP_DIR, \"deepctr.test.tsv\"), sep='\\t',\n",
    "                              index=False)"
   ]
  },
  {
   "cell_type": "markdown",
   "metadata": {},
   "source": [
    "### Save as IFM format"
   ]
  },
  {
   "cell_type": "markdown",
   "metadata": {},
   "source": [
    "### Save as CFM format"
   ]
  },
  {
   "cell_type": "code",
   "execution_count": 116,
   "metadata": {},
   "outputs": [
    {
     "name": "stdout",
     "output_type": "stream",
     "text": [
      "(113921, 5)\n"
     ]
    },
    {
     "data": {
      "text/html": [
       "<div>\n",
       "<style scoped>\n",
       "    .dataframe tbody tr th:only-of-type {\n",
       "        vertical-align: middle;\n",
       "    }\n",
       "\n",
       "    .dataframe tbody tr th {\n",
       "        vertical-align: top;\n",
       "    }\n",
       "\n",
       "    .dataframe thead th {\n",
       "        text-align: right;\n",
       "    }\n",
       "</style>\n",
       "<table border=\"1\" class=\"dataframe\">\n",
       "  <thead>\n",
       "    <tr style=\"text-align: right;\">\n",
       "      <th></th>\n",
       "      <th>user</th>\n",
       "      <th>event</th>\n",
       "      <th>organizer</th>\n",
       "      <th>location</th>\n",
       "      <th>timeslot</th>\n",
       "    </tr>\n",
       "  </thead>\n",
       "  <tbody>\n",
       "    <tr>\n",
       "      <td>0</td>\n",
       "      <td>1469</td>\n",
       "      <td>13</td>\n",
       "      <td>41776</td>\n",
       "      <td>45777</td>\n",
       "      <td>50150</td>\n",
       "    </tr>\n",
       "    <tr>\n",
       "      <td>1</td>\n",
       "      <td>1844</td>\n",
       "      <td>13</td>\n",
       "      <td>41776</td>\n",
       "      <td>45777</td>\n",
       "      <td>50150</td>\n",
       "    </tr>\n",
       "    <tr>\n",
       "      <td>2</td>\n",
       "      <td>2370</td>\n",
       "      <td>13</td>\n",
       "      <td>41776</td>\n",
       "      <td>45777</td>\n",
       "      <td>50150</td>\n",
       "    </tr>\n",
       "    <tr>\n",
       "      <td>3</td>\n",
       "      <td>2424</td>\n",
       "      <td>13</td>\n",
       "      <td>41776</td>\n",
       "      <td>45777</td>\n",
       "      <td>50150</td>\n",
       "    </tr>\n",
       "    <tr>\n",
       "      <td>4</td>\n",
       "      <td>2947</td>\n",
       "      <td>13</td>\n",
       "      <td>41776</td>\n",
       "      <td>45777</td>\n",
       "      <td>50150</td>\n",
       "    </tr>\n",
       "  </tbody>\n",
       "</table>\n",
       "</div>"
      ],
      "text/plain": [
       "   user  event  organizer  location  timeslot\n",
       "0  1469     13      41776     45777     50150\n",
       "1  1844     13      41776     45777     50150\n",
       "2  2370     13      41776     45777     50150\n",
       "3  2424     13      41776     45777     50150\n",
       "4  2947     13      41776     45777     50150"
      ]
     },
     "execution_count": 116,
     "metadata": {},
     "output_type": "execute_result"
    }
   ],
   "source": [
    "cfm_meetup_train = pd.DataFrame({\n",
    "    \"user\": relabeled_meetup_train[\"user\"],\n",
    "\n",
    "    \"event\": relabeled_meetup_train[\"event\"],\n",
    "    \"organizer\": relabeled_meetup_train[\"organizer\"] + cumulative_count(meetup_feature_counts, \"event\"),\n",
    "    \"location\": relabeled_meetup_train[\"location\"] + cumulative_count(meetup_feature_counts, \"event\", \"organizer\"),\n",
    "    \"timeslot\": relabeled_meetup_train[\"timeslot\"] + cumulative_count(meetup_feature_counts, \"event\", \"organizer\", \"location\"),\n",
    "}, columns=df_meetup.columns)\n",
    "print(cfm_meetup_train.shape)\n",
    "cfm_meetup_train.head()"
   ]
  },
  {
   "cell_type": "code",
   "execution_count": 117,
   "metadata": {},
   "outputs": [
    {
     "name": "stdout",
     "output_type": "stream",
     "text": [
      "user: 11233 items, numbered from 0 to 11232\n",
      "event: 34907 items, numbered from 0 to 41441\n",
      "organizer: 1560 items, numbered from 41445 to 43080\n",
      "location: 6046 items, numbered from 43128 to 49866\n",
      "timeslot: 146 items, numbered from 50143 to 50310\n"
     ]
    }
   ],
   "source": [
    "for column in cfm_meetup_train.columns:\n",
    "    print(\"{0}: {1} items, numbered from {2} to {3}\".format(column,\n",
    "                                                            cfm_meetup_train[column].drop_duplicates().count(),\n",
    "                                                            cfm_meetup_train[column].min(),\n",
    "                                                            cfm_meetup_train[column].max()))"
   ]
  },
  {
   "cell_type": "code",
   "execution_count": 118,
   "metadata": {},
   "outputs": [],
   "source": [
    "cfm_meetup_train.to_csv(os.path.join(OUT_MEETUP_DIR, \"cfm.train.tsv\"), sep='\\t',\n",
    "                          index=False)"
   ]
  },
  {
   "cell_type": "code",
   "execution_count": 119,
   "metadata": {},
   "outputs": [
    {
     "name": "stdout",
     "output_type": "stream",
     "text": [
      "(28438, 5)\n"
     ]
    },
    {
     "data": {
      "text/html": [
       "<div>\n",
       "<style scoped>\n",
       "    .dataframe tbody tr th:only-of-type {\n",
       "        vertical-align: middle;\n",
       "    }\n",
       "\n",
       "    .dataframe tbody tr th {\n",
       "        vertical-align: top;\n",
       "    }\n",
       "\n",
       "    .dataframe thead th {\n",
       "        text-align: right;\n",
       "    }\n",
       "</style>\n",
       "<table border=\"1\" class=\"dataframe\">\n",
       "  <thead>\n",
       "    <tr style=\"text-align: right;\">\n",
       "      <th></th>\n",
       "      <th>user</th>\n",
       "      <th>event</th>\n",
       "      <th>organizer</th>\n",
       "      <th>location</th>\n",
       "      <th>timeslot</th>\n",
       "    </tr>\n",
       "  </thead>\n",
       "  <tbody>\n",
       "    <tr>\n",
       "      <td>0</td>\n",
       "      <td>692</td>\n",
       "      <td>286</td>\n",
       "      <td>41714</td>\n",
       "      <td>44538</td>\n",
       "      <td>50170</td>\n",
       "    </tr>\n",
       "    <tr>\n",
       "      <td>1</td>\n",
       "      <td>1510</td>\n",
       "      <td>286</td>\n",
       "      <td>41714</td>\n",
       "      <td>44538</td>\n",
       "      <td>50170</td>\n",
       "    </tr>\n",
       "    <tr>\n",
       "      <td>2</td>\n",
       "      <td>1639</td>\n",
       "      <td>286</td>\n",
       "      <td>41714</td>\n",
       "      <td>44538</td>\n",
       "      <td>50170</td>\n",
       "    </tr>\n",
       "    <tr>\n",
       "      <td>3</td>\n",
       "      <td>3581</td>\n",
       "      <td>286</td>\n",
       "      <td>41714</td>\n",
       "      <td>44538</td>\n",
       "      <td>50170</td>\n",
       "    </tr>\n",
       "    <tr>\n",
       "      <td>4</td>\n",
       "      <td>10721</td>\n",
       "      <td>77</td>\n",
       "      <td>41939</td>\n",
       "      <td>49944</td>\n",
       "      <td>50147</td>\n",
       "    </tr>\n",
       "  </tbody>\n",
       "</table>\n",
       "</div>"
      ],
      "text/plain": [
       "    user  event  organizer  location  timeslot\n",
       "0    692    286      41714     44538     50170\n",
       "1   1510    286      41714     44538     50170\n",
       "2   1639    286      41714     44538     50170\n",
       "3   3581    286      41714     44538     50170\n",
       "4  10721     77      41939     49944     50147"
      ]
     },
     "execution_count": 119,
     "metadata": {},
     "output_type": "execute_result"
    }
   ],
   "source": [
    "cfm_meetup_test = pd.DataFrame({\n",
    "    \"user\": relabeled_meetup_test[\"user\"],\n",
    "\n",
    "    \"event\": relabeled_meetup_test[\"event\"],\n",
    "    \"organizer\": relabeled_meetup_test[\"organizer\"] + cumulative_count(meetup_feature_counts, \"event\"),\n",
    "    \"location\": relabeled_meetup_test[\"location\"] + cumulative_count(meetup_feature_counts, \"event\", \"organizer\"),\n",
    "    \"timeslot\": relabeled_meetup_test[\"timeslot\"] + cumulative_count(meetup_feature_counts, \"event\", \"organizer\", \"location\"),\n",
    "}, columns=df_meetup.columns)\n",
    "print(cfm_meetup_test.shape)\n",
    "cfm_meetup_test.head()"
   ]
  },
  {
   "cell_type": "code",
   "execution_count": 120,
   "metadata": {},
   "outputs": [
    {
     "name": "stdout",
     "output_type": "stream",
     "text": [
      "user: 11233 items, numbered from 0 to 11232\n",
      "event: 6538 items, numbered from 77 to 41444\n",
      "organizer: 1232 items, numbered from 41445 to 43127\n",
      "location: 2359 items, numbered from 43129 to 50142\n",
      "timeslot: 139 items, numbered from 50143 to 50310\n"
     ]
    }
   ],
   "source": [
    "for column in cfm_meetup_test.columns:\n",
    "    print(\"{0}: {1} items, numbered from {2} to {3}\".format(column,\n",
    "                                                            cfm_meetup_test[column].drop_duplicates().count(),\n",
    "                                                            cfm_meetup_test[column].min(),\n",
    "                                                            cfm_meetup_test[column].max()))"
   ]
  },
  {
   "cell_type": "code",
   "execution_count": 121,
   "metadata": {},
   "outputs": [],
   "source": [
    "cfm_meetup_test.to_csv(os.path.join(OUT_MEETUP_DIR, \"cfm.test.tsv\"), sep='\\t',\n",
    "                          index=False)"
   ]
  }
 ],
 "metadata": {
  "kernelspec": {
   "display_name": "Python 3",
   "language": "python",
   "name": "python3"
  },
  "language_info": {
   "codemirror_mode": {
    "name": "ipython",
    "version": 3
   },
   "file_extension": ".py",
   "mimetype": "text/x-python",
   "name": "python",
   "nbconvert_exporter": "python",
   "pygments_lexer": "ipython3",
   "version": "3.7.5"
  },
  "toc": {
   "base_numbering": 1,
   "nav_menu": {},
   "number_sections": true,
   "sideBar": true,
   "skip_h1_title": false,
   "title_cell": "Table of Contents",
   "title_sidebar": "Contents",
   "toc_cell": false,
   "toc_position": {
    "height": "calc(100% - 180px)",
    "left": "10px",
    "top": "150px",
    "width": "288px"
   },
   "toc_section_display": true,
   "toc_window_display": true
  }
 },
 "nbformat": 4,
 "nbformat_minor": 2
}
