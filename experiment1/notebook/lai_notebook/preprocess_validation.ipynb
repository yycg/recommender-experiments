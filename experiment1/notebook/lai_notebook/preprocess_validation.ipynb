{
 "cells": [
  {
   "cell_type": "code",
   "execution_count": 1,
   "metadata": {},
   "outputs": [],
   "source": [
    "import os\n",
    "\n",
    "import numpy as np\n",
    "import pandas as pd\n",
    "import sklearn.preprocessing"
   ]
  },
  {
   "cell_type": "markdown",
   "metadata": {},
   "source": [
    "# Preparation"
   ]
  },
  {
   "cell_type": "code",
   "execution_count": 99,
   "metadata": {},
   "outputs": [],
   "source": [
    "ORIGINAL_DIR = \"../original_data\"\n",
    "ORIGINAL_FRAPPE_DIR = os.path.join(ORIGINAL_DIR, \"frappe\")\n",
    "ORIGINAL_MLTAG_DIR = os.path.join(ORIGINAL_DIR, \"ml-tag\")\n",
    "ORIGINAL_MEETUP_DIR = os.path.join(ORIGINAL_DIR, \"meetup\")\n",
    "\n",
    "OUT_DIR = \"../data\"\n",
    "OUT_FRAPPE_DIR = os.path.join(OUT_DIR, \"frappe\")\n",
    "OUT_MLTAG_DIR = os.path.join(OUT_DIR, \"ml-tag\")\n",
    "OUT_MEETUP_DIR = os.path.join(OUT_DIR, \"meetup\")"
   ]
  },
  {
   "cell_type": "code",
   "execution_count": 3,
   "metadata": {},
   "outputs": [],
   "source": [
    "def cumulative_begin(labelencoders, *labels):\n",
    "    begin = 0\n",
    "    for label in labels:\n",
    "        begin += labelencoders[label].classes_.shape[0]\n",
    "    return begin\n"
   ]
  },
  {
   "cell_type": "code",
   "execution_count": 4,
   "metadata": {},
   "outputs": [],
   "source": [
    "def cumulative_count(counts, *labels):\n",
    "    begin = 0\n",
    "    for label in labels:\n",
    "        begin += counts[label]\n",
    "    return begin\n"
   ]
  },
  {
   "cell_type": "code",
   "execution_count": 6,
   "metadata": {},
   "outputs": [],
   "source": [
    "def libfm_names(names):\n",
    "    result = [\"value\"]\n",
    "    for name in names:\n",
    "        result.append(name)\n",
    "        result.append(name + \"_value\")\n",
    "    return result\n"
   ]
  },
  {
   "cell_type": "markdown",
   "metadata": {},
   "source": [
    "# Frappe dataset"
   ]
  },
  {
   "cell_type": "markdown",
   "metadata": {},
   "source": [
    "## Load originial dataset and detect column names"
   ]
  },
  {
   "cell_type": "code",
   "execution_count": 35,
   "metadata": {},
   "outputs": [
    {
     "name": "stdout",
     "output_type": "stream",
     "text": [
      "['user', 'daytime', 'weekday', 'isweekend', 'homework', 'weather', 'country', 'city']\n",
      "['item', 'cost']\n",
      "['user', 'item', 'daytime', 'weekday', 'isweekend', 'homework', 'cost', 'weather', 'country', 'city']\n"
     ]
    }
   ],
   "source": [
    "frappe_user_feature_columns = [\"user\", \"daytime\", \"weekday\", \"isweekend\", \"homework\", \"weather\", \"country\", \"city\"]\n",
    "frappe_item_feature_columns = [\"item\", \"cost\"]\n",
    "frappe_names = [\"user\", \"item\", \"daytime\", \"weekday\", \"isweekend\", \"homework\", \"cost\", \"weather\", \"country\", \"city\"]\n",
    "\n",
    "print(frappe_user_feature_columns)\n",
    "print(frappe_item_feature_columns)\n",
    "print(frappe_names)"
   ]
  },
  {
   "cell_type": "code",
   "execution_count": 36,
   "metadata": {},
   "outputs": [
    {
     "data": {
      "text/plain": [
       "['value',\n",
       " 'user',\n",
       " 'user_value',\n",
       " 'item',\n",
       " 'item_value',\n",
       " 'daytime',\n",
       " 'daytime_value',\n",
       " 'weekday',\n",
       " 'weekday_value',\n",
       " 'isweekend',\n",
       " 'isweekend_value',\n",
       " 'homework',\n",
       " 'homework_value',\n",
       " 'cost',\n",
       " 'cost_value',\n",
       " 'weather',\n",
       " 'weather_value',\n",
       " 'country',\n",
       " 'country_value',\n",
       " 'city',\n",
       " 'city_value']"
      ]
     },
     "execution_count": 36,
     "metadata": {},
     "output_type": "execute_result"
    }
   ],
   "source": [
    "frappe_libfm_names = libfm_names(frappe_names)\n",
    "frappe_libfm_names"
   ]
  },
  {
   "cell_type": "code",
   "execution_count": 37,
   "metadata": {},
   "outputs": [
    {
     "name": "stdout",
     "output_type": "stream",
     "text": [
      "(202027, 21)\n"
     ]
    },
    {
     "data": {
      "text/html": [
       "<div>\n",
       "<style scoped>\n",
       "    .dataframe tbody tr th:only-of-type {\n",
       "        vertical-align: middle;\n",
       "    }\n",
       "\n",
       "    .dataframe tbody tr th {\n",
       "        vertical-align: top;\n",
       "    }\n",
       "\n",
       "    .dataframe thead th {\n",
       "        text-align: right;\n",
       "    }\n",
       "</style>\n",
       "<table border=\"1\" class=\"dataframe\">\n",
       "  <thead>\n",
       "    <tr style=\"text-align: right;\">\n",
       "      <th></th>\n",
       "      <th>value</th>\n",
       "      <th>user</th>\n",
       "      <th>user_value</th>\n",
       "      <th>item</th>\n",
       "      <th>item_value</th>\n",
       "      <th>daytime</th>\n",
       "      <th>daytime_value</th>\n",
       "      <th>weekday</th>\n",
       "      <th>weekday_value</th>\n",
       "      <th>isweekend</th>\n",
       "      <th>...</th>\n",
       "      <th>homework</th>\n",
       "      <th>homework_value</th>\n",
       "      <th>cost</th>\n",
       "      <th>cost_value</th>\n",
       "      <th>weather</th>\n",
       "      <th>weather_value</th>\n",
       "      <th>country</th>\n",
       "      <th>country_value</th>\n",
       "      <th>city</th>\n",
       "      <th>city_value</th>\n",
       "    </tr>\n",
       "  </thead>\n",
       "  <tbody>\n",
       "    <tr>\n",
       "      <th>0</th>\n",
       "      <td>-1</td>\n",
       "      <td>451</td>\n",
       "      <td>1</td>\n",
       "      <td>4149</td>\n",
       "      <td>1</td>\n",
       "      <td>5041</td>\n",
       "      <td>1</td>\n",
       "      <td>5046</td>\n",
       "      <td>1</td>\n",
       "      <td>5053</td>\n",
       "      <td>...</td>\n",
       "      <td>5055</td>\n",
       "      <td>1</td>\n",
       "      <td>5058</td>\n",
       "      <td>1</td>\n",
       "      <td>5060</td>\n",
       "      <td>1</td>\n",
       "      <td>5069</td>\n",
       "      <td>1</td>\n",
       "      <td>5149</td>\n",
       "      <td>1</td>\n",
       "    </tr>\n",
       "    <tr>\n",
       "      <th>1</th>\n",
       "      <td>-1</td>\n",
       "      <td>91</td>\n",
       "      <td>1</td>\n",
       "      <td>3503</td>\n",
       "      <td>1</td>\n",
       "      <td>5041</td>\n",
       "      <td>1</td>\n",
       "      <td>5047</td>\n",
       "      <td>1</td>\n",
       "      <td>5053</td>\n",
       "      <td>...</td>\n",
       "      <td>5056</td>\n",
       "      <td>1</td>\n",
       "      <td>5058</td>\n",
       "      <td>1</td>\n",
       "      <td>5065</td>\n",
       "      <td>1</td>\n",
       "      <td>5095</td>\n",
       "      <td>1</td>\n",
       "      <td>5149</td>\n",
       "      <td>1</td>\n",
       "    </tr>\n",
       "    <tr>\n",
       "      <th>2</th>\n",
       "      <td>1</td>\n",
       "      <td>168</td>\n",
       "      <td>1</td>\n",
       "      <td>983</td>\n",
       "      <td>1</td>\n",
       "      <td>5040</td>\n",
       "      <td>1</td>\n",
       "      <td>5050</td>\n",
       "      <td>1</td>\n",
       "      <td>5054</td>\n",
       "      <td>...</td>\n",
       "      <td>5055</td>\n",
       "      <td>1</td>\n",
       "      <td>5058</td>\n",
       "      <td>1</td>\n",
       "      <td>5060</td>\n",
       "      <td>1</td>\n",
       "      <td>5069</td>\n",
       "      <td>1</td>\n",
       "      <td>5207</td>\n",
       "      <td>1</td>\n",
       "    </tr>\n",
       "    <tr>\n",
       "      <th>3</th>\n",
       "      <td>-1</td>\n",
       "      <td>620</td>\n",
       "      <td>1</td>\n",
       "      <td>1743</td>\n",
       "      <td>1</td>\n",
       "      <td>5045</td>\n",
       "      <td>1</td>\n",
       "      <td>5051</td>\n",
       "      <td>1</td>\n",
       "      <td>5054</td>\n",
       "      <td>...</td>\n",
       "      <td>5055</td>\n",
       "      <td>1</td>\n",
       "      <td>5058</td>\n",
       "      <td>1</td>\n",
       "      <td>5061</td>\n",
       "      <td>1</td>\n",
       "      <td>5073</td>\n",
       "      <td>1</td>\n",
       "      <td>5149</td>\n",
       "      <td>1</td>\n",
       "    </tr>\n",
       "    <tr>\n",
       "      <th>4</th>\n",
       "      <td>-1</td>\n",
       "      <td>46</td>\n",
       "      <td>1</td>\n",
       "      <td>2692</td>\n",
       "      <td>1</td>\n",
       "      <td>5040</td>\n",
       "      <td>1</td>\n",
       "      <td>5049</td>\n",
       "      <td>1</td>\n",
       "      <td>5054</td>\n",
       "      <td>...</td>\n",
       "      <td>5055</td>\n",
       "      <td>1</td>\n",
       "      <td>5058</td>\n",
       "      <td>1</td>\n",
       "      <td>5060</td>\n",
       "      <td>1</td>\n",
       "      <td>5086</td>\n",
       "      <td>1</td>\n",
       "      <td>5211</td>\n",
       "      <td>1</td>\n",
       "    </tr>\n",
       "  </tbody>\n",
       "</table>\n",
       "<p>5 rows × 21 columns</p>\n",
       "</div>"
      ],
      "text/plain": [
       "   value  user  user_value  item  item_value  daytime  daytime_value  weekday  \\\n",
       "0     -1   451           1  4149           1     5041              1     5046   \n",
       "1     -1    91           1  3503           1     5041              1     5047   \n",
       "2      1   168           1   983           1     5040              1     5050   \n",
       "3     -1   620           1  1743           1     5045              1     5051   \n",
       "4     -1    46           1  2692           1     5040              1     5049   \n",
       "\n",
       "   weekday_value  isweekend     ...      homework  homework_value  cost  \\\n",
       "0              1       5053     ...          5055               1  5058   \n",
       "1              1       5053     ...          5056               1  5058   \n",
       "2              1       5054     ...          5055               1  5058   \n",
       "3              1       5054     ...          5055               1  5058   \n",
       "4              1       5054     ...          5055               1  5058   \n",
       "\n",
       "   cost_value  weather  weather_value  country  country_value  city  \\\n",
       "0           1     5060              1     5069              1  5149   \n",
       "1           1     5065              1     5095              1  5149   \n",
       "2           1     5060              1     5069              1  5207   \n",
       "3           1     5061              1     5073              1  5149   \n",
       "4           1     5060              1     5086              1  5211   \n",
       "\n",
       "   city_value  \n",
       "0           1  \n",
       "1           1  \n",
       "2           1  \n",
       "3           1  \n",
       "4           1  \n",
       "\n",
       "[5 rows x 21 columns]"
      ]
     },
     "execution_count": 37,
     "metadata": {},
     "output_type": "execute_result"
    }
   ],
   "source": [
    "df_frappe_train = pd.read_csv(os.path.join(ORIGINAL_FRAPPE_DIR, \"frappe.train.libfm\"),\n",
    "                                 sep=\"[ :]\", engine=\"python\",\n",
    "                                 header=None, names=frappe_libfm_names)\n",
    "print(df_frappe_train.shape)\n",
    "df_frappe_train.head()"
   ]
  },
  {
   "cell_type": "code",
   "execution_count": 38,
   "metadata": {},
   "outputs": [
    {
     "name": "stdout",
     "output_type": "stream",
     "text": [
      "(57722, 21)\n"
     ]
    },
    {
     "data": {
      "text/html": [
       "<div>\n",
       "<style scoped>\n",
       "    .dataframe tbody tr th:only-of-type {\n",
       "        vertical-align: middle;\n",
       "    }\n",
       "\n",
       "    .dataframe tbody tr th {\n",
       "        vertical-align: top;\n",
       "    }\n",
       "\n",
       "    .dataframe thead th {\n",
       "        text-align: right;\n",
       "    }\n",
       "</style>\n",
       "<table border=\"1\" class=\"dataframe\">\n",
       "  <thead>\n",
       "    <tr style=\"text-align: right;\">\n",
       "      <th></th>\n",
       "      <th>value</th>\n",
       "      <th>user</th>\n",
       "      <th>user_value</th>\n",
       "      <th>item</th>\n",
       "      <th>item_value</th>\n",
       "      <th>daytime</th>\n",
       "      <th>daytime_value</th>\n",
       "      <th>weekday</th>\n",
       "      <th>weekday_value</th>\n",
       "      <th>isweekend</th>\n",
       "      <th>...</th>\n",
       "      <th>homework</th>\n",
       "      <th>homework_value</th>\n",
       "      <th>cost</th>\n",
       "      <th>cost_value</th>\n",
       "      <th>weather</th>\n",
       "      <th>weather_value</th>\n",
       "      <th>country</th>\n",
       "      <th>country_value</th>\n",
       "      <th>city</th>\n",
       "      <th>city_value</th>\n",
       "    </tr>\n",
       "  </thead>\n",
       "  <tbody>\n",
       "    <tr>\n",
       "      <th>0</th>\n",
       "      <td>1</td>\n",
       "      <td>266</td>\n",
       "      <td>1</td>\n",
       "      <td>1244</td>\n",
       "      <td>1</td>\n",
       "      <td>5042</td>\n",
       "      <td>1</td>\n",
       "      <td>5049</td>\n",
       "      <td>1</td>\n",
       "      <td>5054</td>\n",
       "      <td>...</td>\n",
       "      <td>5055</td>\n",
       "      <td>1</td>\n",
       "      <td>5058</td>\n",
       "      <td>1</td>\n",
       "      <td>5062</td>\n",
       "      <td>1</td>\n",
       "      <td>5074</td>\n",
       "      <td>1</td>\n",
       "      <td>5149</td>\n",
       "      <td>1</td>\n",
       "    </tr>\n",
       "    <tr>\n",
       "      <th>1</th>\n",
       "      <td>-1</td>\n",
       "      <td>138</td>\n",
       "      <td>1</td>\n",
       "      <td>1296</td>\n",
       "      <td>1</td>\n",
       "      <td>5041</td>\n",
       "      <td>1</td>\n",
       "      <td>5052</td>\n",
       "      <td>1</td>\n",
       "      <td>5053</td>\n",
       "      <td>...</td>\n",
       "      <td>5055</td>\n",
       "      <td>1</td>\n",
       "      <td>5058</td>\n",
       "      <td>1</td>\n",
       "      <td>5061</td>\n",
       "      <td>1</td>\n",
       "      <td>5085</td>\n",
       "      <td>1</td>\n",
       "      <td>5201</td>\n",
       "      <td>1</td>\n",
       "    </tr>\n",
       "    <tr>\n",
       "      <th>2</th>\n",
       "      <td>-1</td>\n",
       "      <td>317</td>\n",
       "      <td>1</td>\n",
       "      <td>1694</td>\n",
       "      <td>1</td>\n",
       "      <td>5041</td>\n",
       "      <td>1</td>\n",
       "      <td>5047</td>\n",
       "      <td>1</td>\n",
       "      <td>5053</td>\n",
       "      <td>...</td>\n",
       "      <td>5055</td>\n",
       "      <td>1</td>\n",
       "      <td>5058</td>\n",
       "      <td>1</td>\n",
       "      <td>5061</td>\n",
       "      <td>1</td>\n",
       "      <td>5070</td>\n",
       "      <td>1</td>\n",
       "      <td>5150</td>\n",
       "      <td>1</td>\n",
       "    </tr>\n",
       "    <tr>\n",
       "      <th>3</th>\n",
       "      <td>-1</td>\n",
       "      <td>14</td>\n",
       "      <td>1</td>\n",
       "      <td>2659</td>\n",
       "      <td>1</td>\n",
       "      <td>5043</td>\n",
       "      <td>1</td>\n",
       "      <td>5052</td>\n",
       "      <td>1</td>\n",
       "      <td>5054</td>\n",
       "      <td>...</td>\n",
       "      <td>5055</td>\n",
       "      <td>1</td>\n",
       "      <td>5058</td>\n",
       "      <td>1</td>\n",
       "      <td>5064</td>\n",
       "      <td>1</td>\n",
       "      <td>5076</td>\n",
       "      <td>1</td>\n",
       "      <td>5205</td>\n",
       "      <td>1</td>\n",
       "    </tr>\n",
       "    <tr>\n",
       "      <th>4</th>\n",
       "      <td>1</td>\n",
       "      <td>123</td>\n",
       "      <td>1</td>\n",
       "      <td>4068</td>\n",
       "      <td>1</td>\n",
       "      <td>5043</td>\n",
       "      <td>1</td>\n",
       "      <td>5050</td>\n",
       "      <td>1</td>\n",
       "      <td>5054</td>\n",
       "      <td>...</td>\n",
       "      <td>5056</td>\n",
       "      <td>1</td>\n",
       "      <td>5058</td>\n",
       "      <td>1</td>\n",
       "      <td>5060</td>\n",
       "      <td>1</td>\n",
       "      <td>5069</td>\n",
       "      <td>1</td>\n",
       "      <td>5149</td>\n",
       "      <td>1</td>\n",
       "    </tr>\n",
       "  </tbody>\n",
       "</table>\n",
       "<p>5 rows × 21 columns</p>\n",
       "</div>"
      ],
      "text/plain": [
       "   value  user  user_value  item  item_value  daytime  daytime_value  weekday  \\\n",
       "0      1   266           1  1244           1     5042              1     5049   \n",
       "1     -1   138           1  1296           1     5041              1     5052   \n",
       "2     -1   317           1  1694           1     5041              1     5047   \n",
       "3     -1    14           1  2659           1     5043              1     5052   \n",
       "4      1   123           1  4068           1     5043              1     5050   \n",
       "\n",
       "   weekday_value  isweekend     ...      homework  homework_value  cost  \\\n",
       "0              1       5054     ...          5055               1  5058   \n",
       "1              1       5053     ...          5055               1  5058   \n",
       "2              1       5053     ...          5055               1  5058   \n",
       "3              1       5054     ...          5055               1  5058   \n",
       "4              1       5054     ...          5056               1  5058   \n",
       "\n",
       "   cost_value  weather  weather_value  country  country_value  city  \\\n",
       "0           1     5062              1     5074              1  5149   \n",
       "1           1     5061              1     5085              1  5201   \n",
       "2           1     5061              1     5070              1  5150   \n",
       "3           1     5064              1     5076              1  5205   \n",
       "4           1     5060              1     5069              1  5149   \n",
       "\n",
       "   city_value  \n",
       "0           1  \n",
       "1           1  \n",
       "2           1  \n",
       "3           1  \n",
       "4           1  \n",
       "\n",
       "[5 rows x 21 columns]"
      ]
     },
     "execution_count": 38,
     "metadata": {},
     "output_type": "execute_result"
    }
   ],
   "source": [
    "df_frappe_validation = pd.read_csv(os.path.join(ORIGINAL_FRAPPE_DIR, \"frappe.validation.libfm\"),\n",
    "                                 sep=\"[ :]\", engine=\"python\",\n",
    "                                 header=None, names=frappe_libfm_names)\n",
    "print(df_frappe_validation.shape)\n",
    "df_frappe_validation.head()"
   ]
  },
  {
   "cell_type": "code",
   "execution_count": 39,
   "metadata": {},
   "outputs": [
    {
     "name": "stdout",
     "output_type": "stream",
     "text": [
      "(28860, 21)\n"
     ]
    },
    {
     "data": {
      "text/html": [
       "<div>\n",
       "<style scoped>\n",
       "    .dataframe tbody tr th:only-of-type {\n",
       "        vertical-align: middle;\n",
       "    }\n",
       "\n",
       "    .dataframe tbody tr th {\n",
       "        vertical-align: top;\n",
       "    }\n",
       "\n",
       "    .dataframe thead th {\n",
       "        text-align: right;\n",
       "    }\n",
       "</style>\n",
       "<table border=\"1\" class=\"dataframe\">\n",
       "  <thead>\n",
       "    <tr style=\"text-align: right;\">\n",
       "      <th></th>\n",
       "      <th>value</th>\n",
       "      <th>user</th>\n",
       "      <th>user_value</th>\n",
       "      <th>item</th>\n",
       "      <th>item_value</th>\n",
       "      <th>daytime</th>\n",
       "      <th>daytime_value</th>\n",
       "      <th>weekday</th>\n",
       "      <th>weekday_value</th>\n",
       "      <th>isweekend</th>\n",
       "      <th>...</th>\n",
       "      <th>homework</th>\n",
       "      <th>homework_value</th>\n",
       "      <th>cost</th>\n",
       "      <th>cost_value</th>\n",
       "      <th>weather</th>\n",
       "      <th>weather_value</th>\n",
       "      <th>country</th>\n",
       "      <th>country_value</th>\n",
       "      <th>city</th>\n",
       "      <th>city_value</th>\n",
       "    </tr>\n",
       "  </thead>\n",
       "  <tbody>\n",
       "    <tr>\n",
       "      <th>0</th>\n",
       "      <td>-1</td>\n",
       "      <td>204</td>\n",
       "      <td>1</td>\n",
       "      <td>4798</td>\n",
       "      <td>1</td>\n",
       "      <td>5041</td>\n",
       "      <td>1</td>\n",
       "      <td>5046</td>\n",
       "      <td>1</td>\n",
       "      <td>5053</td>\n",
       "      <td>...</td>\n",
       "      <td>5055</td>\n",
       "      <td>1</td>\n",
       "      <td>5058</td>\n",
       "      <td>1</td>\n",
       "      <td>5060</td>\n",
       "      <td>1</td>\n",
       "      <td>5073</td>\n",
       "      <td>1</td>\n",
       "      <td>5183</td>\n",
       "      <td>1</td>\n",
       "    </tr>\n",
       "    <tr>\n",
       "      <th>1</th>\n",
       "      <td>1</td>\n",
       "      <td>42</td>\n",
       "      <td>1</td>\n",
       "      <td>1572</td>\n",
       "      <td>1</td>\n",
       "      <td>5042</td>\n",
       "      <td>1</td>\n",
       "      <td>5047</td>\n",
       "      <td>1</td>\n",
       "      <td>5053</td>\n",
       "      <td>...</td>\n",
       "      <td>5055</td>\n",
       "      <td>1</td>\n",
       "      <td>5058</td>\n",
       "      <td>1</td>\n",
       "      <td>5060</td>\n",
       "      <td>1</td>\n",
       "      <td>5070</td>\n",
       "      <td>1</td>\n",
       "      <td>5150</td>\n",
       "      <td>1</td>\n",
       "    </tr>\n",
       "    <tr>\n",
       "      <th>2</th>\n",
       "      <td>1</td>\n",
       "      <td>282</td>\n",
       "      <td>1</td>\n",
       "      <td>2552</td>\n",
       "      <td>1</td>\n",
       "      <td>5044</td>\n",
       "      <td>1</td>\n",
       "      <td>5052</td>\n",
       "      <td>1</td>\n",
       "      <td>5054</td>\n",
       "      <td>...</td>\n",
       "      <td>5055</td>\n",
       "      <td>1</td>\n",
       "      <td>5058</td>\n",
       "      <td>1</td>\n",
       "      <td>5060</td>\n",
       "      <td>1</td>\n",
       "      <td>5072</td>\n",
       "      <td>1</td>\n",
       "      <td>5244</td>\n",
       "      <td>1</td>\n",
       "    </tr>\n",
       "    <tr>\n",
       "      <th>3</th>\n",
       "      <td>-1</td>\n",
       "      <td>215</td>\n",
       "      <td>1</td>\n",
       "      <td>1402</td>\n",
       "      <td>1</td>\n",
       "      <td>5039</td>\n",
       "      <td>1</td>\n",
       "      <td>5051</td>\n",
       "      <td>1</td>\n",
       "      <td>5054</td>\n",
       "      <td>...</td>\n",
       "      <td>5055</td>\n",
       "      <td>1</td>\n",
       "      <td>5058</td>\n",
       "      <td>1</td>\n",
       "      <td>5063</td>\n",
       "      <td>1</td>\n",
       "      <td>5069</td>\n",
       "      <td>1</td>\n",
       "      <td>5149</td>\n",
       "      <td>1</td>\n",
       "    </tr>\n",
       "    <tr>\n",
       "      <th>4</th>\n",
       "      <td>-1</td>\n",
       "      <td>346</td>\n",
       "      <td>1</td>\n",
       "      <td>2423</td>\n",
       "      <td>1</td>\n",
       "      <td>5043</td>\n",
       "      <td>1</td>\n",
       "      <td>5051</td>\n",
       "      <td>1</td>\n",
       "      <td>5054</td>\n",
       "      <td>...</td>\n",
       "      <td>5055</td>\n",
       "      <td>1</td>\n",
       "      <td>5058</td>\n",
       "      <td>1</td>\n",
       "      <td>5063</td>\n",
       "      <td>1</td>\n",
       "      <td>5088</td>\n",
       "      <td>1</td>\n",
       "      <td>5149</td>\n",
       "      <td>1</td>\n",
       "    </tr>\n",
       "  </tbody>\n",
       "</table>\n",
       "<p>5 rows × 21 columns</p>\n",
       "</div>"
      ],
      "text/plain": [
       "   value  user  user_value  item  item_value  daytime  daytime_value  weekday  \\\n",
       "0     -1   204           1  4798           1     5041              1     5046   \n",
       "1      1    42           1  1572           1     5042              1     5047   \n",
       "2      1   282           1  2552           1     5044              1     5052   \n",
       "3     -1   215           1  1402           1     5039              1     5051   \n",
       "4     -1   346           1  2423           1     5043              1     5051   \n",
       "\n",
       "   weekday_value  isweekend     ...      homework  homework_value  cost  \\\n",
       "0              1       5053     ...          5055               1  5058   \n",
       "1              1       5053     ...          5055               1  5058   \n",
       "2              1       5054     ...          5055               1  5058   \n",
       "3              1       5054     ...          5055               1  5058   \n",
       "4              1       5054     ...          5055               1  5058   \n",
       "\n",
       "   cost_value  weather  weather_value  country  country_value  city  \\\n",
       "0           1     5060              1     5073              1  5183   \n",
       "1           1     5060              1     5070              1  5150   \n",
       "2           1     5060              1     5072              1  5244   \n",
       "3           1     5063              1     5069              1  5149   \n",
       "4           1     5063              1     5088              1  5149   \n",
       "\n",
       "   city_value  \n",
       "0           1  \n",
       "1           1  \n",
       "2           1  \n",
       "3           1  \n",
       "4           1  \n",
       "\n",
       "[5 rows x 21 columns]"
      ]
     },
     "execution_count": 39,
     "metadata": {},
     "output_type": "execute_result"
    }
   ],
   "source": [
    "df_frappe_test = pd.read_csv(os.path.join(ORIGINAL_FRAPPE_DIR, \"frappe.test.libfm\"),\n",
    "                                 sep=\"[ :]\", engine=\"python\",\n",
    "                                 header=None, names=frappe_libfm_names)\n",
    "print(df_frappe_test.shape)\n",
    "df_frappe_test.head()"
   ]
  },
  {
   "cell_type": "markdown",
   "metadata": {},
   "source": [
    "### Concatenate all subsets"
   ]
  },
  {
   "cell_type": "code",
   "execution_count": 40,
   "metadata": {
    "scrolled": true
   },
   "outputs": [
    {
     "name": "stdout",
     "output_type": "stream",
     "text": [
      "(288609, 21)\n"
     ]
    },
    {
     "data": {
      "text/html": [
       "<div>\n",
       "<style scoped>\n",
       "    .dataframe tbody tr th:only-of-type {\n",
       "        vertical-align: middle;\n",
       "    }\n",
       "\n",
       "    .dataframe tbody tr th {\n",
       "        vertical-align: top;\n",
       "    }\n",
       "\n",
       "    .dataframe thead th {\n",
       "        text-align: right;\n",
       "    }\n",
       "</style>\n",
       "<table border=\"1\" class=\"dataframe\">\n",
       "  <thead>\n",
       "    <tr style=\"text-align: right;\">\n",
       "      <th></th>\n",
       "      <th>value</th>\n",
       "      <th>user</th>\n",
       "      <th>user_value</th>\n",
       "      <th>item</th>\n",
       "      <th>item_value</th>\n",
       "      <th>daytime</th>\n",
       "      <th>daytime_value</th>\n",
       "      <th>weekday</th>\n",
       "      <th>weekday_value</th>\n",
       "      <th>isweekend</th>\n",
       "      <th>...</th>\n",
       "      <th>homework</th>\n",
       "      <th>homework_value</th>\n",
       "      <th>cost</th>\n",
       "      <th>cost_value</th>\n",
       "      <th>weather</th>\n",
       "      <th>weather_value</th>\n",
       "      <th>country</th>\n",
       "      <th>country_value</th>\n",
       "      <th>city</th>\n",
       "      <th>city_value</th>\n",
       "    </tr>\n",
       "  </thead>\n",
       "  <tbody>\n",
       "    <tr>\n",
       "      <th>0</th>\n",
       "      <td>-1</td>\n",
       "      <td>451</td>\n",
       "      <td>1</td>\n",
       "      <td>4149</td>\n",
       "      <td>1</td>\n",
       "      <td>5041</td>\n",
       "      <td>1</td>\n",
       "      <td>5046</td>\n",
       "      <td>1</td>\n",
       "      <td>5053</td>\n",
       "      <td>...</td>\n",
       "      <td>5055</td>\n",
       "      <td>1</td>\n",
       "      <td>5058</td>\n",
       "      <td>1</td>\n",
       "      <td>5060</td>\n",
       "      <td>1</td>\n",
       "      <td>5069</td>\n",
       "      <td>1</td>\n",
       "      <td>5149</td>\n",
       "      <td>1</td>\n",
       "    </tr>\n",
       "    <tr>\n",
       "      <th>1</th>\n",
       "      <td>-1</td>\n",
       "      <td>91</td>\n",
       "      <td>1</td>\n",
       "      <td>3503</td>\n",
       "      <td>1</td>\n",
       "      <td>5041</td>\n",
       "      <td>1</td>\n",
       "      <td>5047</td>\n",
       "      <td>1</td>\n",
       "      <td>5053</td>\n",
       "      <td>...</td>\n",
       "      <td>5056</td>\n",
       "      <td>1</td>\n",
       "      <td>5058</td>\n",
       "      <td>1</td>\n",
       "      <td>5065</td>\n",
       "      <td>1</td>\n",
       "      <td>5095</td>\n",
       "      <td>1</td>\n",
       "      <td>5149</td>\n",
       "      <td>1</td>\n",
       "    </tr>\n",
       "    <tr>\n",
       "      <th>2</th>\n",
       "      <td>1</td>\n",
       "      <td>168</td>\n",
       "      <td>1</td>\n",
       "      <td>983</td>\n",
       "      <td>1</td>\n",
       "      <td>5040</td>\n",
       "      <td>1</td>\n",
       "      <td>5050</td>\n",
       "      <td>1</td>\n",
       "      <td>5054</td>\n",
       "      <td>...</td>\n",
       "      <td>5055</td>\n",
       "      <td>1</td>\n",
       "      <td>5058</td>\n",
       "      <td>1</td>\n",
       "      <td>5060</td>\n",
       "      <td>1</td>\n",
       "      <td>5069</td>\n",
       "      <td>1</td>\n",
       "      <td>5207</td>\n",
       "      <td>1</td>\n",
       "    </tr>\n",
       "    <tr>\n",
       "      <th>3</th>\n",
       "      <td>-1</td>\n",
       "      <td>620</td>\n",
       "      <td>1</td>\n",
       "      <td>1743</td>\n",
       "      <td>1</td>\n",
       "      <td>5045</td>\n",
       "      <td>1</td>\n",
       "      <td>5051</td>\n",
       "      <td>1</td>\n",
       "      <td>5054</td>\n",
       "      <td>...</td>\n",
       "      <td>5055</td>\n",
       "      <td>1</td>\n",
       "      <td>5058</td>\n",
       "      <td>1</td>\n",
       "      <td>5061</td>\n",
       "      <td>1</td>\n",
       "      <td>5073</td>\n",
       "      <td>1</td>\n",
       "      <td>5149</td>\n",
       "      <td>1</td>\n",
       "    </tr>\n",
       "    <tr>\n",
       "      <th>4</th>\n",
       "      <td>-1</td>\n",
       "      <td>46</td>\n",
       "      <td>1</td>\n",
       "      <td>2692</td>\n",
       "      <td>1</td>\n",
       "      <td>5040</td>\n",
       "      <td>1</td>\n",
       "      <td>5049</td>\n",
       "      <td>1</td>\n",
       "      <td>5054</td>\n",
       "      <td>...</td>\n",
       "      <td>5055</td>\n",
       "      <td>1</td>\n",
       "      <td>5058</td>\n",
       "      <td>1</td>\n",
       "      <td>5060</td>\n",
       "      <td>1</td>\n",
       "      <td>5086</td>\n",
       "      <td>1</td>\n",
       "      <td>5211</td>\n",
       "      <td>1</td>\n",
       "    </tr>\n",
       "  </tbody>\n",
       "</table>\n",
       "<p>5 rows × 21 columns</p>\n",
       "</div>"
      ],
      "text/plain": [
       "   value  user  user_value  item  item_value  daytime  daytime_value  weekday  \\\n",
       "0     -1   451           1  4149           1     5041              1     5046   \n",
       "1     -1    91           1  3503           1     5041              1     5047   \n",
       "2      1   168           1   983           1     5040              1     5050   \n",
       "3     -1   620           1  1743           1     5045              1     5051   \n",
       "4     -1    46           1  2692           1     5040              1     5049   \n",
       "\n",
       "   weekday_value  isweekend     ...      homework  homework_value  cost  \\\n",
       "0              1       5053     ...          5055               1  5058   \n",
       "1              1       5053     ...          5056               1  5058   \n",
       "2              1       5054     ...          5055               1  5058   \n",
       "3              1       5054     ...          5055               1  5058   \n",
       "4              1       5054     ...          5055               1  5058   \n",
       "\n",
       "   cost_value  weather  weather_value  country  country_value  city  \\\n",
       "0           1     5060              1     5069              1  5149   \n",
       "1           1     5065              1     5095              1  5149   \n",
       "2           1     5060              1     5069              1  5207   \n",
       "3           1     5061              1     5073              1  5149   \n",
       "4           1     5060              1     5086              1  5211   \n",
       "\n",
       "   city_value  \n",
       "0           1  \n",
       "1           1  \n",
       "2           1  \n",
       "3           1  \n",
       "4           1  \n",
       "\n",
       "[5 rows x 21 columns]"
      ]
     },
     "execution_count": 40,
     "metadata": {},
     "output_type": "execute_result"
    }
   ],
   "source": [
    "df_frappe = pd.concat([df_frappe_train, df_frappe_validation, df_frappe_test])\n",
    "print(df_frappe.shape)\n",
    "df_frappe.head()"
   ]
  },
  {
   "cell_type": "markdown",
   "metadata": {},
   "source": [
    "### Check column name detection"
   ]
  },
  {
   "cell_type": "code",
   "execution_count": 41,
   "metadata": {
    "scrolled": true
   },
   "outputs": [
    {
     "name": "stdout",
     "output_type": "stream",
     "text": [
      "user: 957 items, numbered from 0 to 956\n",
      "item: 4082 items, numbered from 957 to 5038\n",
      "daytime: 7 items, numbered from 5039 to 5045\n",
      "weekday: 7 items, numbered from 5046 to 5052\n",
      "isweekend: 2 items, numbered from 5053 to 5054\n",
      "homework: 3 items, numbered from 5055 to 5057\n",
      "cost: 2 items, numbered from 5058 to 5059\n",
      "weather: 9 items, numbered from 5060 to 5068\n",
      "country: 80 items, numbered from 5069 to 5148\n",
      "city: 233 items, numbered from 5149 to 5381\n"
     ]
    }
   ],
   "source": [
    "for column in frappe_names:\n",
    "    print(\"{0}: {1} items, numbered from {2} to {3}\".format(column,\n",
    "                                                            df_frappe[column].drop_duplicates().count(),\n",
    "                                                            df_frappe[column].min(),\n",
    "                                                            df_frappe[column].max()))"
   ]
  },
  {
   "cell_type": "markdown",
   "metadata": {},
   "source": [
    "### Check column value"
   ]
  },
  {
   "cell_type": "code",
   "execution_count": 48,
   "metadata": {},
   "outputs": [
    {
     "name": "stdout",
     "output_type": "stream",
     "text": [
      "-1    192406\n",
      " 1     96203\n",
      "Name: value, dtype: int64\n",
      "1    288609\n",
      "Name: user_value, dtype: int64\n",
      "1    288609\n",
      "Name: item_value, dtype: int64\n",
      "1    288609\n",
      "Name: daytime_value, dtype: int64\n",
      "1    288609\n",
      "Name: weekday_value, dtype: int64\n",
      "1    288609\n",
      "Name: isweekend_value, dtype: int64\n",
      "1    288609\n",
      "Name: homework_value, dtype: int64\n",
      "1    288609\n",
      "Name: cost_value, dtype: int64\n",
      "1    288609\n",
      "Name: weather_value, dtype: int64\n",
      "1    288609\n",
      "Name: country_value, dtype: int64\n",
      "1    288609\n",
      "Name: city_value, dtype: int64\n"
     ]
    }
   ],
   "source": [
    "for column in [\"value\"] + [\"{0}_value\".format(n) for n in frappe_names]:\n",
    "    print(df_frappe[column].value_counts())"
   ]
  },
  {
   "cell_type": "markdown",
   "metadata": {},
   "source": [
    "### Check user/item feature combination"
   ]
  },
  {
   "cell_type": "code",
   "execution_count": 42,
   "metadata": {},
   "outputs": [
    {
     "data": {
      "text/plain": [
       "957"
      ]
     },
     "execution_count": 42,
     "metadata": {},
     "output_type": "execute_result"
    }
   ],
   "source": [
    "df_frappe[\"user\"].drop_duplicates().count()"
   ]
  },
  {
   "cell_type": "code",
   "execution_count": 43,
   "metadata": {},
   "outputs": [
    {
     "data": {
      "text/plain": [
       "user         29770\n",
       "daytime      29770\n",
       "weekday      29770\n",
       "isweekend    29770\n",
       "homework     29770\n",
       "weather      29770\n",
       "country      29770\n",
       "city         29770\n",
       "dtype: int64"
      ]
     },
     "execution_count": 43,
     "metadata": {},
     "output_type": "execute_result"
    }
   ],
   "source": [
    "df_frappe[frappe_user_feature_columns].drop_duplicates().count()"
   ]
  },
  {
   "cell_type": "code",
   "execution_count": 44,
   "metadata": {},
   "outputs": [
    {
     "data": {
      "text/plain": [
       "4082"
      ]
     },
     "execution_count": 44,
     "metadata": {},
     "output_type": "execute_result"
    }
   ],
   "source": [
    "df_frappe[\"item\"].drop_duplicates().count()"
   ]
  },
  {
   "cell_type": "code",
   "execution_count": 45,
   "metadata": {},
   "outputs": [
    {
     "data": {
      "text/plain": [
       "item    7836\n",
       "cost    7836\n",
       "dtype: int64"
      ]
     },
     "execution_count": 45,
     "metadata": {},
     "output_type": "execute_result"
    }
   ],
   "source": [
    "df_frappe[frappe_item_feature_columns].drop_duplicates().count()"
   ]
  },
  {
   "cell_type": "markdown",
   "metadata": {},
   "source": [
    "### Check negative sample distribution"
   ]
  },
  {
   "cell_type": "code",
   "execution_count": 104,
   "metadata": {},
   "outputs": [
    {
     "name": "stdout",
     "output_type": "stream",
     "text": [
      "-1    134423\n",
      " 1     67604\n",
      "Name: value, dtype: int64\n",
      "-1    38659\n",
      " 1    19063\n",
      "Name: value, dtype: int64\n",
      "-1    19324\n",
      " 1     9536\n",
      "Name: value, dtype: int64\n"
     ]
    }
   ],
   "source": [
    "print(df_frappe_train[\"value\"].value_counts())\n",
    "print(df_frappe_validation[\"value\"].value_counts())\n",
    "print(df_frappe_test[\"value\"].value_counts())"
   ]
  },
  {
   "cell_type": "markdown",
   "metadata": {},
   "source": [
    "## Re-label features"
   ]
  },
  {
   "cell_type": "code",
   "execution_count": 46,
   "metadata": {},
   "outputs": [
    {
     "name": "stdout",
     "output_type": "stream",
     "text": [
      "user: (957,) items\n",
      "item: (4082,) items\n",
      "daytime: (7,) items\n",
      "weekday: (7,) items\n",
      "isweekend: (2,) items\n",
      "homework: (3,) items\n",
      "cost: (2,) items\n",
      "weather: (9,) items\n",
      "country: (80,) items\n",
      "city: (233,) items\n"
     ]
    }
   ],
   "source": [
    "frappe_labelencoders = dict()\n",
    "for column in frappe_names:\n",
    "    frappe_labelencoders[column] = sklearn.preprocessing.LabelEncoder().fit(df_frappe[column])\n",
    "    print(\"{0}: {1} items\".format(column, frappe_labelencoders[column].classes_.shape))\n"
   ]
  },
  {
   "cell_type": "code",
   "execution_count": 50,
   "metadata": {},
   "outputs": [
    {
     "name": "stdout",
     "output_type": "stream",
     "text": [
      "(202027, 11)\n"
     ]
    },
    {
     "data": {
      "text/html": [
       "<div>\n",
       "<style scoped>\n",
       "    .dataframe tbody tr th:only-of-type {\n",
       "        vertical-align: middle;\n",
       "    }\n",
       "\n",
       "    .dataframe tbody tr th {\n",
       "        vertical-align: top;\n",
       "    }\n",
       "\n",
       "    .dataframe thead th {\n",
       "        text-align: right;\n",
       "    }\n",
       "</style>\n",
       "<table border=\"1\" class=\"dataframe\">\n",
       "  <thead>\n",
       "    <tr style=\"text-align: right;\">\n",
       "      <th></th>\n",
       "      <th>value</th>\n",
       "      <th>user</th>\n",
       "      <th>item</th>\n",
       "      <th>daytime</th>\n",
       "      <th>weekday</th>\n",
       "      <th>isweekend</th>\n",
       "      <th>homework</th>\n",
       "      <th>cost</th>\n",
       "      <th>weather</th>\n",
       "      <th>country</th>\n",
       "      <th>city</th>\n",
       "    </tr>\n",
       "  </thead>\n",
       "  <tbody>\n",
       "    <tr>\n",
       "      <th>0</th>\n",
       "      <td>-1</td>\n",
       "      <td>451</td>\n",
       "      <td>3192</td>\n",
       "      <td>2</td>\n",
       "      <td>0</td>\n",
       "      <td>0</td>\n",
       "      <td>0</td>\n",
       "      <td>0</td>\n",
       "      <td>0</td>\n",
       "      <td>0</td>\n",
       "      <td>0</td>\n",
       "    </tr>\n",
       "    <tr>\n",
       "      <th>1</th>\n",
       "      <td>-1</td>\n",
       "      <td>91</td>\n",
       "      <td>2546</td>\n",
       "      <td>2</td>\n",
       "      <td>1</td>\n",
       "      <td>0</td>\n",
       "      <td>1</td>\n",
       "      <td>0</td>\n",
       "      <td>5</td>\n",
       "      <td>26</td>\n",
       "      <td>0</td>\n",
       "    </tr>\n",
       "    <tr>\n",
       "      <th>2</th>\n",
       "      <td>1</td>\n",
       "      <td>168</td>\n",
       "      <td>26</td>\n",
       "      <td>1</td>\n",
       "      <td>4</td>\n",
       "      <td>1</td>\n",
       "      <td>0</td>\n",
       "      <td>0</td>\n",
       "      <td>0</td>\n",
       "      <td>0</td>\n",
       "      <td>58</td>\n",
       "    </tr>\n",
       "    <tr>\n",
       "      <th>3</th>\n",
       "      <td>-1</td>\n",
       "      <td>620</td>\n",
       "      <td>786</td>\n",
       "      <td>6</td>\n",
       "      <td>5</td>\n",
       "      <td>1</td>\n",
       "      <td>0</td>\n",
       "      <td>0</td>\n",
       "      <td>1</td>\n",
       "      <td>4</td>\n",
       "      <td>0</td>\n",
       "    </tr>\n",
       "    <tr>\n",
       "      <th>4</th>\n",
       "      <td>-1</td>\n",
       "      <td>46</td>\n",
       "      <td>1735</td>\n",
       "      <td>1</td>\n",
       "      <td>3</td>\n",
       "      <td>1</td>\n",
       "      <td>0</td>\n",
       "      <td>0</td>\n",
       "      <td>0</td>\n",
       "      <td>17</td>\n",
       "      <td>62</td>\n",
       "    </tr>\n",
       "  </tbody>\n",
       "</table>\n",
       "</div>"
      ],
      "text/plain": [
       "   value  user  item  daytime  weekday  isweekend  homework  cost  weather  \\\n",
       "0     -1   451  3192        2        0          0         0     0        0   \n",
       "1     -1    91  2546        2        1          0         1     0        5   \n",
       "2      1   168    26        1        4          1         0     0        0   \n",
       "3     -1   620   786        6        5          1         0     0        1   \n",
       "4     -1    46  1735        1        3          1         0     0        0   \n",
       "\n",
       "   country  city  \n",
       "0        0     0  \n",
       "1       26     0  \n",
       "2        0    58  \n",
       "3        4     0  \n",
       "4       17    62  "
      ]
     },
     "execution_count": 50,
     "metadata": {},
     "output_type": "execute_result"
    }
   ],
   "source": [
    "relabeled_frappe_train_data = {\"value\": df_frappe_train[\"value\"]}\n",
    "for column in frappe_names:\n",
    "    relabeled_frappe_train_data[column] = frappe_labelencoders[column].transform(df_frappe_train[column])\n",
    "relabeled_frappe_train_columns = [\"value\"] + frappe_names\n",
    "\n",
    "relabeled_frappe_train = pd.DataFrame(relabeled_frappe_train_data, columns=relabeled_frappe_train_columns)\n",
    "print(relabeled_frappe_train.shape)\n",
    "relabeled_frappe_train.head()"
   ]
  },
  {
   "cell_type": "code",
   "execution_count": 51,
   "metadata": {},
   "outputs": [
    {
     "name": "stdout",
     "output_type": "stream",
     "text": [
      "(57722, 11)\n"
     ]
    },
    {
     "data": {
      "text/html": [
       "<div>\n",
       "<style scoped>\n",
       "    .dataframe tbody tr th:only-of-type {\n",
       "        vertical-align: middle;\n",
       "    }\n",
       "\n",
       "    .dataframe tbody tr th {\n",
       "        vertical-align: top;\n",
       "    }\n",
       "\n",
       "    .dataframe thead th {\n",
       "        text-align: right;\n",
       "    }\n",
       "</style>\n",
       "<table border=\"1\" class=\"dataframe\">\n",
       "  <thead>\n",
       "    <tr style=\"text-align: right;\">\n",
       "      <th></th>\n",
       "      <th>value</th>\n",
       "      <th>user</th>\n",
       "      <th>item</th>\n",
       "      <th>daytime</th>\n",
       "      <th>weekday</th>\n",
       "      <th>isweekend</th>\n",
       "      <th>homework</th>\n",
       "      <th>cost</th>\n",
       "      <th>weather</th>\n",
       "      <th>country</th>\n",
       "      <th>city</th>\n",
       "    </tr>\n",
       "  </thead>\n",
       "  <tbody>\n",
       "    <tr>\n",
       "      <th>0</th>\n",
       "      <td>1</td>\n",
       "      <td>266</td>\n",
       "      <td>287</td>\n",
       "      <td>3</td>\n",
       "      <td>3</td>\n",
       "      <td>1</td>\n",
       "      <td>0</td>\n",
       "      <td>0</td>\n",
       "      <td>2</td>\n",
       "      <td>5</td>\n",
       "      <td>0</td>\n",
       "    </tr>\n",
       "    <tr>\n",
       "      <th>1</th>\n",
       "      <td>-1</td>\n",
       "      <td>138</td>\n",
       "      <td>339</td>\n",
       "      <td>2</td>\n",
       "      <td>6</td>\n",
       "      <td>0</td>\n",
       "      <td>0</td>\n",
       "      <td>0</td>\n",
       "      <td>1</td>\n",
       "      <td>16</td>\n",
       "      <td>52</td>\n",
       "    </tr>\n",
       "    <tr>\n",
       "      <th>2</th>\n",
       "      <td>-1</td>\n",
       "      <td>317</td>\n",
       "      <td>737</td>\n",
       "      <td>2</td>\n",
       "      <td>1</td>\n",
       "      <td>0</td>\n",
       "      <td>0</td>\n",
       "      <td>0</td>\n",
       "      <td>1</td>\n",
       "      <td>1</td>\n",
       "      <td>1</td>\n",
       "    </tr>\n",
       "    <tr>\n",
       "      <th>3</th>\n",
       "      <td>-1</td>\n",
       "      <td>14</td>\n",
       "      <td>1702</td>\n",
       "      <td>4</td>\n",
       "      <td>6</td>\n",
       "      <td>1</td>\n",
       "      <td>0</td>\n",
       "      <td>0</td>\n",
       "      <td>4</td>\n",
       "      <td>7</td>\n",
       "      <td>56</td>\n",
       "    </tr>\n",
       "    <tr>\n",
       "      <th>4</th>\n",
       "      <td>1</td>\n",
       "      <td>123</td>\n",
       "      <td>3111</td>\n",
       "      <td>4</td>\n",
       "      <td>4</td>\n",
       "      <td>1</td>\n",
       "      <td>1</td>\n",
       "      <td>0</td>\n",
       "      <td>0</td>\n",
       "      <td>0</td>\n",
       "      <td>0</td>\n",
       "    </tr>\n",
       "  </tbody>\n",
       "</table>\n",
       "</div>"
      ],
      "text/plain": [
       "   value  user  item  daytime  weekday  isweekend  homework  cost  weather  \\\n",
       "0      1   266   287        3        3          1         0     0        2   \n",
       "1     -1   138   339        2        6          0         0     0        1   \n",
       "2     -1   317   737        2        1          0         0     0        1   \n",
       "3     -1    14  1702        4        6          1         0     0        4   \n",
       "4      1   123  3111        4        4          1         1     0        0   \n",
       "\n",
       "   country  city  \n",
       "0        5     0  \n",
       "1       16    52  \n",
       "2        1     1  \n",
       "3        7    56  \n",
       "4        0     0  "
      ]
     },
     "execution_count": 51,
     "metadata": {},
     "output_type": "execute_result"
    }
   ],
   "source": [
    "relabeled_frappe_validation_data = {\"value\": df_frappe_validation[\"value\"]}\n",
    "for column in frappe_names:\n",
    "    relabeled_frappe_validation_data[column] = frappe_labelencoders[column].transform(df_frappe_validation[column])\n",
    "relabeled_frappe_validation_columns = [\"value\"] + frappe_names\n",
    "\n",
    "relabeled_frappe_validation = pd.DataFrame(relabeled_frappe_validation_data, columns=relabeled_frappe_validation_columns)\n",
    "print(relabeled_frappe_validation.shape)\n",
    "relabeled_frappe_validation.head()"
   ]
  },
  {
   "cell_type": "code",
   "execution_count": 52,
   "metadata": {},
   "outputs": [
    {
     "name": "stdout",
     "output_type": "stream",
     "text": [
      "(28860, 11)\n"
     ]
    },
    {
     "data": {
      "text/html": [
       "<div>\n",
       "<style scoped>\n",
       "    .dataframe tbody tr th:only-of-type {\n",
       "        vertical-align: middle;\n",
       "    }\n",
       "\n",
       "    .dataframe tbody tr th {\n",
       "        vertical-align: top;\n",
       "    }\n",
       "\n",
       "    .dataframe thead th {\n",
       "        text-align: right;\n",
       "    }\n",
       "</style>\n",
       "<table border=\"1\" class=\"dataframe\">\n",
       "  <thead>\n",
       "    <tr style=\"text-align: right;\">\n",
       "      <th></th>\n",
       "      <th>value</th>\n",
       "      <th>user</th>\n",
       "      <th>item</th>\n",
       "      <th>daytime</th>\n",
       "      <th>weekday</th>\n",
       "      <th>isweekend</th>\n",
       "      <th>homework</th>\n",
       "      <th>cost</th>\n",
       "      <th>weather</th>\n",
       "      <th>country</th>\n",
       "      <th>city</th>\n",
       "    </tr>\n",
       "  </thead>\n",
       "  <tbody>\n",
       "    <tr>\n",
       "      <th>0</th>\n",
       "      <td>-1</td>\n",
       "      <td>204</td>\n",
       "      <td>3841</td>\n",
       "      <td>2</td>\n",
       "      <td>0</td>\n",
       "      <td>0</td>\n",
       "      <td>0</td>\n",
       "      <td>0</td>\n",
       "      <td>0</td>\n",
       "      <td>4</td>\n",
       "      <td>34</td>\n",
       "    </tr>\n",
       "    <tr>\n",
       "      <th>1</th>\n",
       "      <td>1</td>\n",
       "      <td>42</td>\n",
       "      <td>615</td>\n",
       "      <td>3</td>\n",
       "      <td>1</td>\n",
       "      <td>0</td>\n",
       "      <td>0</td>\n",
       "      <td>0</td>\n",
       "      <td>0</td>\n",
       "      <td>1</td>\n",
       "      <td>1</td>\n",
       "    </tr>\n",
       "    <tr>\n",
       "      <th>2</th>\n",
       "      <td>1</td>\n",
       "      <td>282</td>\n",
       "      <td>1595</td>\n",
       "      <td>5</td>\n",
       "      <td>6</td>\n",
       "      <td>1</td>\n",
       "      <td>0</td>\n",
       "      <td>0</td>\n",
       "      <td>0</td>\n",
       "      <td>3</td>\n",
       "      <td>95</td>\n",
       "    </tr>\n",
       "    <tr>\n",
       "      <th>3</th>\n",
       "      <td>-1</td>\n",
       "      <td>215</td>\n",
       "      <td>445</td>\n",
       "      <td>0</td>\n",
       "      <td>5</td>\n",
       "      <td>1</td>\n",
       "      <td>0</td>\n",
       "      <td>0</td>\n",
       "      <td>3</td>\n",
       "      <td>0</td>\n",
       "      <td>0</td>\n",
       "    </tr>\n",
       "    <tr>\n",
       "      <th>4</th>\n",
       "      <td>-1</td>\n",
       "      <td>346</td>\n",
       "      <td>1466</td>\n",
       "      <td>4</td>\n",
       "      <td>5</td>\n",
       "      <td>1</td>\n",
       "      <td>0</td>\n",
       "      <td>0</td>\n",
       "      <td>3</td>\n",
       "      <td>19</td>\n",
       "      <td>0</td>\n",
       "    </tr>\n",
       "  </tbody>\n",
       "</table>\n",
       "</div>"
      ],
      "text/plain": [
       "   value  user  item  daytime  weekday  isweekend  homework  cost  weather  \\\n",
       "0     -1   204  3841        2        0          0         0     0        0   \n",
       "1      1    42   615        3        1          0         0     0        0   \n",
       "2      1   282  1595        5        6          1         0     0        0   \n",
       "3     -1   215   445        0        5          1         0     0        3   \n",
       "4     -1   346  1466        4        5          1         0     0        3   \n",
       "\n",
       "   country  city  \n",
       "0        4    34  \n",
       "1        1     1  \n",
       "2        3    95  \n",
       "3        0     0  \n",
       "4       19     0  "
      ]
     },
     "execution_count": 52,
     "metadata": {},
     "output_type": "execute_result"
    }
   ],
   "source": [
    "relabeled_frappe_test_data = {\"value\": df_frappe_test[\"value\"]}\n",
    "for column in frappe_names:\n",
    "    relabeled_frappe_test_data[column] = frappe_labelencoders[column].transform(df_frappe_test[column])\n",
    "relabeled_frappe_test_columns = [\"value\"] + frappe_names\n",
    "\n",
    "relabeled_frappe_test = pd.DataFrame(relabeled_frappe_test_data, columns=relabeled_frappe_test_columns)\n",
    "print(relabeled_frappe_test.shape)\n",
    "relabeled_frappe_test.head()"
   ]
  },
  {
   "cell_type": "markdown",
   "metadata": {},
   "source": [
    "## Save as DeepCTR-compatible format"
   ]
  },
  {
   "cell_type": "code",
   "execution_count": 54,
   "metadata": {},
   "outputs": [],
   "source": [
    "relabeled_frappe_train.to_csv(os.path.join(OUT_FRAPPE_DIR, \"deepctr2.train.tsv\"), sep='\\t',\n",
    "                              index=False)"
   ]
  },
  {
   "cell_type": "code",
   "execution_count": 55,
   "metadata": {},
   "outputs": [],
   "source": [
    "relabeled_frappe_validation.to_csv(os.path.join(OUT_FRAPPE_DIR, \"deepctr2.validation.tsv\"), sep='\\t',\n",
    "                             index=False)"
   ]
  },
  {
   "cell_type": "code",
   "execution_count": 56,
   "metadata": {},
   "outputs": [],
   "source": [
    "relabeled_frappe_test.to_csv(os.path.join(OUT_FRAPPE_DIR, \"deepctr2.test.tsv\"), sep='\\t',\n",
    "                             index=False)"
   ]
  },
  {
   "cell_type": "markdown",
   "metadata": {},
   "source": [
    "# ml-tag dataset"
   ]
  },
  {
   "cell_type": "markdown",
   "metadata": {},
   "source": [
    "## Load originial dataset and detect column names"
   ]
  },
  {
   "cell_type": "code",
   "execution_count": 57,
   "metadata": {},
   "outputs": [
    {
     "name": "stdout",
     "output_type": "stream",
     "text": [
      "['user', 'movie', 'tag']\n"
     ]
    }
   ],
   "source": [
    "mltag_names = [\"user\", \"movie\", \"tag\"]\n",
    "\n",
    "print(mltag_names)"
   ]
  },
  {
   "cell_type": "code",
   "execution_count": 58,
   "metadata": {},
   "outputs": [
    {
     "data": {
      "text/plain": [
       "['value', 'user', 'user_value', 'movie', 'movie_value', 'tag', 'tag_value']"
      ]
     },
     "execution_count": 58,
     "metadata": {},
     "output_type": "execute_result"
    }
   ],
   "source": [
    "mltag_libfm_names = libfm_names(mltag_names)\n",
    "mltag_libfm_names"
   ]
  },
  {
   "cell_type": "code",
   "execution_count": 60,
   "metadata": {},
   "outputs": [
    {
     "name": "stdout",
     "output_type": "stream",
     "text": [
      "(1404801, 7)\n"
     ]
    },
    {
     "data": {
      "text/html": [
       "<div>\n",
       "<style scoped>\n",
       "    .dataframe tbody tr th:only-of-type {\n",
       "        vertical-align: middle;\n",
       "    }\n",
       "\n",
       "    .dataframe tbody tr th {\n",
       "        vertical-align: top;\n",
       "    }\n",
       "\n",
       "    .dataframe thead th {\n",
       "        text-align: right;\n",
       "    }\n",
       "</style>\n",
       "<table border=\"1\" class=\"dataframe\">\n",
       "  <thead>\n",
       "    <tr style=\"text-align: right;\">\n",
       "      <th></th>\n",
       "      <th>value</th>\n",
       "      <th>user</th>\n",
       "      <th>user_value</th>\n",
       "      <th>movie</th>\n",
       "      <th>movie_value</th>\n",
       "      <th>tag</th>\n",
       "      <th>tag_value</th>\n",
       "    </tr>\n",
       "  </thead>\n",
       "  <tbody>\n",
       "    <tr>\n",
       "      <th>0</th>\n",
       "      <td>-1.0</td>\n",
       "      <td>84982</td>\n",
       "      <td>1</td>\n",
       "      <td>58</td>\n",
       "      <td>1</td>\n",
       "      <td>39525</td>\n",
       "      <td>1</td>\n",
       "    </tr>\n",
       "    <tr>\n",
       "      <th>1</th>\n",
       "      <td>-1.0</td>\n",
       "      <td>87756</td>\n",
       "      <td>1</td>\n",
       "      <td>8757</td>\n",
       "      <td>1</td>\n",
       "      <td>22786</td>\n",
       "      <td>1</td>\n",
       "    </tr>\n",
       "    <tr>\n",
       "      <th>2</th>\n",
       "      <td>-1.0</td>\n",
       "      <td>80311</td>\n",
       "      <td>1</td>\n",
       "      <td>14912</td>\n",
       "      <td>1</td>\n",
       "      <td>45676</td>\n",
       "      <td>1</td>\n",
       "    </tr>\n",
       "    <tr>\n",
       "      <th>3</th>\n",
       "      <td>1.0</td>\n",
       "      <td>82036</td>\n",
       "      <td>1</td>\n",
       "      <td>84509</td>\n",
       "      <td>1</td>\n",
       "      <td>33556</td>\n",
       "      <td>1</td>\n",
       "    </tr>\n",
       "    <tr>\n",
       "      <th>4</th>\n",
       "      <td>-1.0</td>\n",
       "      <td>66867</td>\n",
       "      <td>1</td>\n",
       "      <td>57349</td>\n",
       "      <td>1</td>\n",
       "      <td>15092</td>\n",
       "      <td>1</td>\n",
       "    </tr>\n",
       "  </tbody>\n",
       "</table>\n",
       "</div>"
      ],
      "text/plain": [
       "   value   user  user_value  movie  movie_value    tag  tag_value\n",
       "0   -1.0  84982           1     58            1  39525          1\n",
       "1   -1.0  87756           1   8757            1  22786          1\n",
       "2   -1.0  80311           1  14912            1  45676          1\n",
       "3    1.0  82036           1  84509            1  33556          1\n",
       "4   -1.0  66867           1  57349            1  15092          1"
      ]
     },
     "execution_count": 60,
     "metadata": {},
     "output_type": "execute_result"
    }
   ],
   "source": [
    "df_mltag_train = pd.read_csv(os.path.join(ORIGINAL_MLTAG_DIR, \"ml-tag.train.libfm\"),\n",
    "                                 sep=\"[ :]\", engine=\"python\",\n",
    "                                 header=None, names=mltag_libfm_names)\n",
    "print(df_mltag_train.shape)\n",
    "df_mltag_train.head()"
   ]
  },
  {
   "cell_type": "code",
   "execution_count": 61,
   "metadata": {},
   "outputs": [
    {
     "name": "stdout",
     "output_type": "stream",
     "text": [
      "(401372, 7)\n"
     ]
    },
    {
     "data": {
      "text/html": [
       "<div>\n",
       "<style scoped>\n",
       "    .dataframe tbody tr th:only-of-type {\n",
       "        vertical-align: middle;\n",
       "    }\n",
       "\n",
       "    .dataframe tbody tr th {\n",
       "        vertical-align: top;\n",
       "    }\n",
       "\n",
       "    .dataframe thead th {\n",
       "        text-align: right;\n",
       "    }\n",
       "</style>\n",
       "<table border=\"1\" class=\"dataframe\">\n",
       "  <thead>\n",
       "    <tr style=\"text-align: right;\">\n",
       "      <th></th>\n",
       "      <th>value</th>\n",
       "      <th>user</th>\n",
       "      <th>user_value</th>\n",
       "      <th>movie</th>\n",
       "      <th>movie_value</th>\n",
       "      <th>tag</th>\n",
       "      <th>tag_value</th>\n",
       "    </tr>\n",
       "  </thead>\n",
       "  <tbody>\n",
       "    <tr>\n",
       "      <th>0</th>\n",
       "      <td>-1.0</td>\n",
       "      <td>86810</td>\n",
       "      <td>1</td>\n",
       "      <td>41468</td>\n",
       "      <td>1</td>\n",
       "      <td>26304</td>\n",
       "      <td>1</td>\n",
       "    </tr>\n",
       "    <tr>\n",
       "      <th>1</th>\n",
       "      <td>-1.0</td>\n",
       "      <td>59268</td>\n",
       "      <td>1</td>\n",
       "      <td>13793</td>\n",
       "      <td>1</td>\n",
       "      <td>34649</td>\n",
       "      <td>1</td>\n",
       "    </tr>\n",
       "    <tr>\n",
       "      <th>2</th>\n",
       "      <td>-1.0</td>\n",
       "      <td>89633</td>\n",
       "      <td>1</td>\n",
       "      <td>72957</td>\n",
       "      <td>1</td>\n",
       "      <td>22253</td>\n",
       "      <td>1</td>\n",
       "    </tr>\n",
       "    <tr>\n",
       "      <th>3</th>\n",
       "      <td>-1.0</td>\n",
       "      <td>74868</td>\n",
       "      <td>1</td>\n",
       "      <td>68875</td>\n",
       "      <td>1</td>\n",
       "      <td>18130</td>\n",
       "      <td>1</td>\n",
       "    </tr>\n",
       "    <tr>\n",
       "      <th>4</th>\n",
       "      <td>-1.0</td>\n",
       "      <td>8460</td>\n",
       "      <td>1</td>\n",
       "      <td>7726</td>\n",
       "      <td>1</td>\n",
       "      <td>8777</td>\n",
       "      <td>1</td>\n",
       "    </tr>\n",
       "  </tbody>\n",
       "</table>\n",
       "</div>"
      ],
      "text/plain": [
       "   value   user  user_value  movie  movie_value    tag  tag_value\n",
       "0   -1.0  86810           1  41468            1  26304          1\n",
       "1   -1.0  59268           1  13793            1  34649          1\n",
       "2   -1.0  89633           1  72957            1  22253          1\n",
       "3   -1.0  74868           1  68875            1  18130          1\n",
       "4   -1.0   8460           1   7726            1   8777          1"
      ]
     },
     "execution_count": 61,
     "metadata": {},
     "output_type": "execute_result"
    }
   ],
   "source": [
    "df_mltag_validation = pd.read_csv(os.path.join(ORIGINAL_MLTAG_DIR, \"ml-tag.validation.libfm\"),\n",
    "                                 sep=\"[ :]\", engine=\"python\",\n",
    "                                 header=None, names=mltag_libfm_names)\n",
    "print(df_mltag_validation.shape)\n",
    "df_mltag_validation.head()"
   ]
  },
  {
   "cell_type": "code",
   "execution_count": 65,
   "metadata": {
    "scrolled": false
   },
   "outputs": [
    {
     "name": "stdout",
     "output_type": "stream",
     "text": [
      "(200686, 7)\n"
     ]
    },
    {
     "data": {
      "text/html": [
       "<div>\n",
       "<style scoped>\n",
       "    .dataframe tbody tr th:only-of-type {\n",
       "        vertical-align: middle;\n",
       "    }\n",
       "\n",
       "    .dataframe tbody tr th {\n",
       "        vertical-align: top;\n",
       "    }\n",
       "\n",
       "    .dataframe thead th {\n",
       "        text-align: right;\n",
       "    }\n",
       "</style>\n",
       "<table border=\"1\" class=\"dataframe\">\n",
       "  <thead>\n",
       "    <tr style=\"text-align: right;\">\n",
       "      <th></th>\n",
       "      <th>value</th>\n",
       "      <th>user</th>\n",
       "      <th>user_value</th>\n",
       "      <th>movie</th>\n",
       "      <th>movie_value</th>\n",
       "      <th>tag</th>\n",
       "      <th>tag_value</th>\n",
       "    </tr>\n",
       "  </thead>\n",
       "  <tbody>\n",
       "    <tr>\n",
       "      <th>0</th>\n",
       "      <td>-1.0</td>\n",
       "      <td>51798</td>\n",
       "      <td>1</td>\n",
       "      <td>2473</td>\n",
       "      <td>1</td>\n",
       "      <td>37583</td>\n",
       "      <td>1</td>\n",
       "    </tr>\n",
       "    <tr>\n",
       "      <th>1</th>\n",
       "      <td>-1.0</td>\n",
       "      <td>66335</td>\n",
       "      <td>1</td>\n",
       "      <td>61344</td>\n",
       "      <td>1</td>\n",
       "      <td>29842</td>\n",
       "      <td>1</td>\n",
       "    </tr>\n",
       "    <tr>\n",
       "      <th>2</th>\n",
       "      <td>-1.0</td>\n",
       "      <td>89085</td>\n",
       "      <td>1</td>\n",
       "      <td>60033</td>\n",
       "      <td>1</td>\n",
       "      <td>47050</td>\n",
       "      <td>1</td>\n",
       "    </tr>\n",
       "    <tr>\n",
       "      <th>3</th>\n",
       "      <td>1.0</td>\n",
       "      <td>61293</td>\n",
       "      <td>1</td>\n",
       "      <td>8073</td>\n",
       "      <td>1</td>\n",
       "      <td>3903</td>\n",
       "      <td>1</td>\n",
       "    </tr>\n",
       "    <tr>\n",
       "      <th>4</th>\n",
       "      <td>-1.0</td>\n",
       "      <td>81335</td>\n",
       "      <td>1</td>\n",
       "      <td>56575</td>\n",
       "      <td>1</td>\n",
       "      <td>50067</td>\n",
       "      <td>1</td>\n",
       "    </tr>\n",
       "  </tbody>\n",
       "</table>\n",
       "</div>"
      ],
      "text/plain": [
       "   value   user  user_value  movie  movie_value    tag  tag_value\n",
       "0   -1.0  51798           1   2473            1  37583          1\n",
       "1   -1.0  66335           1  61344            1  29842          1\n",
       "2   -1.0  89085           1  60033            1  47050          1\n",
       "3    1.0  61293           1   8073            1   3903          1\n",
       "4   -1.0  81335           1  56575            1  50067          1"
      ]
     },
     "execution_count": 65,
     "metadata": {},
     "output_type": "execute_result"
    }
   ],
   "source": [
    "df_mltag_test = pd.read_csv(os.path.join(ORIGINAL_MLTAG_DIR, \"ml-tag.test.libfm\"),\n",
    "                                 sep=\"[ :]\", engine=\"python\",\n",
    "                                 header=None, names=mltag_libfm_names)\n",
    "print(df_mltag_test.shape)\n",
    "df_mltag_test.head()"
   ]
  },
  {
   "cell_type": "markdown",
   "metadata": {},
   "source": [
    "### Concatenate all subsets"
   ]
  },
  {
   "cell_type": "code",
   "execution_count": 63,
   "metadata": {},
   "outputs": [
    {
     "name": "stdout",
     "output_type": "stream",
     "text": [
      "(2006859, 7)\n"
     ]
    },
    {
     "data": {
      "text/html": [
       "<div>\n",
       "<style scoped>\n",
       "    .dataframe tbody tr th:only-of-type {\n",
       "        vertical-align: middle;\n",
       "    }\n",
       "\n",
       "    .dataframe tbody tr th {\n",
       "        vertical-align: top;\n",
       "    }\n",
       "\n",
       "    .dataframe thead th {\n",
       "        text-align: right;\n",
       "    }\n",
       "</style>\n",
       "<table border=\"1\" class=\"dataframe\">\n",
       "  <thead>\n",
       "    <tr style=\"text-align: right;\">\n",
       "      <th></th>\n",
       "      <th>value</th>\n",
       "      <th>user</th>\n",
       "      <th>user_value</th>\n",
       "      <th>movie</th>\n",
       "      <th>movie_value</th>\n",
       "      <th>tag</th>\n",
       "      <th>tag_value</th>\n",
       "    </tr>\n",
       "  </thead>\n",
       "  <tbody>\n",
       "    <tr>\n",
       "      <th>0</th>\n",
       "      <td>-1.0</td>\n",
       "      <td>84982</td>\n",
       "      <td>1</td>\n",
       "      <td>58</td>\n",
       "      <td>1</td>\n",
       "      <td>39525</td>\n",
       "      <td>1</td>\n",
       "    </tr>\n",
       "    <tr>\n",
       "      <th>1</th>\n",
       "      <td>-1.0</td>\n",
       "      <td>87756</td>\n",
       "      <td>1</td>\n",
       "      <td>8757</td>\n",
       "      <td>1</td>\n",
       "      <td>22786</td>\n",
       "      <td>1</td>\n",
       "    </tr>\n",
       "    <tr>\n",
       "      <th>2</th>\n",
       "      <td>-1.0</td>\n",
       "      <td>80311</td>\n",
       "      <td>1</td>\n",
       "      <td>14912</td>\n",
       "      <td>1</td>\n",
       "      <td>45676</td>\n",
       "      <td>1</td>\n",
       "    </tr>\n",
       "    <tr>\n",
       "      <th>3</th>\n",
       "      <td>1.0</td>\n",
       "      <td>82036</td>\n",
       "      <td>1</td>\n",
       "      <td>84509</td>\n",
       "      <td>1</td>\n",
       "      <td>33556</td>\n",
       "      <td>1</td>\n",
       "    </tr>\n",
       "    <tr>\n",
       "      <th>4</th>\n",
       "      <td>-1.0</td>\n",
       "      <td>66867</td>\n",
       "      <td>1</td>\n",
       "      <td>57349</td>\n",
       "      <td>1</td>\n",
       "      <td>15092</td>\n",
       "      <td>1</td>\n",
       "    </tr>\n",
       "  </tbody>\n",
       "</table>\n",
       "</div>"
      ],
      "text/plain": [
       "   value   user  user_value  movie  movie_value    tag  tag_value\n",
       "0   -1.0  84982           1     58            1  39525          1\n",
       "1   -1.0  87756           1   8757            1  22786          1\n",
       "2   -1.0  80311           1  14912            1  45676          1\n",
       "3    1.0  82036           1  84509            1  33556          1\n",
       "4   -1.0  66867           1  57349            1  15092          1"
      ]
     },
     "execution_count": 63,
     "metadata": {},
     "output_type": "execute_result"
    }
   ],
   "source": [
    "df_mltag = pd.concat([df_mltag_train, df_mltag_validation, df_mltag_test])\n",
    "print(df_mltag.shape)\n",
    "df_mltag.head()"
   ]
  },
  {
   "cell_type": "markdown",
   "metadata": {},
   "source": [
    "### Check column name detection"
   ]
  },
  {
   "cell_type": "code",
   "execution_count": 64,
   "metadata": {},
   "outputs": [
    {
     "name": "stdout",
     "output_type": "stream",
     "text": [
      "user: 17045 items, numbered from 0 to 90444\n",
      "movie: 23743 items, numbered from 1 to 90438\n",
      "tag: 49657 items, numbered from 2 to 69148\n"
     ]
    }
   ],
   "source": [
    "for column in mltag_names:\n",
    "    print(\"{0}: {1} items, numbered from {2} to {3}\".format(column,\n",
    "                                                            df_mltag[column].drop_duplicates().count(),\n",
    "                                                            df_mltag[column].min(),\n",
    "                                                            df_mltag[column].max()))"
   ]
  },
  {
   "cell_type": "markdown",
   "metadata": {},
   "source": [
    "### Check column value"
   ]
  },
  {
   "cell_type": "code",
   "execution_count": 85,
   "metadata": {},
   "outputs": [
    {
     "name": "stdout",
     "output_type": "stream",
     "text": [
      "-1.0    1337906\n",
      " 1.0     668953\n",
      "Name: value, dtype: int64\n",
      "1    2006859\n",
      "Name: user_value, dtype: int64\n",
      "1    2006859\n",
      "Name: movie_value, dtype: int64\n",
      "1    2006859\n",
      "Name: tag_value, dtype: int64\n"
     ]
    }
   ],
   "source": [
    "for column in [\"value\"] + [\"{0}_value\".format(n) for n in mltag_names]:\n",
    "    print(df_mltag[column].value_counts())"
   ]
  },
  {
   "cell_type": "markdown",
   "metadata": {},
   "source": [
    "### Check intersection of column value range"
   ]
  },
  {
   "cell_type": "code",
   "execution_count": 89,
   "metadata": {
    "scrolled": true
   },
   "outputs": [
    {
     "name": "stdout",
     "output_type": "stream",
     "text": [
      "(2006859, 2)\n"
     ]
    },
    {
     "data": {
      "text/html": [
       "<div>\n",
       "<style scoped>\n",
       "    .dataframe tbody tr th:only-of-type {\n",
       "        vertical-align: middle;\n",
       "    }\n",
       "\n",
       "    .dataframe tbody tr th {\n",
       "        vertical-align: top;\n",
       "    }\n",
       "\n",
       "    .dataframe thead th {\n",
       "        text-align: right;\n",
       "    }\n",
       "</style>\n",
       "<table border=\"1\" class=\"dataframe\">\n",
       "  <thead>\n",
       "    <tr style=\"text-align: right;\">\n",
       "      <th></th>\n",
       "      <th>index</th>\n",
       "      <th>user</th>\n",
       "    </tr>\n",
       "  </thead>\n",
       "  <tbody>\n",
       "    <tr>\n",
       "      <th>2006854</th>\n",
       "      <td>200681</td>\n",
       "      <td>66066</td>\n",
       "    </tr>\n",
       "    <tr>\n",
       "      <th>2006855</th>\n",
       "      <td>200682</td>\n",
       "      <td>82036</td>\n",
       "    </tr>\n",
       "    <tr>\n",
       "      <th>2006856</th>\n",
       "      <td>200683</td>\n",
       "      <td>56253</td>\n",
       "    </tr>\n",
       "    <tr>\n",
       "      <th>2006857</th>\n",
       "      <td>200684</td>\n",
       "      <td>68854</td>\n",
       "    </tr>\n",
       "    <tr>\n",
       "      <th>2006858</th>\n",
       "      <td>200685</td>\n",
       "      <td>88730</td>\n",
       "    </tr>\n",
       "  </tbody>\n",
       "</table>\n",
       "</div>"
      ],
      "text/plain": [
       "          index   user\n",
       "2006854  200681  66066\n",
       "2006855  200682  82036\n",
       "2006856  200683  56253\n",
       "2006857  200684  68854\n",
       "2006858  200685  88730"
      ]
     },
     "execution_count": 89,
     "metadata": {},
     "output_type": "execute_result"
    }
   ],
   "source": [
    "mltag_user_part = df_mltag[[\"user\"]].reset_index()\n",
    "\n",
    "print(mltag_user_part.shape)\n",
    "mltag_user_part.tail()"
   ]
  },
  {
   "cell_type": "code",
   "execution_count": 90,
   "metadata": {},
   "outputs": [
    {
     "name": "stdout",
     "output_type": "stream",
     "text": [
      "(2006859, 2)\n"
     ]
    },
    {
     "data": {
      "text/html": [
       "<div>\n",
       "<style scoped>\n",
       "    .dataframe tbody tr th:only-of-type {\n",
       "        vertical-align: middle;\n",
       "    }\n",
       "\n",
       "    .dataframe tbody tr th {\n",
       "        vertical-align: top;\n",
       "    }\n",
       "\n",
       "    .dataframe thead th {\n",
       "        text-align: right;\n",
       "    }\n",
       "</style>\n",
       "<table border=\"1\" class=\"dataframe\">\n",
       "  <thead>\n",
       "    <tr style=\"text-align: right;\">\n",
       "      <th></th>\n",
       "      <th>index</th>\n",
       "      <th>movie</th>\n",
       "    </tr>\n",
       "  </thead>\n",
       "  <tbody>\n",
       "    <tr>\n",
       "      <th>2006854</th>\n",
       "      <td>200681</td>\n",
       "      <td>10968</td>\n",
       "    </tr>\n",
       "    <tr>\n",
       "      <th>2006855</th>\n",
       "      <td>200682</td>\n",
       "      <td>14359</td>\n",
       "    </tr>\n",
       "    <tr>\n",
       "      <th>2006856</th>\n",
       "      <td>200683</td>\n",
       "      <td>56270</td>\n",
       "    </tr>\n",
       "    <tr>\n",
       "      <th>2006857</th>\n",
       "      <td>200684</td>\n",
       "      <td>69011</td>\n",
       "    </tr>\n",
       "    <tr>\n",
       "      <th>2006858</th>\n",
       "      <td>200685</td>\n",
       "      <td>6975</td>\n",
       "    </tr>\n",
       "  </tbody>\n",
       "</table>\n",
       "</div>"
      ],
      "text/plain": [
       "          index  movie\n",
       "2006854  200681  10968\n",
       "2006855  200682  14359\n",
       "2006856  200683  56270\n",
       "2006857  200684  69011\n",
       "2006858  200685   6975"
      ]
     },
     "execution_count": 90,
     "metadata": {},
     "output_type": "execute_result"
    }
   ],
   "source": [
    "mltag_movie_part = df_mltag[[\"movie\"]].reset_index()\n",
    "\n",
    "print(mltag_movie_part.shape)\n",
    "mltag_movie_part.tail()"
   ]
  },
  {
   "cell_type": "code",
   "execution_count": 91,
   "metadata": {},
   "outputs": [
    {
     "name": "stdout",
     "output_type": "stream",
     "text": [
      "(2006859, 2)\n"
     ]
    },
    {
     "data": {
      "text/html": [
       "<div>\n",
       "<style scoped>\n",
       "    .dataframe tbody tr th:only-of-type {\n",
       "        vertical-align: middle;\n",
       "    }\n",
       "\n",
       "    .dataframe tbody tr th {\n",
       "        vertical-align: top;\n",
       "    }\n",
       "\n",
       "    .dataframe thead th {\n",
       "        text-align: right;\n",
       "    }\n",
       "</style>\n",
       "<table border=\"1\" class=\"dataframe\">\n",
       "  <thead>\n",
       "    <tr style=\"text-align: right;\">\n",
       "      <th></th>\n",
       "      <th>index</th>\n",
       "      <th>tag</th>\n",
       "    </tr>\n",
       "  </thead>\n",
       "  <tbody>\n",
       "    <tr>\n",
       "      <th>2006854</th>\n",
       "      <td>200681</td>\n",
       "      <td>6931</td>\n",
       "    </tr>\n",
       "    <tr>\n",
       "      <th>2006855</th>\n",
       "      <td>200682</td>\n",
       "      <td>13497</td>\n",
       "    </tr>\n",
       "    <tr>\n",
       "      <th>2006856</th>\n",
       "      <td>200683</td>\n",
       "      <td>10653</td>\n",
       "    </tr>\n",
       "    <tr>\n",
       "      <th>2006857</th>\n",
       "      <td>200684</td>\n",
       "      <td>10417</td>\n",
       "    </tr>\n",
       "    <tr>\n",
       "      <th>2006858</th>\n",
       "      <td>200685</td>\n",
       "      <td>14816</td>\n",
       "    </tr>\n",
       "  </tbody>\n",
       "</table>\n",
       "</div>"
      ],
      "text/plain": [
       "          index    tag\n",
       "2006854  200681   6931\n",
       "2006855  200682  13497\n",
       "2006856  200683  10653\n",
       "2006857  200684  10417\n",
       "2006858  200685  14816"
      ]
     },
     "execution_count": 91,
     "metadata": {},
     "output_type": "execute_result"
    }
   ],
   "source": [
    "mltag_tag_part = df_mltag[[\"tag\"]].reset_index()\n",
    "\n",
    "print(mltag_tag_part.shape)\n",
    "mltag_tag_part.tail()"
   ]
  },
  {
   "cell_type": "code",
   "execution_count": 92,
   "metadata": {},
   "outputs": [
    {
     "name": "stdout",
     "output_type": "stream",
     "text": [
      "(0, 4)\n"
     ]
    },
    {
     "data": {
      "text/html": [
       "<div>\n",
       "<style scoped>\n",
       "    .dataframe tbody tr th:only-of-type {\n",
       "        vertical-align: middle;\n",
       "    }\n",
       "\n",
       "    .dataframe tbody tr th {\n",
       "        vertical-align: top;\n",
       "    }\n",
       "\n",
       "    .dataframe thead th {\n",
       "        text-align: right;\n",
       "    }\n",
       "</style>\n",
       "<table border=\"1\" class=\"dataframe\">\n",
       "  <thead>\n",
       "    <tr style=\"text-align: right;\">\n",
       "      <th></th>\n",
       "      <th>index_x</th>\n",
       "      <th>user</th>\n",
       "      <th>index_y</th>\n",
       "      <th>movie</th>\n",
       "    </tr>\n",
       "  </thead>\n",
       "  <tbody>\n",
       "  </tbody>\n",
       "</table>\n",
       "</div>"
      ],
      "text/plain": [
       "Empty DataFrame\n",
       "Columns: [index_x, user, index_y, movie]\n",
       "Index: []"
      ]
     },
     "execution_count": 92,
     "metadata": {},
     "output_type": "execute_result"
    }
   ],
   "source": [
    "mltag_intersection_user_movie = pd.merge(mltag_user_part, mltag_movie_part,\n",
    "                                         how=\"inner\", left_on=\"user\", right_on=\"movie\")\n",
    "\n",
    "print(mltag_intersection_user_movie.shape)\n",
    "mltag_intersection_user_movie"
   ]
  },
  {
   "cell_type": "code",
   "execution_count": 93,
   "metadata": {},
   "outputs": [
    {
     "name": "stdout",
     "output_type": "stream",
     "text": [
      "(0, 4)\n"
     ]
    },
    {
     "data": {
      "text/html": [
       "<div>\n",
       "<style scoped>\n",
       "    .dataframe tbody tr th:only-of-type {\n",
       "        vertical-align: middle;\n",
       "    }\n",
       "\n",
       "    .dataframe tbody tr th {\n",
       "        vertical-align: top;\n",
       "    }\n",
       "\n",
       "    .dataframe thead th {\n",
       "        text-align: right;\n",
       "    }\n",
       "</style>\n",
       "<table border=\"1\" class=\"dataframe\">\n",
       "  <thead>\n",
       "    <tr style=\"text-align: right;\">\n",
       "      <th></th>\n",
       "      <th>index_x</th>\n",
       "      <th>user</th>\n",
       "      <th>index_y</th>\n",
       "      <th>tag</th>\n",
       "    </tr>\n",
       "  </thead>\n",
       "  <tbody>\n",
       "  </tbody>\n",
       "</table>\n",
       "</div>"
      ],
      "text/plain": [
       "Empty DataFrame\n",
       "Columns: [index_x, user, index_y, tag]\n",
       "Index: []"
      ]
     },
     "execution_count": 93,
     "metadata": {},
     "output_type": "execute_result"
    }
   ],
   "source": [
    "mltag_intersection_user_tag = pd.merge(mltag_user_part, mltag_tag_part,\n",
    "                                         how=\"inner\", left_on=\"user\", right_on=\"tag\")\n",
    "\n",
    "print(mltag_intersection_user_tag.shape)\n",
    "mltag_intersection_user_tag"
   ]
  },
  {
   "cell_type": "code",
   "execution_count": 94,
   "metadata": {},
   "outputs": [
    {
     "name": "stdout",
     "output_type": "stream",
     "text": [
      "(0, 4)\n"
     ]
    },
    {
     "data": {
      "text/html": [
       "<div>\n",
       "<style scoped>\n",
       "    .dataframe tbody tr th:only-of-type {\n",
       "        vertical-align: middle;\n",
       "    }\n",
       "\n",
       "    .dataframe tbody tr th {\n",
       "        vertical-align: top;\n",
       "    }\n",
       "\n",
       "    .dataframe thead th {\n",
       "        text-align: right;\n",
       "    }\n",
       "</style>\n",
       "<table border=\"1\" class=\"dataframe\">\n",
       "  <thead>\n",
       "    <tr style=\"text-align: right;\">\n",
       "      <th></th>\n",
       "      <th>index_x</th>\n",
       "      <th>movie</th>\n",
       "      <th>index_y</th>\n",
       "      <th>tag</th>\n",
       "    </tr>\n",
       "  </thead>\n",
       "  <tbody>\n",
       "  </tbody>\n",
       "</table>\n",
       "</div>"
      ],
      "text/plain": [
       "Empty DataFrame\n",
       "Columns: [index_x, movie, index_y, tag]\n",
       "Index: []"
      ]
     },
     "execution_count": 94,
     "metadata": {},
     "output_type": "execute_result"
    }
   ],
   "source": [
    "mltag_intersection_movie_tag = pd.merge(mltag_movie_part, mltag_tag_part,\n",
    "                                         how=\"inner\", left_on=\"movie\", right_on=\"tag\")\n",
    "\n",
    "print(mltag_intersection_movie_tag.shape)\n",
    "mltag_intersection_movie_tag"
   ]
  },
  {
   "cell_type": "markdown",
   "metadata": {},
   "source": [
    "### Check negative sample distribution"
   ]
  },
  {
   "cell_type": "code",
   "execution_count": 105,
   "metadata": {},
   "outputs": [
    {
     "name": "stdout",
     "output_type": "stream",
     "text": [
      "-1.0    936923\n",
      " 1.0    467878\n",
      "Name: value, dtype: int64\n",
      "-1.0    267147\n",
      " 1.0    134225\n",
      "Name: value, dtype: int64\n",
      "-1.0    133836\n",
      " 1.0     66850\n",
      "Name: value, dtype: int64\n"
     ]
    }
   ],
   "source": [
    "print(df_mltag_train[\"value\"].value_counts())\n",
    "print(df_mltag_validation[\"value\"].value_counts())\n",
    "print(df_mltag_test[\"value\"].value_counts())"
   ]
  },
  {
   "cell_type": "markdown",
   "metadata": {},
   "source": [
    "## Re-label features"
   ]
  },
  {
   "cell_type": "code",
   "execution_count": 95,
   "metadata": {},
   "outputs": [
    {
     "name": "stdout",
     "output_type": "stream",
     "text": [
      "user: (17045,) items\n",
      "movie: (23743,) items\n",
      "tag: (49657,) items\n"
     ]
    }
   ],
   "source": [
    "mltag_labelencoders = dict()\n",
    "for column in mltag_names:\n",
    "    mltag_labelencoders[column] = sklearn.preprocessing.LabelEncoder().fit(df_mltag[column])\n",
    "    print(\"{0}: {1} items\".format(column, mltag_labelencoders[column].classes_.shape))\n"
   ]
  },
  {
   "cell_type": "code",
   "execution_count": 96,
   "metadata": {},
   "outputs": [
    {
     "name": "stdout",
     "output_type": "stream",
     "text": [
      "(1404801, 4)\n"
     ]
    },
    {
     "data": {
      "text/html": [
       "<div>\n",
       "<style scoped>\n",
       "    .dataframe tbody tr th:only-of-type {\n",
       "        vertical-align: middle;\n",
       "    }\n",
       "\n",
       "    .dataframe tbody tr th {\n",
       "        vertical-align: top;\n",
       "    }\n",
       "\n",
       "    .dataframe thead th {\n",
       "        text-align: right;\n",
       "    }\n",
       "</style>\n",
       "<table border=\"1\" class=\"dataframe\">\n",
       "  <thead>\n",
       "    <tr style=\"text-align: right;\">\n",
       "      <th></th>\n",
       "      <th>value</th>\n",
       "      <th>user</th>\n",
       "      <th>movie</th>\n",
       "      <th>tag</th>\n",
       "    </tr>\n",
       "  </thead>\n",
       "  <tbody>\n",
       "    <tr>\n",
       "      <th>0</th>\n",
       "      <td>-1.0</td>\n",
       "      <td>12787</td>\n",
       "      <td>9</td>\n",
       "      <td>34560</td>\n",
       "    </tr>\n",
       "    <tr>\n",
       "      <th>1</th>\n",
       "      <td>-1.0</td>\n",
       "      <td>14883</td>\n",
       "      <td>1000</td>\n",
       "      <td>19989</td>\n",
       "    </tr>\n",
       "    <tr>\n",
       "      <th>2</th>\n",
       "      <td>-1.0</td>\n",
       "      <td>11053</td>\n",
       "      <td>1790</td>\n",
       "      <td>39394</td>\n",
       "    </tr>\n",
       "    <tr>\n",
       "      <th>3</th>\n",
       "      <td>1.0</td>\n",
       "      <td>12471</td>\n",
       "      <td>22380</td>\n",
       "      <td>29445</td>\n",
       "    </tr>\n",
       "    <tr>\n",
       "      <th>4</th>\n",
       "      <td>-1.0</td>\n",
       "      <td>5152</td>\n",
       "      <td>7284</td>\n",
       "      <td>13109</td>\n",
       "    </tr>\n",
       "  </tbody>\n",
       "</table>\n",
       "</div>"
      ],
      "text/plain": [
       "   value   user  movie    tag\n",
       "0   -1.0  12787      9  34560\n",
       "1   -1.0  14883   1000  19989\n",
       "2   -1.0  11053   1790  39394\n",
       "3    1.0  12471  22380  29445\n",
       "4   -1.0   5152   7284  13109"
      ]
     },
     "execution_count": 96,
     "metadata": {},
     "output_type": "execute_result"
    }
   ],
   "source": [
    "relabeled_mltag_train_data = {\"value\": df_mltag_train[\"value\"]}\n",
    "for column in mltag_names:\n",
    "    relabeled_mltag_train_data[column] = mltag_labelencoders[column].transform(df_mltag_train[column])\n",
    "relabeled_mltag_train_columns = [\"value\"] + mltag_names\n",
    "\n",
    "relabeled_mltag_train = pd.DataFrame(relabeled_mltag_train_data, columns=relabeled_mltag_train_columns)\n",
    "print(relabeled_mltag_train.shape)\n",
    "relabeled_mltag_train.head()"
   ]
  },
  {
   "cell_type": "code",
   "execution_count": 97,
   "metadata": {},
   "outputs": [
    {
     "name": "stdout",
     "output_type": "stream",
     "text": [
      "(401372, 4)\n"
     ]
    },
    {
     "data": {
      "text/html": [
       "<div>\n",
       "<style scoped>\n",
       "    .dataframe tbody tr th:only-of-type {\n",
       "        vertical-align: middle;\n",
       "    }\n",
       "\n",
       "    .dataframe tbody tr th {\n",
       "        vertical-align: top;\n",
       "    }\n",
       "\n",
       "    .dataframe thead th {\n",
       "        text-align: right;\n",
       "    }\n",
       "</style>\n",
       "<table border=\"1\" class=\"dataframe\">\n",
       "  <thead>\n",
       "    <tr style=\"text-align: right;\">\n",
       "      <th></th>\n",
       "      <th>value</th>\n",
       "      <th>user</th>\n",
       "      <th>movie</th>\n",
       "      <th>tag</th>\n",
       "    </tr>\n",
       "  </thead>\n",
       "  <tbody>\n",
       "    <tr>\n",
       "      <th>0</th>\n",
       "      <td>-1.0</td>\n",
       "      <td>14183</td>\n",
       "      <td>4546</td>\n",
       "      <td>22935</td>\n",
       "    </tr>\n",
       "    <tr>\n",
       "      <th>1</th>\n",
       "      <td>-1.0</td>\n",
       "      <td>2554</td>\n",
       "      <td>1627</td>\n",
       "      <td>30288</td>\n",
       "    </tr>\n",
       "    <tr>\n",
       "      <th>2</th>\n",
       "      <td>-1.0</td>\n",
       "      <td>16451</td>\n",
       "      <td>16492</td>\n",
       "      <td>19519</td>\n",
       "    </tr>\n",
       "    <tr>\n",
       "      <th>3</th>\n",
       "      <td>-1.0</td>\n",
       "      <td>7144</td>\n",
       "      <td>12993</td>\n",
       "      <td>15770</td>\n",
       "    </tr>\n",
       "    <tr>\n",
       "      <th>4</th>\n",
       "      <td>-1.0</td>\n",
       "      <td>36</td>\n",
       "      <td>883</td>\n",
       "      <td>7738</td>\n",
       "    </tr>\n",
       "  </tbody>\n",
       "</table>\n",
       "</div>"
      ],
      "text/plain": [
       "   value   user  movie    tag\n",
       "0   -1.0  14183   4546  22935\n",
       "1   -1.0   2554   1627  30288\n",
       "2   -1.0  16451  16492  19519\n",
       "3   -1.0   7144  12993  15770\n",
       "4   -1.0     36    883   7738"
      ]
     },
     "execution_count": 97,
     "metadata": {},
     "output_type": "execute_result"
    }
   ],
   "source": [
    "relabeled_mltag_validation_data = {\"value\": df_mltag_validation[\"value\"]}\n",
    "for column in mltag_names:\n",
    "    relabeled_mltag_validation_data[column] = mltag_labelencoders[column].transform(df_mltag_validation[column])\n",
    "relabeled_mltag_validation_columns = [\"value\"] + mltag_names\n",
    "\n",
    "relabeled_mltag_validation = pd.DataFrame(relabeled_mltag_validation_data, columns=relabeled_mltag_validation_columns)\n",
    "print(relabeled_mltag_validation.shape)\n",
    "relabeled_mltag_validation.head()"
   ]
  },
  {
   "cell_type": "code",
   "execution_count": 98,
   "metadata": {
    "scrolled": true
   },
   "outputs": [
    {
     "name": "stdout",
     "output_type": "stream",
     "text": [
      "(200686, 4)\n"
     ]
    },
    {
     "data": {
      "text/html": [
       "<div>\n",
       "<style scoped>\n",
       "    .dataframe tbody tr th:only-of-type {\n",
       "        vertical-align: middle;\n",
       "    }\n",
       "\n",
       "    .dataframe tbody tr th {\n",
       "        vertical-align: top;\n",
       "    }\n",
       "\n",
       "    .dataframe thead th {\n",
       "        text-align: right;\n",
       "    }\n",
       "</style>\n",
       "<table border=\"1\" class=\"dataframe\">\n",
       "  <thead>\n",
       "    <tr style=\"text-align: right;\">\n",
       "      <th></th>\n",
       "      <th>value</th>\n",
       "      <th>user</th>\n",
       "      <th>movie</th>\n",
       "      <th>tag</th>\n",
       "    </tr>\n",
       "  </thead>\n",
       "  <tbody>\n",
       "    <tr>\n",
       "      <th>0</th>\n",
       "      <td>-1.0</td>\n",
       "      <td>1617</td>\n",
       "      <td>448</td>\n",
       "      <td>32856</td>\n",
       "    </tr>\n",
       "    <tr>\n",
       "      <th>1</th>\n",
       "      <td>-1.0</td>\n",
       "      <td>4917</td>\n",
       "      <td>8927</td>\n",
       "      <td>26109</td>\n",
       "    </tr>\n",
       "    <tr>\n",
       "      <th>2</th>\n",
       "      <td>-1.0</td>\n",
       "      <td>16003</td>\n",
       "      <td>8345</td>\n",
       "      <td>40544</td>\n",
       "    </tr>\n",
       "    <tr>\n",
       "      <th>3</th>\n",
       "      <td>1.0</td>\n",
       "      <td>3120</td>\n",
       "      <td>931</td>\n",
       "      <td>3340</td>\n",
       "    </tr>\n",
       "    <tr>\n",
       "      <th>4</th>\n",
       "      <td>-1.0</td>\n",
       "      <td>11880</td>\n",
       "      <td>7075</td>\n",
       "      <td>42837</td>\n",
       "    </tr>\n",
       "  </tbody>\n",
       "</table>\n",
       "</div>"
      ],
      "text/plain": [
       "   value   user  movie    tag\n",
       "0   -1.0   1617    448  32856\n",
       "1   -1.0   4917   8927  26109\n",
       "2   -1.0  16003   8345  40544\n",
       "3    1.0   3120    931   3340\n",
       "4   -1.0  11880   7075  42837"
      ]
     },
     "execution_count": 98,
     "metadata": {},
     "output_type": "execute_result"
    }
   ],
   "source": [
    "relabeled_mltag_test_data = {\"value\": df_mltag_test[\"value\"]}\n",
    "for column in mltag_names:\n",
    "    relabeled_mltag_test_data[column] = mltag_labelencoders[column].transform(df_mltag_test[column])\n",
    "relabeled_mltag_test_columns = [\"value\"] + mltag_names\n",
    "\n",
    "relabeled_mltag_test = pd.DataFrame(relabeled_mltag_test_data, columns=relabeled_mltag_test_columns)\n",
    "print(relabeled_mltag_test.shape)\n",
    "relabeled_mltag_test.head()"
   ]
  },
  {
   "cell_type": "markdown",
   "metadata": {},
   "source": [
    "## Save as DeepCTR-compatible format"
   ]
  },
  {
   "cell_type": "code",
   "execution_count": 101,
   "metadata": {},
   "outputs": [],
   "source": [
    "relabeled_mltag_train.to_csv(os.path.join(OUT_MLTAG_DIR, \"deepctr2.train.tsv\"), sep='\\t',\n",
    "                              index=False)"
   ]
  },
  {
   "cell_type": "code",
   "execution_count": 102,
   "metadata": {},
   "outputs": [],
   "source": [
    "relabeled_mltag_validation.to_csv(os.path.join(OUT_MLTAG_DIR, \"deepctr2.validation.tsv\"), sep='\\t',\n",
    "                                  index=False)"
   ]
  },
  {
   "cell_type": "code",
   "execution_count": 103,
   "metadata": {},
   "outputs": [],
   "source": [
    "relabeled_mltag_test.to_csv(os.path.join(OUT_MLTAG_DIR, \"deepctr2.test.tsv\"), sep='\\t',\n",
    "                            index=False)"
   ]
  }
 ],
 "metadata": {
  "kernelspec": {
   "display_name": "Python 3",
   "language": "python",
   "name": "python3"
  },
  "language_info": {
   "codemirror_mode": {
    "name": "ipython",
    "version": 3
   },
   "file_extension": ".py",
   "mimetype": "text/x-python",
   "name": "python",
   "nbconvert_exporter": "python",
   "pygments_lexer": "ipython3",
   "version": "3.7.5"
  },
  "toc": {
   "base_numbering": 1,
   "nav_menu": {},
   "number_sections": true,
   "sideBar": true,
   "skip_h1_title": false,
   "title_cell": "Table of Contents",
   "title_sidebar": "Contents",
   "toc_cell": false,
   "toc_position": {
    "height": "calc(100% - 180px)",
    "left": "10px",
    "top": "150px",
    "width": "288px"
   },
   "toc_section_display": true,
   "toc_window_display": true
  }
 },
 "nbformat": 4,
 "nbformat_minor": 2
}
