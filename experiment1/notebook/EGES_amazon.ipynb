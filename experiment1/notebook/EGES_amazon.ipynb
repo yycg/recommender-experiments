{
 "cells": [
  {
   "cell_type": "code",
   "execution_count": null,
   "metadata": {},
   "outputs": [],
   "source": [
    "import pandas as pd\n",
    "import numpy as np\n",
    "import tensorflow as tf\n",
    "import time\n",
    "import argparse\n",
    "from EGES_model import EGES_Model\n",
    "from utils import *"
   ]
  },
  {
   "cell_type": "code",
   "execution_count": null,
   "metadata": {},
   "outputs": [],
   "source": [
    "batch_size = 2048\n",
    "n_sampled = 10\n",
    "epochs = 1\n",
    "lr = 0.001\n",
    "root_path = '../../../data/amazon/'\n",
    "parser.add_argument(\"--num_feat\", type=int, default=4)\n",
    "parser.add_argument(\"--embedding_dim\", type=int, default=128)\n",
    "parser.add_argument(\"--outputEmbedFile\", type=str, default='../../../data/amazon/embedding/EGES.embed')"
   ]
  }
 ],
 "metadata": {
  "kernelspec": {
   "display_name": "Python 3",
   "language": "python",
   "name": "python3"
  },
  "language_info": {
   "codemirror_mode": {
    "name": "ipython",
    "version": 3
   },
   "file_extension": ".py",
   "mimetype": "text/x-python",
   "name": "python",
   "nbconvert_exporter": "python",
   "pygments_lexer": "ipython3",
   "version": "3.7.1"
  }
 },
 "nbformat": 4,
 "nbformat_minor": 4
}
